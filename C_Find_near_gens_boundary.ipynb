{
 "cells": [
  {
   "cell_type": "markdown",
   "id": "2360190b",
   "metadata": {},
   "source": [
    "# Enter missing gene and sample name and s or e for start or end gene, and get the nearest gene in the ref and the sample, and append it to the old .csv"
   ]
  },
  {
   "cell_type": "code",
   "execution_count": 38,
   "id": "2ade3a57",
   "metadata": {},
   "outputs": [],
   "source": [
    "import pandas as pd"
   ]
  },
  {
   "cell_type": "code",
   "execution_count": 39,
   "id": "811a13ee",
   "metadata": {},
   "outputs": [],
   "source": [
    "missing_gene='FBgn0011655'\n",
    "start_end ='e'   # put s or e for start or end\n",
    "file='T29A'    #put the name of the file, without extension"
   ]
  },
  {
   "cell_type": "code",
   "execution_count": 41,
   "id": "b035b1d8",
   "metadata": {},
   "outputs": [],
   "source": [
    "df_ref= pd.read_csv('dmel-all-r6.31.gtf', sep='\\t')"
   ]
  },
  {
   "cell_type": "code",
   "execution_count": 42,
   "id": "32d801e8",
   "metadata": {},
   "outputs": [],
   "source": [
    "df_ref.columns=['seqname','source','feature','start','end','Xscore','strand','Xframe','attributes']"
   ]
  },
  {
   "cell_type": "code",
   "execution_count": 43,
   "id": "75da7e91",
   "metadata": {},
   "outputs": [],
   "source": [
    "df_ref.drop(df_ref[df_ref.feature != 'gene'].index, inplace=True)"
   ]
  },
  {
   "cell_type": "code",
   "execution_count": 44,
   "id": "f6fe8692",
   "metadata": {},
   "outputs": [],
   "source": [
    "df_ref[\"gene id\"] = [x.replace(\"gene_id\",\"\").replace('\"',\"\").strip() for z in df_ref.attributes.str.split(\";\").tolist() for x in z if \"gene_id\" in x]"
   ]
  },
  {
   "cell_type": "code",
   "execution_count": 45,
   "id": "d13dec66",
   "metadata": {},
   "outputs": [],
   "source": [
    "df_ref= df_ref.drop(['source','attributes','Xscore','Xframe'], axis=1)"
   ]
  },
  {
   "cell_type": "code",
   "execution_count": 46,
   "id": "32750f20",
   "metadata": {},
   "outputs": [],
   "source": [
    "df_ref = df_ref.drop(df_ref[~df_ref['seqname'].isin(['X', '3L','3R', '2L','2R','4'])].index)"
   ]
  },
  {
   "cell_type": "code",
   "execution_count": 47,
   "id": "196ab5c1",
   "metadata": {},
   "outputs": [],
   "source": [
    "df_ref.reset_index(drop=True, inplace=True)"
   ]
  },
  {
   "cell_type": "code",
   "execution_count": 48,
   "id": "ef85ee0b",
   "metadata": {},
   "outputs": [
    {
     "data": {
      "text/html": [
       "<div>\n",
       "<style scoped>\n",
       "    .dataframe tbody tr th:only-of-type {\n",
       "        vertical-align: middle;\n",
       "    }\n",
       "\n",
       "    .dataframe tbody tr th {\n",
       "        vertical-align: top;\n",
       "    }\n",
       "\n",
       "    .dataframe thead th {\n",
       "        text-align: right;\n",
       "    }\n",
       "</style>\n",
       "<table border=\"1\" class=\"dataframe\">\n",
       "  <thead>\n",
       "    <tr style=\"text-align: right;\">\n",
       "      <th></th>\n",
       "      <th>seqname</th>\n",
       "      <th>feature</th>\n",
       "      <th>start</th>\n",
       "      <th>end</th>\n",
       "      <th>strand</th>\n",
       "      <th>gene id</th>\n",
       "    </tr>\n",
       "  </thead>\n",
       "  <tbody>\n",
       "    <tr>\n",
       "      <th>0</th>\n",
       "      <td>X</td>\n",
       "      <td>gene</td>\n",
       "      <td>20025099</td>\n",
       "      <td>20025170</td>\n",
       "      <td>+</td>\n",
       "      <td>FBgn0052826</td>\n",
       "    </tr>\n",
       "    <tr>\n",
       "      <th>1</th>\n",
       "      <td>X</td>\n",
       "      <td>gene</td>\n",
       "      <td>20051294</td>\n",
       "      <td>20052519</td>\n",
       "      <td>+</td>\n",
       "      <td>FBgn0031085</td>\n",
       "    </tr>\n",
       "    <tr>\n",
       "      <th>2</th>\n",
       "      <td>X</td>\n",
       "      <td>gene</td>\n",
       "      <td>20094398</td>\n",
       "      <td>20095767</td>\n",
       "      <td>+</td>\n",
       "      <td>FBgn0062565</td>\n",
       "    </tr>\n",
       "    <tr>\n",
       "      <th>3</th>\n",
       "      <td>X</td>\n",
       "      <td>gene</td>\n",
       "      <td>20133579</td>\n",
       "      <td>20138878</td>\n",
       "      <td>+</td>\n",
       "      <td>FBgn0031088</td>\n",
       "    </tr>\n",
       "    <tr>\n",
       "      <th>4</th>\n",
       "      <td>X</td>\n",
       "      <td>gene</td>\n",
       "      <td>20141819</td>\n",
       "      <td>20143188</td>\n",
       "      <td>-</td>\n",
       "      <td>FBgn0041626</td>\n",
       "    </tr>\n",
       "    <tr>\n",
       "      <th>...</th>\n",
       "      <td>...</td>\n",
       "      <td>...</td>\n",
       "      <td>...</td>\n",
       "      <td>...</td>\n",
       "      <td>...</td>\n",
       "      <td>...</td>\n",
       "    </tr>\n",
       "    <tr>\n",
       "      <th>17629</th>\n",
       "      <td>2L</td>\n",
       "      <td>gene</td>\n",
       "      <td>860197</td>\n",
       "      <td>861806</td>\n",
       "      <td>+</td>\n",
       "      <td>FBgn0031289</td>\n",
       "    </tr>\n",
       "    <tr>\n",
       "      <th>17630</th>\n",
       "      <td>2L</td>\n",
       "      <td>gene</td>\n",
       "      <td>877302</td>\n",
       "      <td>878270</td>\n",
       "      <td>+</td>\n",
       "      <td>FBgn0002936</td>\n",
       "    </tr>\n",
       "    <tr>\n",
       "      <th>17631</th>\n",
       "      <td>2L</td>\n",
       "      <td>gene</td>\n",
       "      <td>898500</td>\n",
       "      <td>901316</td>\n",
       "      <td>+</td>\n",
       "      <td>FBgn0002563</td>\n",
       "    </tr>\n",
       "    <tr>\n",
       "      <th>17632</th>\n",
       "      <td>2L</td>\n",
       "      <td>gene</td>\n",
       "      <td>914086</td>\n",
       "      <td>917805</td>\n",
       "      <td>+</td>\n",
       "      <td>FBgn0046113</td>\n",
       "    </tr>\n",
       "    <tr>\n",
       "      <th>17633</th>\n",
       "      <td>2L</td>\n",
       "      <td>gene</td>\n",
       "      <td>901491</td>\n",
       "      <td>901654</td>\n",
       "      <td>-</td>\n",
       "      <td>FBgn0003916</td>\n",
       "    </tr>\n",
       "  </tbody>\n",
       "</table>\n",
       "<p>17634 rows × 6 columns</p>\n",
       "</div>"
      ],
      "text/plain": [
       "      seqname feature     start       end strand      gene id\n",
       "0           X    gene  20025099  20025170      +  FBgn0052826\n",
       "1           X    gene  20051294  20052519      +  FBgn0031085\n",
       "2           X    gene  20094398  20095767      +  FBgn0062565\n",
       "3           X    gene  20133579  20138878      +  FBgn0031088\n",
       "4           X    gene  20141819  20143188      -  FBgn0041626\n",
       "...       ...     ...       ...       ...    ...          ...\n",
       "17629      2L    gene    860197    861806      +  FBgn0031289\n",
       "17630      2L    gene    877302    878270      +  FBgn0002936\n",
       "17631      2L    gene    898500    901316      +  FBgn0002563\n",
       "17632      2L    gene    914086    917805      +  FBgn0046113\n",
       "17633      2L    gene    901491    901654      -  FBgn0003916\n",
       "\n",
       "[17634 rows x 6 columns]"
      ]
     },
     "execution_count": 48,
     "metadata": {},
     "output_type": "execute_result"
    }
   ],
   "source": [
    "df_ref"
   ]
  },
  {
   "cell_type": "markdown",
   "id": "9bedd7f2",
   "metadata": {},
   "source": [
    "# Enter Missing Gene: ref"
   ]
  },
  {
   "cell_type": "code",
   "execution_count": 49,
   "id": "6dfd334c",
   "metadata": {},
   "outputs": [
    {
     "data": {
      "text/html": [
       "<div>\n",
       "<style scoped>\n",
       "    .dataframe tbody tr th:only-of-type {\n",
       "        vertical-align: middle;\n",
       "    }\n",
       "\n",
       "    .dataframe tbody tr th {\n",
       "        vertical-align: top;\n",
       "    }\n",
       "\n",
       "    .dataframe thead th {\n",
       "        text-align: right;\n",
       "    }\n",
       "</style>\n",
       "<table border=\"1\" class=\"dataframe\">\n",
       "  <thead>\n",
       "    <tr style=\"text-align: right;\">\n",
       "      <th></th>\n",
       "      <th>seqname</th>\n",
       "      <th>feature</th>\n",
       "      <th>start</th>\n",
       "      <th>end</th>\n",
       "      <th>strand</th>\n",
       "      <th>gene id</th>\n",
       "    </tr>\n",
       "  </thead>\n",
       "  <tbody>\n",
       "    <tr>\n",
       "      <th>7842</th>\n",
       "      <td>3R</td>\n",
       "      <td>gene</td>\n",
       "      <td>31611046</td>\n",
       "      <td>31615375</td>\n",
       "      <td>+</td>\n",
       "      <td>FBgn0011655</td>\n",
       "    </tr>\n",
       "  </tbody>\n",
       "</table>\n",
       "</div>"
      ],
      "text/plain": [
       "     seqname feature     start       end strand      gene id\n",
       "7842      3R    gene  31611046  31615375      +  FBgn0011655"
      ]
     },
     "execution_count": 49,
     "metadata": {},
     "output_type": "execute_result"
    }
   ],
   "source": [
    "missing_gene_info = df_ref.loc[(df_ref['gene id'] == missing_gene)]\n",
    "missing_gene_info\n"
   ]
  },
  {
   "cell_type": "code",
   "execution_count": 50,
   "id": "81862d1f",
   "metadata": {},
   "outputs": [],
   "source": [
    "chrom = missing_gene_info['seqname'].item()"
   ]
  },
  {
   "cell_type": "code",
   "execution_count": 51,
   "id": "1002389f",
   "metadata": {},
   "outputs": [],
   "source": [
    "df_ref.sort_values(by='start', inplace=True)"
   ]
  },
  {
   "cell_type": "code",
   "execution_count": 52,
   "id": "6177c6a3",
   "metadata": {},
   "outputs": [
    {
     "data": {
      "text/html": [
       "<div>\n",
       "<style scoped>\n",
       "    .dataframe tbody tr th:only-of-type {\n",
       "        vertical-align: middle;\n",
       "    }\n",
       "\n",
       "    .dataframe tbody tr th {\n",
       "        vertical-align: top;\n",
       "    }\n",
       "\n",
       "    .dataframe thead th {\n",
       "        text-align: right;\n",
       "    }\n",
       "</style>\n",
       "<table border=\"1\" class=\"dataframe\">\n",
       "  <thead>\n",
       "    <tr style=\"text-align: right;\">\n",
       "      <th></th>\n",
       "      <th>seqname</th>\n",
       "      <th>feature</th>\n",
       "      <th>start</th>\n",
       "      <th>end</th>\n",
       "      <th>strand</th>\n",
       "      <th>gene id</th>\n",
       "    </tr>\n",
       "  </thead>\n",
       "  <tbody>\n",
       "    <tr>\n",
       "      <th>13856</th>\n",
       "      <td>4</td>\n",
       "      <td>gene</td>\n",
       "      <td>879</td>\n",
       "      <td>5039</td>\n",
       "      <td>+</td>\n",
       "      <td>FBgn0267363</td>\n",
       "    </tr>\n",
       "    <tr>\n",
       "      <th>7175</th>\n",
       "      <td>4</td>\n",
       "      <td>gene</td>\n",
       "      <td>5829</td>\n",
       "      <td>11765</td>\n",
       "      <td>-</td>\n",
       "      <td>FBgn0052011</td>\n",
       "    </tr>\n",
       "    <tr>\n",
       "      <th>7194</th>\n",
       "      <td>2L</td>\n",
       "      <td>gene</td>\n",
       "      <td>7529</td>\n",
       "      <td>9484</td>\n",
       "      <td>+</td>\n",
       "      <td>FBgn0031208</td>\n",
       "    </tr>\n",
       "    <tr>\n",
       "      <th>579</th>\n",
       "      <td>2L</td>\n",
       "      <td>gene</td>\n",
       "      <td>9839</td>\n",
       "      <td>21376</td>\n",
       "      <td>-</td>\n",
       "      <td>FBgn0002121</td>\n",
       "    </tr>\n",
       "    <tr>\n",
       "      <th>7174</th>\n",
       "      <td>4</td>\n",
       "      <td>gene</td>\n",
       "      <td>12640</td>\n",
       "      <td>25054</td>\n",
       "      <td>-</td>\n",
       "      <td>FBgn0052010</td>\n",
       "    </tr>\n",
       "    <tr>\n",
       "      <th>...</th>\n",
       "      <td>...</td>\n",
       "      <td>...</td>\n",
       "      <td>...</td>\n",
       "      <td>...</td>\n",
       "      <td>...</td>\n",
       "      <td>...</td>\n",
       "    </tr>\n",
       "    <tr>\n",
       "      <th>14591</th>\n",
       "      <td>3R</td>\n",
       "      <td>gene</td>\n",
       "      <td>32023064</td>\n",
       "      <td>32023483</td>\n",
       "      <td>+</td>\n",
       "      <td>FBgn0286918</td>\n",
       "    </tr>\n",
       "    <tr>\n",
       "      <th>4974</th>\n",
       "      <td>3R</td>\n",
       "      <td>gene</td>\n",
       "      <td>32038330</td>\n",
       "      <td>32039753</td>\n",
       "      <td>+</td>\n",
       "      <td>FBgn0039887</td>\n",
       "    </tr>\n",
       "    <tr>\n",
       "      <th>4977</th>\n",
       "      <td>3R</td>\n",
       "      <td>gene</td>\n",
       "      <td>32045314</td>\n",
       "      <td>32051993</td>\n",
       "      <td>-</td>\n",
       "      <td>FBgn0040206</td>\n",
       "    </tr>\n",
       "    <tr>\n",
       "      <th>4975</th>\n",
       "      <td>3R</td>\n",
       "      <td>gene</td>\n",
       "      <td>32052060</td>\n",
       "      <td>32054974</td>\n",
       "      <td>+</td>\n",
       "      <td>FBgn0002780</td>\n",
       "    </tr>\n",
       "    <tr>\n",
       "      <th>4976</th>\n",
       "      <td>3R</td>\n",
       "      <td>gene</td>\n",
       "      <td>32055279</td>\n",
       "      <td>32068441</td>\n",
       "      <td>-</td>\n",
       "      <td>FBgn0002645</td>\n",
       "    </tr>\n",
       "  </tbody>\n",
       "</table>\n",
       "<p>17634 rows × 6 columns</p>\n",
       "</div>"
      ],
      "text/plain": [
       "      seqname feature     start       end strand      gene id\n",
       "13856       4    gene       879      5039      +  FBgn0267363\n",
       "7175        4    gene      5829     11765      -  FBgn0052011\n",
       "7194       2L    gene      7529      9484      +  FBgn0031208\n",
       "579        2L    gene      9839     21376      -  FBgn0002121\n",
       "7174        4    gene     12640     25054      -  FBgn0052010\n",
       "...       ...     ...       ...       ...    ...          ...\n",
       "14591      3R    gene  32023064  32023483      +  FBgn0286918\n",
       "4974       3R    gene  32038330  32039753      +  FBgn0039887\n",
       "4977       3R    gene  32045314  32051993      -  FBgn0040206\n",
       "4975       3R    gene  32052060  32054974      +  FBgn0002780\n",
       "4976       3R    gene  32055279  32068441      -  FBgn0002645\n",
       "\n",
       "[17634 rows x 6 columns]"
      ]
     },
     "execution_count": 52,
     "metadata": {},
     "output_type": "execute_result"
    }
   ],
   "source": [
    "df_ref"
   ]
  },
  {
   "cell_type": "code",
   "execution_count": 53,
   "id": "33aba781",
   "metadata": {},
   "outputs": [],
   "source": [
    "if start_end =='s':\n",
    "    missing_gene_coordinate = missing_gene_info['start'].item()\n",
    "    nearest_gene_ref = df_ref[(df_ref.start > missing_gene_coordinate) & (df_ref.seqname == chrom)].iloc[0]\n",
    "else:\n",
    "    missing_gene_coordinate = missing_gene_info['end'].item()\n",
    "    nearest_gene_ref = df_ref[(df_ref.end < missing_gene_coordinate) & (df_ref.seqname == chrom)].iloc[-1]\n"
   ]
  },
  {
   "cell_type": "code",
   "execution_count": 54,
   "id": "00f8250e",
   "metadata": {},
   "outputs": [
    {
     "data": {
      "text/plain": [
       "seqname             3R\n",
       "feature           gene\n",
       "start         31596642\n",
       "end           31612664\n",
       "strand               -\n",
       "gene id    FBgn0039858\n",
       "Name: 4938, dtype: object"
      ]
     },
     "execution_count": 54,
     "metadata": {},
     "output_type": "execute_result"
    }
   ],
   "source": [
    "nearest_gene_ref"
   ]
  },
  {
   "cell_type": "code",
   "execution_count": 55,
   "id": "64bb9c6a",
   "metadata": {},
   "outputs": [],
   "source": [
    "gene_id_ref =nearest_gene_ref['gene id']\n",
    "gene_seqname_ref =nearest_gene_ref['seqname']\n",
    "gene_coordinate_ref1=nearest_gene_ref['start']\n",
    "gene_coordinate_ref2=nearest_gene_ref['end']"
   ]
  },
  {
   "cell_type": "code",
   "execution_count": null,
   "id": "c443a5ec",
   "metadata": {},
   "outputs": [],
   "source": []
  },
  {
   "cell_type": "markdown",
   "id": "9f776e8c",
   "metadata": {},
   "source": [
    "# Nearest gene in sample: set up new file"
   ]
  },
  {
   "cell_type": "code",
   "execution_count": 56,
   "id": "7587b274",
   "metadata": {},
   "outputs": [],
   "source": [
    "df= pd.read_csv(f'{file}_liftoff', sep='\\t', header=None)"
   ]
  },
  {
   "cell_type": "code",
   "execution_count": 57,
   "id": "53cd3b82",
   "metadata": {},
   "outputs": [
    {
     "data": {
      "text/html": [
       "<div>\n",
       "<style scoped>\n",
       "    .dataframe tbody tr th:only-of-type {\n",
       "        vertical-align: middle;\n",
       "    }\n",
       "\n",
       "    .dataframe tbody tr th {\n",
       "        vertical-align: top;\n",
       "    }\n",
       "\n",
       "    .dataframe thead th {\n",
       "        text-align: right;\n",
       "    }\n",
       "</style>\n",
       "<table border=\"1\" class=\"dataframe\">\n",
       "  <thead>\n",
       "    <tr style=\"text-align: right;\">\n",
       "      <th></th>\n",
       "      <th>0</th>\n",
       "      <th>1</th>\n",
       "      <th>2</th>\n",
       "      <th>3</th>\n",
       "      <th>4</th>\n",
       "      <th>5</th>\n",
       "      <th>6</th>\n",
       "      <th>7</th>\n",
       "      <th>8</th>\n",
       "    </tr>\n",
       "  </thead>\n",
       "  <tbody>\n",
       "    <tr>\n",
       "      <th>0</th>\n",
       "      <td>2L</td>\n",
       "      <td>Liftoff</td>\n",
       "      <td>gene</td>\n",
       "      <td>32969</td>\n",
       "      <td>34924</td>\n",
       "      <td>.</td>\n",
       "      <td>+</td>\n",
       "      <td>.</td>\n",
       "      <td>gene_id \"FBgn0031208\"; gene_symbol \"CR11023\"; ...</td>\n",
       "    </tr>\n",
       "    <tr>\n",
       "      <th>1</th>\n",
       "      <td>2L</td>\n",
       "      <td>Liftoff</td>\n",
       "      <td>exon</td>\n",
       "      <td>32969</td>\n",
       "      <td>33556</td>\n",
       "      <td>.</td>\n",
       "      <td>+</td>\n",
       "      <td>.</td>\n",
       "      <td>gene_id \"FBgn0031208\"; gene_symbol \"CR11023\"; ...</td>\n",
       "    </tr>\n",
       "    <tr>\n",
       "      <th>2</th>\n",
       "      <td>2L</td>\n",
       "      <td>Liftoff</td>\n",
       "      <td>exon</td>\n",
       "      <td>33633</td>\n",
       "      <td>34924</td>\n",
       "      <td>.</td>\n",
       "      <td>+</td>\n",
       "      <td>.</td>\n",
       "      <td>gene_id \"FBgn0031208\"; gene_symbol \"CR11023\"; ...</td>\n",
       "    </tr>\n",
       "    <tr>\n",
       "      <th>3</th>\n",
       "      <td>2L</td>\n",
       "      <td>Liftoff</td>\n",
       "      <td>pseudogene</td>\n",
       "      <td>32969</td>\n",
       "      <td>34924</td>\n",
       "      <td>.</td>\n",
       "      <td>+</td>\n",
       "      <td>.</td>\n",
       "      <td>gene_id \"FBgn0031208\"; gene_symbol \"CR11023\"; ...</td>\n",
       "    </tr>\n",
       "    <tr>\n",
       "      <th>4</th>\n",
       "      <td>2L</td>\n",
       "      <td>Liftoff</td>\n",
       "      <td>gene</td>\n",
       "      <td>35278</td>\n",
       "      <td>46813</td>\n",
       "      <td>.</td>\n",
       "      <td>-</td>\n",
       "      <td>.</td>\n",
       "      <td>gene_id \"FBgn0002121\"; gene_symbol \"l(2)gl\"; c...</td>\n",
       "    </tr>\n",
       "    <tr>\n",
       "      <th>...</th>\n",
       "      <td>...</td>\n",
       "      <td>...</td>\n",
       "      <td>...</td>\n",
       "      <td>...</td>\n",
       "      <td>...</td>\n",
       "      <td>...</td>\n",
       "      <td>...</td>\n",
       "      <td>...</td>\n",
       "      <td>...</td>\n",
       "    </tr>\n",
       "    <tr>\n",
       "      <th>532993</th>\n",
       "      <td>X</td>\n",
       "      <td>Liftoff</td>\n",
       "      <td>exon</td>\n",
       "      <td>22684349</td>\n",
       "      <td>22684452</td>\n",
       "      <td>.</td>\n",
       "      <td>-</td>\n",
       "      <td>.</td>\n",
       "      <td>gene_id \"FBgn0259858\"; gene_symbol \"Su(Ste):CR...</td>\n",
       "    </tr>\n",
       "    <tr>\n",
       "      <th>532994</th>\n",
       "      <td>X</td>\n",
       "      <td>Liftoff</td>\n",
       "      <td>ncRNA</td>\n",
       "      <td>22684349</td>\n",
       "      <td>22684452</td>\n",
       "      <td>.</td>\n",
       "      <td>-</td>\n",
       "      <td>.</td>\n",
       "      <td>gene_id \"FBgn0259858\"; gene_symbol \"Su(Ste):CR...</td>\n",
       "    </tr>\n",
       "    <tr>\n",
       "      <th>532995</th>\n",
       "      <td>X</td>\n",
       "      <td>Liftoff</td>\n",
       "      <td>gene</td>\n",
       "      <td>22689754</td>\n",
       "      <td>22689860</td>\n",
       "      <td>.</td>\n",
       "      <td>-</td>\n",
       "      <td>.</td>\n",
       "      <td>gene_id \"FBgn0259852\"; gene_symbol \"Su(Ste):CR...</td>\n",
       "    </tr>\n",
       "    <tr>\n",
       "      <th>532996</th>\n",
       "      <td>X</td>\n",
       "      <td>Liftoff</td>\n",
       "      <td>exon</td>\n",
       "      <td>22689754</td>\n",
       "      <td>22689860</td>\n",
       "      <td>.</td>\n",
       "      <td>-</td>\n",
       "      <td>.</td>\n",
       "      <td>gene_id \"FBgn0259852\"; gene_symbol \"Su(Ste):CR...</td>\n",
       "    </tr>\n",
       "    <tr>\n",
       "      <th>532997</th>\n",
       "      <td>X</td>\n",
       "      <td>Liftoff</td>\n",
       "      <td>ncRNA</td>\n",
       "      <td>22689754</td>\n",
       "      <td>22689860</td>\n",
       "      <td>.</td>\n",
       "      <td>-</td>\n",
       "      <td>.</td>\n",
       "      <td>gene_id \"FBgn0259852\"; gene_symbol \"Su(Ste):CR...</td>\n",
       "    </tr>\n",
       "  </tbody>\n",
       "</table>\n",
       "<p>532998 rows × 9 columns</p>\n",
       "</div>"
      ],
      "text/plain": [
       "         0        1           2         3         4  5  6  7  \\\n",
       "0       2L  Liftoff        gene     32969     34924  .  +  .   \n",
       "1       2L  Liftoff        exon     32969     33556  .  +  .   \n",
       "2       2L  Liftoff        exon     33633     34924  .  +  .   \n",
       "3       2L  Liftoff  pseudogene     32969     34924  .  +  .   \n",
       "4       2L  Liftoff        gene     35278     46813  .  -  .   \n",
       "...     ..      ...         ...       ...       ... .. .. ..   \n",
       "532993   X  Liftoff        exon  22684349  22684452  .  -  .   \n",
       "532994   X  Liftoff       ncRNA  22684349  22684452  .  -  .   \n",
       "532995   X  Liftoff        gene  22689754  22689860  .  -  .   \n",
       "532996   X  Liftoff        exon  22689754  22689860  .  -  .   \n",
       "532997   X  Liftoff       ncRNA  22689754  22689860  .  -  .   \n",
       "\n",
       "                                                        8  \n",
       "0       gene_id \"FBgn0031208\"; gene_symbol \"CR11023\"; ...  \n",
       "1       gene_id \"FBgn0031208\"; gene_symbol \"CR11023\"; ...  \n",
       "2       gene_id \"FBgn0031208\"; gene_symbol \"CR11023\"; ...  \n",
       "3       gene_id \"FBgn0031208\"; gene_symbol \"CR11023\"; ...  \n",
       "4       gene_id \"FBgn0002121\"; gene_symbol \"l(2)gl\"; c...  \n",
       "...                                                   ...  \n",
       "532993  gene_id \"FBgn0259858\"; gene_symbol \"Su(Ste):CR...  \n",
       "532994  gene_id \"FBgn0259858\"; gene_symbol \"Su(Ste):CR...  \n",
       "532995  gene_id \"FBgn0259852\"; gene_symbol \"Su(Ste):CR...  \n",
       "532996  gene_id \"FBgn0259852\"; gene_symbol \"Su(Ste):CR...  \n",
       "532997  gene_id \"FBgn0259852\"; gene_symbol \"Su(Ste):CR...  \n",
       "\n",
       "[532998 rows x 9 columns]"
      ]
     },
     "execution_count": 57,
     "metadata": {},
     "output_type": "execute_result"
    }
   ],
   "source": [
    "df"
   ]
  },
  {
   "cell_type": "code",
   "execution_count": 58,
   "id": "d19d1b92",
   "metadata": {},
   "outputs": [],
   "source": [
    "df.columns=['seqname','source','feature','start','end','Xscore','strand','Xframe','attributes']\n",
    "df.drop(df[df.feature != 'gene'].index, inplace=True)\n",
    "df[\"gene id\"] = [x.replace(\"gene_id\",\"\").replace('\"',\"\").strip() for z in df.attributes.str.split(\";\").tolist() for x in z if \"gene_id\" in x]\n",
    "df = df.drop(['source','attributes','Xscore','Xframe'], axis=1)"
   ]
  },
  {
   "cell_type": "code",
   "execution_count": 59,
   "id": "35026b8c",
   "metadata": {},
   "outputs": [],
   "source": [
    "df.sort_values(by='start', inplace=True)"
   ]
  },
  {
   "cell_type": "code",
   "execution_count": 60,
   "id": "3981aa6e",
   "metadata": {},
   "outputs": [],
   "source": [
    "if start_end =='s':\n",
    "    nearest_gene = df.loc[(df['seqname'] == gene_seqname_ref)\\\n",
    "                          & (df.start > missing_gene_coordinate)].iloc[0]        \n",
    "else:\n",
    "    nearest_gene = df.loc[(df['seqname'] == gene_seqname_ref)\\\n",
    "                          & (df.end < missing_gene_coordinate)].iloc[-1] "
   ]
  },
  {
   "cell_type": "code",
   "execution_count": 61,
   "id": "19d418f8",
   "metadata": {},
   "outputs": [],
   "source": [
    "gene_id =nearest_gene['gene id']\n",
    "gene_seqname =nearest_gene['seqname']\n",
    "coordinate1=nearest_gene['start']\n",
    "coordinate2=nearest_gene['end']"
   ]
  },
  {
   "cell_type": "code",
   "execution_count": 62,
   "id": "b18c4cd5",
   "metadata": {},
   "outputs": [
    {
     "name": "stdout",
     "output_type": "stream",
     "text": [
      "Missing gene:  FBgn0011655 from sample T29A coordinate: 31615375\n",
      "-------------------------------------------------\n",
      "Reference nearest gene:   FBgn0039858 at 31596642 : 31596642 on 3R\n",
      "Sample nearest gene:      FBgn0039709 at 31601509 : 31614566 on 3R\n",
      "-------------------------------------------------\n"
     ]
    }
   ],
   "source": [
    "print(f'Missing gene:  {missing_gene} from sample {file} coordinate: {missing_gene_coordinate}')\n",
    "print('-------------------------------------------------')\n",
    "print(f'Reference nearest gene:   {gene_id_ref} at {gene_coordinate_ref1} : {gene_coordinate_ref1} \\\n",
    "on {gene_seqname_ref}')\n",
    "print(f'Sample nearest gene:      {gene_id} at {coordinate1} : {coordinate2} on {gene_seqname}')\n",
    "print('-------------------------------------------------')"
   ]
  },
  {
   "cell_type": "code",
   "execution_count": 63,
   "id": "545b2ca6",
   "metadata": {},
   "outputs": [],
   "source": [
    "nearest_gene = df.loc[(df['gene id'] == gene_id)].drop(['strand','feature'], axis=1)\n"
   ]
  },
  {
   "cell_type": "code",
   "execution_count": 64,
   "id": "e7bb10af",
   "metadata": {},
   "outputs": [
    {
     "data": {
      "text/html": [
       "<div>\n",
       "<style scoped>\n",
       "    .dataframe tbody tr th:only-of-type {\n",
       "        vertical-align: middle;\n",
       "    }\n",
       "\n",
       "    .dataframe tbody tr th {\n",
       "        vertical-align: top;\n",
       "    }\n",
       "\n",
       "    .dataframe thead th {\n",
       "        text-align: right;\n",
       "    }\n",
       "</style>\n",
       "<table border=\"1\" class=\"dataframe\">\n",
       "  <thead>\n",
       "    <tr style=\"text-align: right;\">\n",
       "      <th></th>\n",
       "      <th>seqname</th>\n",
       "      <th>start</th>\n",
       "      <th>end</th>\n",
       "      <th>gene id</th>\n",
       "    </tr>\n",
       "  </thead>\n",
       "  <tbody>\n",
       "    <tr>\n",
       "      <th>418221</th>\n",
       "      <td>3R</td>\n",
       "      <td>31601509</td>\n",
       "      <td>31614566</td>\n",
       "      <td>FBgn0039709</td>\n",
       "    </tr>\n",
       "  </tbody>\n",
       "</table>\n",
       "</div>"
      ],
      "text/plain": [
       "       seqname     start       end      gene id\n",
       "418221      3R  31601509  31614566  FBgn0039709"
      ]
     },
     "execution_count": 64,
     "metadata": {},
     "output_type": "execute_result"
    }
   ],
   "source": [
    "nearest_gene"
   ]
  },
  {
   "cell_type": "markdown",
   "id": "7619ad57",
   "metadata": {},
   "source": [
    "# Append new coordinates to the old boundaries file. "
   ]
  },
  {
   "cell_type": "code",
   "execution_count": null,
   "id": "dc169fad",
   "metadata": {},
   "outputs": [],
   "source": [
    "df_new= pd.read_csv(f'boundaries_{file}_chakra.csv', sep=',')"
   ]
  },
  {
   "cell_type": "code",
   "execution_count": null,
   "id": "7dd7240a",
   "metadata": {},
   "outputs": [],
   "source": [
    "df_new"
   ]
  },
  {
   "cell_type": "code",
   "execution_count": null,
   "id": "5ee8a41f",
   "metadata": {},
   "outputs": [],
   "source": [
    "seqname = nearest_gene['seqname'].item()\n",
    "start = nearest_gene['start'].item()\n",
    "end = nearest_gene['end'].item()\n",
    "gene_id = nearest_gene['gene id'].item()"
   ]
  },
  {
   "cell_type": "code",
   "execution_count": null,
   "id": "e9b54dc4",
   "metadata": {},
   "outputs": [],
   "source": [
    "series=[seqname,start,end,gene_id]"
   ]
  },
  {
   "cell_type": "code",
   "execution_count": null,
   "id": "285375d2",
   "metadata": {},
   "outputs": [],
   "source": [
    "df_new.loc[-1] = series"
   ]
  },
  {
   "cell_type": "code",
   "execution_count": null,
   "id": "424cee89",
   "metadata": {},
   "outputs": [],
   "source": [
    "df_new= df_new.sort_values('seqname')"
   ]
  },
  {
   "cell_type": "code",
   "execution_count": null,
   "id": "62c2cc14",
   "metadata": {},
   "outputs": [],
   "source": [
    "df_new.to_csv(f'boundaries_{file}_chakra.csv', index=False)"
   ]
  },
  {
   "cell_type": "code",
   "execution_count": null,
   "id": "95d6c3ba",
   "metadata": {},
   "outputs": [],
   "source": []
  },
  {
   "cell_type": "code",
   "execution_count": null,
   "id": "5df1a1f5",
   "metadata": {},
   "outputs": [],
   "source": []
  },
  {
   "cell_type": "code",
   "execution_count": null,
   "id": "ede8a3b8",
   "metadata": {},
   "outputs": [],
   "source": []
  },
  {
   "cell_type": "code",
   "execution_count": 65,
   "id": "dfafb759",
   "metadata": {},
   "outputs": [
    {
     "data": {
      "text/html": [
       "<div>\n",
       "<style scoped>\n",
       "    .dataframe tbody tr th:only-of-type {\n",
       "        vertical-align: middle;\n",
       "    }\n",
       "\n",
       "    .dataframe tbody tr th {\n",
       "        vertical-align: top;\n",
       "    }\n",
       "\n",
       "    .dataframe thead th {\n",
       "        text-align: right;\n",
       "    }\n",
       "</style>\n",
       "<table border=\"1\" class=\"dataframe\">\n",
       "  <thead>\n",
       "    <tr style=\"text-align: right;\">\n",
       "      <th></th>\n",
       "      <th>seqname</th>\n",
       "      <th>feature</th>\n",
       "      <th>start</th>\n",
       "      <th>end</th>\n",
       "      <th>strand</th>\n",
       "      <th>gene id</th>\n",
       "    </tr>\n",
       "  </thead>\n",
       "  <tbody>\n",
       "    <tr>\n",
       "      <th>249235</th>\n",
       "      <td>3L</td>\n",
       "      <td>gene</td>\n",
       "      <td>10266298</td>\n",
       "      <td>10272657</td>\n",
       "      <td>-</td>\n",
       "      <td>FBgn0283724</td>\n",
       "    </tr>\n",
       "  </tbody>\n",
       "</table>\n",
       "</div>"
      ],
      "text/plain": [
       "       seqname feature     start       end strand      gene id\n",
       "249235      3L    gene  10266298  10272657      -  FBgn0283724"
      ]
     },
     "execution_count": 65,
     "metadata": {},
     "output_type": "execute_result"
    }
   ],
   "source": [
    "gene = df.loc[(df['gene id'] == 'FBgn0283724')]\n",
    "gene"
   ]
  },
  {
   "cell_type": "code",
   "execution_count": 66,
   "id": "f378d30e",
   "metadata": {},
   "outputs": [
    {
     "data": {
      "text/plain": [
       "2769784"
      ]
     },
     "execution_count": 66,
     "metadata": {},
     "output_type": "execute_result"
    }
   ],
   "source": [
    "13036082-10266298\n"
   ]
  },
  {
   "cell_type": "code",
   "execution_count": null,
   "id": "c1a26490",
   "metadata": {},
   "outputs": [],
   "source": []
  }
 ],
 "metadata": {
  "kernelspec": {
   "display_name": "Python 3",
   "language": "python",
   "name": "python3"
  },
  "language_info": {
   "codemirror_mode": {
    "name": "ipython",
    "version": 3
   },
   "file_extension": ".py",
   "mimetype": "text/x-python",
   "name": "python",
   "nbconvert_exporter": "python",
   "pygments_lexer": "ipython3",
   "version": "3.7.10"
  }
 },
 "nbformat": 4,
 "nbformat_minor": 5
}
