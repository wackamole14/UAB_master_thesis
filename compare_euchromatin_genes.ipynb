{
 "metadata": {
  "language_info": {
   "codemirror_mode": {
    "name": "ipython",
    "version": 3
   },
   "file_extension": ".py",
   "mimetype": "text/x-python",
   "name": "python",
   "nbconvert_exporter": "python",
   "pygments_lexer": "ipython3",
   "version": "3.7.10"
  },
  "orig_nbformat": 2,
  "kernelspec": {
   "name": "python3710jvsc74a57bd0dca0ade3e726a953b501b15e8e990130d2b7799f14cfd9f4271676035ebe5511",
   "display_name": "Python 3.7.10 64-bit ('base': conda)"
  }
 },
 "nbformat": 4,
 "nbformat_minor": 2,
 "cells": [
  {
   "cell_type": "code",
   "execution_count": 25,
   "metadata": {},
   "outputs": [],
   "source": [
    "import pandas as pd\n",
    "import numpy as np\n",
    "import os\n",
    "import sys"
   ]
  },
  {
   "source": [
    "# take sorted ref genome and filter out for only our desired chromosomes and for euchromatic genes"
   ],
   "cell_type": "markdown",
   "metadata": {}
  },
  {
   "cell_type": "code",
   "execution_count": 70,
   "metadata": {},
   "outputs": [],
   "source": [
    "df = pd.read_csv(\"sorted_dmel-all-r6.31.gtf\", sep='\\t', header=None)\n",
    "df['len_ref'] = (df[4] - df[3]).abs()\n",
    "df_gene= df.loc[(df[2] == 'gene')].copy()\n",
    "df_mrna= df.loc[(df[2] == 'mRNA')].copy()\n",
    "df_gene[\"gene\"] = [x.replace(\"gene_id\",\"\").replace('\"',\"\").strip() for z in df_gene[8].str.split(\";\").tolist() for x in z if \"gene_id\" in x]\n",
    "df_mrna[\"gene\"] = [x.replace(\"gene_id\",\"\").replace('\"',\"\").strip() for z in df_mrna[8].str.split(\";\").tolist() for x in z if \"gene_id\" in x]\n",
    "merged_iso = pd.merge(df_gene, df_mrna, on='gene', how='left')\n",
    "merged_iso = merged_iso.drop(columns =['1_x','5_x','6_x','7_x','5_y','6_y','7_y','8_y','8_x','1_y','0_y'])\n",
    "\n",
    "merged_iso.rename(columns={'len_ref_x':'G_len'})\n",
    "merged_iso.columns =['chrom','feature','G_start','G_end','G_len','G_ID','mRNA','RNA_start','RNA_end','mRNA_count']\n",
    "merged_iso= merged_iso[['chrom','G_start','G_end','G_len','G_ID','RNA_start','RNA_end','mRNA_count']]\n",
    "\n",
    "merged_iso= merged_iso.fillna(0)\n",
    "for col in ['RNA_start','RNA_end','mRNA_count']:\n",
    "    merged_iso[col] = merged_iso[col].apply(int).apply(str)\n",
    "\n",
    "merged_iso.loc[merged_iso['mRNA_count'] == '0', 'mRNA_count']= np.nan\n",
    "\n",
    "merged_iso = merged_iso.groupby(['G_ID']).agg({'chrom':'first','G_start':'first','G_end':'first','G_len':'first',\\\n",
    "\t'RNA_start': lambda x: \",\".join(x),'RNA_end': lambda x: \",\".join(x), 'mRNA_count': lambda x: (x).nunique()}).reset_index()\n",
    "\n",
    "merged_iso= merged_iso[['chrom','G_start','G_end','G_len','G_ID','RNA_start','RNA_end','mRNA_count']]\n",
    "merged_iso= merged_iso.fillna(0)\n",
    "#merged_iso.to_csv('genes_mrna_ref.txt' , index=False,  sep='\\t',header=False)"
   ]
  },
  {
   "cell_type": "code",
   "execution_count": 71,
   "metadata": {},
   "outputs": [],
   "source": [
    "start = [530000,5982495,750000,6754278,1325967]\n",
    "end = [18870000,24972477,19026900,31614278,21338973]"
   ]
  },
  {
   "cell_type": "code",
   "execution_count": 72,
   "metadata": {},
   "outputs": [],
   "source": [
    "def trim_euchromatin(df1):\n",
    "\n",
    "    drop_indexes=[]\n",
    "\n",
    "    for row in df1.index:\n",
    "        if df1.at[row,'chrom'] == '2L':\n",
    "            if df1.at[row,'G_start'] < start[0]:\n",
    "                drop_indexes.append(row)\n",
    "            if df1.at[row,'G_end'] > end[0]:\n",
    "                drop_indexes.append(row)\n",
    "        if df1.at[row,'chrom'] == '2R':\n",
    "            if df1.at[row,'G_start'] < start[1]:\n",
    "                drop_indexes.append(row)\n",
    "            if df1.at[row,'G_end'] > end[1]:\n",
    "                drop_indexes.append(row)          \n",
    "        if df1.at[row,'chrom'] == '3L':\n",
    "            if df1.at[row,'G_start'] < start[2]:\n",
    "                drop_indexes.append(row)\n",
    "            if df1.at[row,'G_end'] > end[2]:\n",
    "                drop_indexes.append(row)            \n",
    "        if df1.at[row,'chrom'] == '3R':\n",
    "            if df1.at[row,'G_start'] < start[3]:\n",
    "                drop_indexes.append(row)\n",
    "            if df1.at[row,'G_end'] > end[3]:\n",
    "                drop_indexes.append(row)        \n",
    "        if df1.at[row,'chrom'] == 'X':\n",
    "            if df1.at[row,'G_start'] < start[4]:\n",
    "                drop_indexes.append(row)\n",
    "            if df1.at[row,'G_end'] > end[4]:\n",
    "                drop_indexes.append(row)\n",
    "\n",
    "    df_euchromatin = df1.drop(drop_indexes)\n",
    "    return df_euchromatin"
   ]
  },
  {
   "cell_type": "code",
   "execution_count": 73,
   "metadata": {},
   "outputs": [],
   "source": [
    "df_ref = merged_iso.drop(merged_iso[~merged_iso['chrom'].isin(['X', '3L','3R', '2L','2R'])].index)\n",
    "df1 = df_ref.copy()"
   ]
  },
  {
   "cell_type": "code",
   "execution_count": 74,
   "metadata": {},
   "outputs": [],
   "source": [
    "df_euchromatin = trim_euchromatin(df1)"
   ]
  },
  {
   "cell_type": "code",
   "execution_count": 75,
   "metadata": {},
   "outputs": [],
   "source": [
    "df_euchromatin = df_euchromatin.sort_values(['chrom','G_start'])"
   ]
  },
  {
   "cell_type": "code",
   "execution_count": 76,
   "metadata": {},
   "outputs": [],
   "source": [
    "def minimum_maximum(minimum, maximum, total):\n",
    "    if maximum - minimum == 0:\n",
    "        total = total + 1\n",
    "    else: \n",
    "        total = total + (maximum-minimum + 2)\n",
    "    return total \n",
    "\n",
    "def calc_non_overlap(start,end,minimum,maximum,total):\n",
    "    if (start > minimum) & (end > maximum):\n",
    "        minimum = start\n",
    "        maximum = end\n",
    "        total = minimum_maximum(minimum, maximum, total)\n",
    "\n",
    "    elif start <  maximum:\n",
    "        if  end > maximum:\n",
    "            minimum = maximum +1\n",
    "            maximum = end\n",
    "            total = minimum_maximum(minimum, maximum, total)\n",
    "\n",
    "    return minimum, maximum, total"
   ]
  },
  {
   "cell_type": "code",
   "execution_count": 77,
   "metadata": {},
   "outputs": [
    {
     "output_type": "execute_result",
     "data": {
      "text/plain": [
       "      chrom   G_start     G_end  G_len         G_ID  \\\n",
       "1122     2L    540599    542580   1981  FBgn0010602   \n",
       "4066     2L    542786    544653   1867  FBgn0031260   \n",
       "971      2L    544925    552923   7998  FBgn0005660   \n",
       "4067     2L    545129    547096   1967  FBgn0031261   \n",
       "13448    2L    553742    560310   6568  FBgn0260933   \n",
       "...     ...       ...       ...    ...          ...   \n",
       "1886      X  21316052  21317663   1611  FBgn0020369   \n",
       "12250     X  21317936  21319296   1360  FBgn0064116   \n",
       "12251     X  21317936  21319296   1360  FBgn0064117   \n",
       "2955      X  21319791  21324009   4218  FBgn0029067   \n",
       "4016      X  21324046  21328150   4104  FBgn0031174   \n",
       "\n",
       "                         RNA_start                      RNA_end  mRNA_count  \n",
       "1122   540599,541237,541393,541393  542580,542580,542580,542580           3  \n",
       "4066                        542786                       544653           1  \n",
       "971    544925,547016,547016,547016  552454,549502,552454,552923           4  \n",
       "4067                        545129                       547096           1  \n",
       "13448                553742,553742                559079,560310           2  \n",
       "...                            ...                          ...         ...  \n",
       "1886                      21316052                     21317663           1  \n",
       "12250            21317936,21317936            21319213,21319296           2  \n",
       "12251            21317936,21317936            21319296,21319213           2  \n",
       "2955    21319791,21319791,21319791   21324009,21324009,21324009           1  \n",
       "4016             21324046,21324067            21328150,21328150           2  \n",
       "\n",
       "[15118 rows x 8 columns]"
      ],
      "text/html": "<div>\n<style scoped>\n    .dataframe tbody tr th:only-of-type {\n        vertical-align: middle;\n    }\n\n    .dataframe tbody tr th {\n        vertical-align: top;\n    }\n\n    .dataframe thead th {\n        text-align: right;\n    }\n</style>\n<table border=\"1\" class=\"dataframe\">\n  <thead>\n    <tr style=\"text-align: right;\">\n      <th></th>\n      <th>chrom</th>\n      <th>G_start</th>\n      <th>G_end</th>\n      <th>G_len</th>\n      <th>G_ID</th>\n      <th>RNA_start</th>\n      <th>RNA_end</th>\n      <th>mRNA_count</th>\n    </tr>\n  </thead>\n  <tbody>\n    <tr>\n      <th>1122</th>\n      <td>2L</td>\n      <td>540599</td>\n      <td>542580</td>\n      <td>1981</td>\n      <td>FBgn0010602</td>\n      <td>540599,541237,541393,541393</td>\n      <td>542580,542580,542580,542580</td>\n      <td>3</td>\n    </tr>\n    <tr>\n      <th>4066</th>\n      <td>2L</td>\n      <td>542786</td>\n      <td>544653</td>\n      <td>1867</td>\n      <td>FBgn0031260</td>\n      <td>542786</td>\n      <td>544653</td>\n      <td>1</td>\n    </tr>\n    <tr>\n      <th>971</th>\n      <td>2L</td>\n      <td>544925</td>\n      <td>552923</td>\n      <td>7998</td>\n      <td>FBgn0005660</td>\n      <td>544925,547016,547016,547016</td>\n      <td>552454,549502,552454,552923</td>\n      <td>4</td>\n    </tr>\n    <tr>\n      <th>4067</th>\n      <td>2L</td>\n      <td>545129</td>\n      <td>547096</td>\n      <td>1967</td>\n      <td>FBgn0031261</td>\n      <td>545129</td>\n      <td>547096</td>\n      <td>1</td>\n    </tr>\n    <tr>\n      <th>13448</th>\n      <td>2L</td>\n      <td>553742</td>\n      <td>560310</td>\n      <td>6568</td>\n      <td>FBgn0260933</td>\n      <td>553742,553742</td>\n      <td>559079,560310</td>\n      <td>2</td>\n    </tr>\n    <tr>\n      <th>...</th>\n      <td>...</td>\n      <td>...</td>\n      <td>...</td>\n      <td>...</td>\n      <td>...</td>\n      <td>...</td>\n      <td>...</td>\n      <td>...</td>\n    </tr>\n    <tr>\n      <th>1886</th>\n      <td>X</td>\n      <td>21316052</td>\n      <td>21317663</td>\n      <td>1611</td>\n      <td>FBgn0020369</td>\n      <td>21316052</td>\n      <td>21317663</td>\n      <td>1</td>\n    </tr>\n    <tr>\n      <th>12250</th>\n      <td>X</td>\n      <td>21317936</td>\n      <td>21319296</td>\n      <td>1360</td>\n      <td>FBgn0064116</td>\n      <td>21317936,21317936</td>\n      <td>21319213,21319296</td>\n      <td>2</td>\n    </tr>\n    <tr>\n      <th>12251</th>\n      <td>X</td>\n      <td>21317936</td>\n      <td>21319296</td>\n      <td>1360</td>\n      <td>FBgn0064117</td>\n      <td>21317936,21317936</td>\n      <td>21319296,21319213</td>\n      <td>2</td>\n    </tr>\n    <tr>\n      <th>2955</th>\n      <td>X</td>\n      <td>21319791</td>\n      <td>21324009</td>\n      <td>4218</td>\n      <td>FBgn0029067</td>\n      <td>21319791,21319791,21319791</td>\n      <td>21324009,21324009,21324009</td>\n      <td>1</td>\n    </tr>\n    <tr>\n      <th>4016</th>\n      <td>X</td>\n      <td>21324046</td>\n      <td>21328150</td>\n      <td>4104</td>\n      <td>FBgn0031174</td>\n      <td>21324046,21324067</td>\n      <td>21328150,21328150</td>\n      <td>2</td>\n    </tr>\n  </tbody>\n</table>\n<p>15118 rows × 8 columns</p>\n</div>"
     },
     "metadata": {},
     "execution_count": 77
    }
   ],
   "source": [
    "df_euchromatin"
   ]
  },
  {
   "cell_type": "code",
   "execution_count": 34,
   "metadata": {},
   "outputs": [
    {
     "output_type": "stream",
     "name": "stdout",
     "text": [
      "16157520\n",
      "13028782\n",
      "14500457\n",
      "13087649\n",
      "18465002\n"
     ]
    }
   ],
   "source": [
    "dict_chrom= {'X':df_euchromatin.loc[df_euchromatin['chrom'] == 'X'], '2L': df_euchromatin.loc[df_euchromatin['chrom'] == '2L'], '2R':df_euchromatin.loc[df_euchromatin['chrom'] == '2R'], '3L':df_euchromatin.loc[df_euchromatin['chrom'] == '3L'], '3R':df_euchromatin.loc[df_euchromatin['chrom'] == '3R']}\n",
    "\n",
    "dict_totals={}\n",
    "TOTAL = 0\n",
    "for key in dict_chrom:\n",
    "    minimum= 0\n",
    "    maximum= 0\n",
    "    total= 0\n",
    "    for index,row in dict_chrom[key].iterrows():\n",
    "        minimum, maximum, total = calc_non_overlap(row['G_start'],row['G_end'], minimum, maximum, total )\n",
    "    dict_totals[key] = total\n",
    "    print(total)\n",
    "    TOTAL = TOTAL + total\n"
   ]
  },
  {
   "cell_type": "code",
   "execution_count": 8,
   "metadata": {},
   "outputs": [
    {
     "output_type": "execute_result",
     "data": {
      "text/plain": [
       "80954737"
      ]
     },
     "metadata": {},
     "execution_count": 8
    }
   ],
   "source": [
    "#df_euchromatin['G_len'].sum()"
   ]
  },
  {
   "cell_type": "code",
   "execution_count": 35,
   "metadata": {},
   "outputs": [
    {
     "output_type": "execute_result",
     "data": {
      "text/plain": [
       "75239410"
      ]
     },
     "metadata": {},
     "execution_count": 35
    }
   ],
   "source": [
    "TOTAL"
   ]
  },
  {
   "cell_type": "code",
   "execution_count": 37,
   "metadata": {},
   "outputs": [
    {
     "output_type": "execute_result",
     "data": {
      "text/plain": [
       "0.7488006953192464"
      ]
     },
     "metadata": {},
     "execution_count": 37
    }
   ],
   "source": [
    "75239410/100479888"
   ]
  },
  {
   "source": [
    "# Pull in the CNVs and count bases "
   ],
   "cell_type": "markdown",
   "metadata": {}
  },
  {
   "cell_type": "code",
   "execution_count": 78,
   "metadata": {},
   "outputs": [
    {
     "output_type": "execute_result",
     "data": {
      "text/plain": [
       "  CHROM   START     END      CNV_ID   LEN Flavor  \\\n",
       "0    2L  454803  455471  0000000001   668  CNV-R   \n",
       "1    2L  481913  490403  0000000002  8490  CNV-Q   \n",
       "2    2L  533286  534017  0000000003   731  CNV-Q   \n",
       "3    2L  569560  572845  0000000004  3285  CNV-Q   \n",
       "4    2L  572832  581584  0000000005  8752  CNV-Q   \n",
       "5    2L  572832  581584  0000000005  8752  CNV-Q   \n",
       "6    2L  572832  581584  0000000005  8752  CNV-Q   \n",
       "\n",
       "                                     Genomes_present  Num_Alleles  \\\n",
       "0  TOM008;B59;I23;T29A;ZH26;A1;A2;A3;A4;A5;A7;AB8...            3   \n",
       "1                                             RAL426            1   \n",
       "2                                               ZH26            1   \n",
       "3                                             RAL426            1   \n",
       "4                                             RAL426            1   \n",
       "5                                             RAL426            1   \n",
       "6                                             RAL426            1   \n",
       "\n",
       "   Complex_Event G_CHROM  ...  mRNA_count  Overlap  Num_samples genic_region  \\\n",
       "0              0      2L  ...           0    510.0           45  Non_protein   \n",
       "1              0      2L  ...           4   8490.0            1      Protein   \n",
       "2              0      2L  ...           4    731.0            1      Protein   \n",
       "3              2      2L  ...           2   3285.0            1      Protein   \n",
       "4              2      2L  ...           2     75.0            1      Protein   \n",
       "5              2      2L  ...           2   1185.0            1      Protein   \n",
       "6              2      2L  ...           1   2063.0            1      Protein   \n",
       "\n",
       "    FULL_GENE +90%_GENE 90-50%_GENE  50-10%_GENE  >10%_GENE Intergenic  \n",
       "0   91.234347      True       False        False      False      False  \n",
       "1   13.195524     False       False         True      False      False  \n",
       "2    1.136152     False       False        False       True      False  \n",
       "3   71.929056     False        True        False      False      False  \n",
       "4    1.642216     False       False        False       True      False  \n",
       "5  100.000000      True       False        False      False      False  \n",
       "6  100.000000      True       False        False      False      False  \n",
       "\n",
       "[7 rows x 26 columns]"
      ],
      "text/html": "<div>\n<style scoped>\n    .dataframe tbody tr th:only-of-type {\n        vertical-align: middle;\n    }\n\n    .dataframe tbody tr th {\n        vertical-align: top;\n    }\n\n    .dataframe thead th {\n        text-align: right;\n    }\n</style>\n<table border=\"1\" class=\"dataframe\">\n  <thead>\n    <tr style=\"text-align: right;\">\n      <th></th>\n      <th>CHROM</th>\n      <th>START</th>\n      <th>END</th>\n      <th>CNV_ID</th>\n      <th>LEN</th>\n      <th>Flavor</th>\n      <th>Genomes_present</th>\n      <th>Num_Alleles</th>\n      <th>Complex_Event</th>\n      <th>G_CHROM</th>\n      <th>...</th>\n      <th>mRNA_count</th>\n      <th>Overlap</th>\n      <th>Num_samples</th>\n      <th>genic_region</th>\n      <th>FULL_GENE</th>\n      <th>+90%_GENE</th>\n      <th>90-50%_GENE</th>\n      <th>50-10%_GENE</th>\n      <th>&gt;10%_GENE</th>\n      <th>Intergenic</th>\n    </tr>\n  </thead>\n  <tbody>\n    <tr>\n      <th>0</th>\n      <td>2L</td>\n      <td>454803</td>\n      <td>455471</td>\n      <td>0000000001</td>\n      <td>668</td>\n      <td>CNV-R</td>\n      <td>TOM008;B59;I23;T29A;ZH26;A1;A2;A3;A4;A5;A7;AB8...</td>\n      <td>3</td>\n      <td>0</td>\n      <td>2L</td>\n      <td>...</td>\n      <td>0</td>\n      <td>510.0</td>\n      <td>45</td>\n      <td>Non_protein</td>\n      <td>91.234347</td>\n      <td>True</td>\n      <td>False</td>\n      <td>False</td>\n      <td>False</td>\n      <td>False</td>\n    </tr>\n    <tr>\n      <th>1</th>\n      <td>2L</td>\n      <td>481913</td>\n      <td>490403</td>\n      <td>0000000002</td>\n      <td>8490</td>\n      <td>CNV-Q</td>\n      <td>RAL426</td>\n      <td>1</td>\n      <td>0</td>\n      <td>2L</td>\n      <td>...</td>\n      <td>4</td>\n      <td>8490.0</td>\n      <td>1</td>\n      <td>Protein</td>\n      <td>13.195524</td>\n      <td>False</td>\n      <td>False</td>\n      <td>True</td>\n      <td>False</td>\n      <td>False</td>\n    </tr>\n    <tr>\n      <th>2</th>\n      <td>2L</td>\n      <td>533286</td>\n      <td>534017</td>\n      <td>0000000003</td>\n      <td>731</td>\n      <td>CNV-Q</td>\n      <td>ZH26</td>\n      <td>1</td>\n      <td>0</td>\n      <td>2L</td>\n      <td>...</td>\n      <td>4</td>\n      <td>731.0</td>\n      <td>1</td>\n      <td>Protein</td>\n      <td>1.136152</td>\n      <td>False</td>\n      <td>False</td>\n      <td>False</td>\n      <td>True</td>\n      <td>False</td>\n    </tr>\n    <tr>\n      <th>3</th>\n      <td>2L</td>\n      <td>569560</td>\n      <td>572845</td>\n      <td>0000000004</td>\n      <td>3285</td>\n      <td>CNV-Q</td>\n      <td>RAL426</td>\n      <td>1</td>\n      <td>2</td>\n      <td>2L</td>\n      <td>...</td>\n      <td>2</td>\n      <td>3285.0</td>\n      <td>1</td>\n      <td>Protein</td>\n      <td>71.929056</td>\n      <td>False</td>\n      <td>True</td>\n      <td>False</td>\n      <td>False</td>\n      <td>False</td>\n    </tr>\n    <tr>\n      <th>4</th>\n      <td>2L</td>\n      <td>572832</td>\n      <td>581584</td>\n      <td>0000000005</td>\n      <td>8752</td>\n      <td>CNV-Q</td>\n      <td>RAL426</td>\n      <td>1</td>\n      <td>2</td>\n      <td>2L</td>\n      <td>...</td>\n      <td>2</td>\n      <td>75.0</td>\n      <td>1</td>\n      <td>Protein</td>\n      <td>1.642216</td>\n      <td>False</td>\n      <td>False</td>\n      <td>False</td>\n      <td>True</td>\n      <td>False</td>\n    </tr>\n    <tr>\n      <th>5</th>\n      <td>2L</td>\n      <td>572832</td>\n      <td>581584</td>\n      <td>0000000005</td>\n      <td>8752</td>\n      <td>CNV-Q</td>\n      <td>RAL426</td>\n      <td>1</td>\n      <td>2</td>\n      <td>2L</td>\n      <td>...</td>\n      <td>2</td>\n      <td>1185.0</td>\n      <td>1</td>\n      <td>Protein</td>\n      <td>100.000000</td>\n      <td>True</td>\n      <td>False</td>\n      <td>False</td>\n      <td>False</td>\n      <td>False</td>\n    </tr>\n    <tr>\n      <th>6</th>\n      <td>2L</td>\n      <td>572832</td>\n      <td>581584</td>\n      <td>0000000005</td>\n      <td>8752</td>\n      <td>CNV-Q</td>\n      <td>RAL426</td>\n      <td>1</td>\n      <td>2</td>\n      <td>2L</td>\n      <td>...</td>\n      <td>1</td>\n      <td>2063.0</td>\n      <td>1</td>\n      <td>Protein</td>\n      <td>100.000000</td>\n      <td>True</td>\n      <td>False</td>\n      <td>False</td>\n      <td>False</td>\n      <td>False</td>\n    </tr>\n  </tbody>\n</table>\n<p>7 rows × 26 columns</p>\n</div>"
     },
     "metadata": {},
     "execution_count": 78
    }
   ],
   "source": [
    "df = pd.read_csv('CNVs_genes_categorized.txt', sep='\\t',dtype={3: str})\n",
    "df.head(7)"
   ]
  },
  {
   "cell_type": "code",
   "execution_count": 40,
   "metadata": {},
   "outputs": [
    {
     "output_type": "execute_result",
     "data": {
      "text/plain": [
       "13403151.0"
      ]
     },
     "metadata": {},
     "execution_count": 40
    }
   ],
   "source": [
    "CNV_bases= df.groupby(['CNV_ID']).first()\n",
    "CNV_bases['Overlap'].sum()"
   ]
  },
  {
   "cell_type": "code",
   "execution_count": 54,
   "metadata": {},
   "outputs": [],
   "source": [
    "df= df.sort_values(['CHROM','START'])\n",
    "#CNV_bases= df.groupby(['CNV_ID']).first()"
   ]
  },
  {
   "cell_type": "code",
   "execution_count": 55,
   "metadata": {},
   "outputs": [
    {
     "output_type": "stream",
     "name": "stdout",
     "text": [
      "3969913\n",
      "5570169\n",
      "5405998\n",
      "5343091\n",
      "9473986\n"
     ]
    }
   ],
   "source": [
    "CNV_dict_chrom= {'X':df.loc[df['CHROM'] == 'X'], '2L': df.loc[df['CHROM'] == '2L'], '2R':df.loc[df['CHROM'] == '2R'], '3L':df.loc[df['CHROM'] == '3L'], '3R':df.loc[df['CHROM'] == '3R']}\n",
    "\n",
    "CNV_dict_totals={}\n",
    "CNV_TOTAL = 0\n",
    "\n",
    "for key in CNV_dict_chrom:\n",
    "    minimum= 0\n",
    "    maximum= 0\n",
    "    total= 0\n",
    "    for index,row in CNV_dict_chrom[key].iterrows():\n",
    "        minimum, maximum, total = calc_non_overlap(row['START'],row['END'], minimum, maximum, total )\n",
    "    CNV_dict_totals[key] = total\n",
    "    print(total)\n",
    "    CNV_TOTAL = CNV_TOTAL + total"
   ]
  },
  {
   "cell_type": "code",
   "execution_count": 56,
   "metadata": {},
   "outputs": [
    {
     "output_type": "execute_result",
     "data": {
      "text/plain": [
       "29763157"
      ]
     },
     "metadata": {},
     "execution_count": 56
    }
   ],
   "source": [
    "#CNV_dict_chrom['3R']['LEN'].sum()\n",
    "CNV_TOTAL"
   ]
  },
  {
   "source": [
    "# calculate the number of bases involved in genes in the CNVs"
   ],
   "cell_type": "markdown",
   "metadata": {}
  },
  {
   "cell_type": "code",
   "execution_count": 68,
   "metadata": {},
   "outputs": [
    {
     "output_type": "execute_result",
     "data": {
      "text/plain": [
       "      CHROM     START       END      CNV_ID   LEN Flavor  \\\n",
       "0        2L    454803    455471  0000000001   668  CNV-R   \n",
       "1        2L    481913    490403  0000000002  8490  CNV-Q   \n",
       "2        2L    533286    534017  0000000003   731  CNV-Q   \n",
       "3        2L    569560    572845  0000000004  3285  CNV-Q   \n",
       "4        2L    572832    581584  0000000005  8752  CNV-Q   \n",
       "...     ...       ...       ...         ...   ...    ...   \n",
       "11675     X  21763347  21766063  0000007272  2716  CNV-Q   \n",
       "11676     X  21764415  21765375  0000007273   960  CNV-Q   \n",
       "11677     X  21765225  21765562  0000007274   337  CNV-Q   \n",
       "11678     X  21768973  21769629  0000007275   656  CNV-Q   \n",
       "11712     X  22697550  22697705  0000007309   155  CNV-Q   \n",
       "\n",
       "                                         Genomes_present  Num_Alleles  \\\n",
       "0      TOM008;B59;I23;T29A;ZH26;A1;A2;A3;A4;A5;A7;AB8...            3   \n",
       "1                                                 RAL426            1   \n",
       "2                                                   ZH26            1   \n",
       "3                                                 RAL426            1   \n",
       "4                                                 RAL426            1   \n",
       "...                                                  ...          ...   \n",
       "11675                                          B1;RAL177            2   \n",
       "11676                                                B59            1   \n",
       "11677                                                B59            1   \n",
       "11678                                                 B6            1   \n",
       "11712                                                I23            1   \n",
       "\n",
       "       Complex_Event G_CHROM   G_START     G_END     G_LEN         G_ID  \\\n",
       "0                  0      2L    454754    455313     559.0  FBgn0262510   \n",
       "1                  0      2L    476220    540560   64340.0  FBgn0003963   \n",
       "2                  0      2L    476220    540560   64340.0  FBgn0003963   \n",
       "3                  2      2L    568340    572907    4567.0  FBgn0031266   \n",
       "4                  2      2L    568340    572907    4567.0  FBgn0031266   \n",
       "...              ...     ...       ...       ...       ...          ...   \n",
       "11675              2       X  21631891  21790731  158840.0  FBgn0267704   \n",
       "11676              2       X  21631891  21790731  158840.0  FBgn0267704   \n",
       "11677              2       X  21631891  21790731  158840.0  FBgn0267704   \n",
       "11678              1       X  21631891  21790731  158840.0  FBgn0267704   \n",
       "11712              0       X  22657324  22797682  140358.0  FBgn0266348   \n",
       "\n",
       "       Overlap  \n",
       "0        510.0  \n",
       "1       8490.0  \n",
       "2        731.0  \n",
       "3       3285.0  \n",
       "4         75.0  \n",
       "...        ...  \n",
       "11675   2716.0  \n",
       "11676    960.0  \n",
       "11677    337.0  \n",
       "11678    656.0  \n",
       "11712    155.0  \n",
       "\n",
       "[10216 rows x 15 columns]"
      ],
      "text/html": "<div>\n<style scoped>\n    .dataframe tbody tr th:only-of-type {\n        vertical-align: middle;\n    }\n\n    .dataframe tbody tr th {\n        vertical-align: top;\n    }\n\n    .dataframe thead th {\n        text-align: right;\n    }\n</style>\n<table border=\"1\" class=\"dataframe\">\n  <thead>\n    <tr style=\"text-align: right;\">\n      <th></th>\n      <th>CHROM</th>\n      <th>START</th>\n      <th>END</th>\n      <th>CNV_ID</th>\n      <th>LEN</th>\n      <th>Flavor</th>\n      <th>Genomes_present</th>\n      <th>Num_Alleles</th>\n      <th>Complex_Event</th>\n      <th>G_CHROM</th>\n      <th>G_START</th>\n      <th>G_END</th>\n      <th>G_LEN</th>\n      <th>G_ID</th>\n      <th>Overlap</th>\n    </tr>\n  </thead>\n  <tbody>\n    <tr>\n      <th>0</th>\n      <td>2L</td>\n      <td>454803</td>\n      <td>455471</td>\n      <td>0000000001</td>\n      <td>668</td>\n      <td>CNV-R</td>\n      <td>TOM008;B59;I23;T29A;ZH26;A1;A2;A3;A4;A5;A7;AB8...</td>\n      <td>3</td>\n      <td>0</td>\n      <td>2L</td>\n      <td>454754</td>\n      <td>455313</td>\n      <td>559.0</td>\n      <td>FBgn0262510</td>\n      <td>510.0</td>\n    </tr>\n    <tr>\n      <th>1</th>\n      <td>2L</td>\n      <td>481913</td>\n      <td>490403</td>\n      <td>0000000002</td>\n      <td>8490</td>\n      <td>CNV-Q</td>\n      <td>RAL426</td>\n      <td>1</td>\n      <td>0</td>\n      <td>2L</td>\n      <td>476220</td>\n      <td>540560</td>\n      <td>64340.0</td>\n      <td>FBgn0003963</td>\n      <td>8490.0</td>\n    </tr>\n    <tr>\n      <th>2</th>\n      <td>2L</td>\n      <td>533286</td>\n      <td>534017</td>\n      <td>0000000003</td>\n      <td>731</td>\n      <td>CNV-Q</td>\n      <td>ZH26</td>\n      <td>1</td>\n      <td>0</td>\n      <td>2L</td>\n      <td>476220</td>\n      <td>540560</td>\n      <td>64340.0</td>\n      <td>FBgn0003963</td>\n      <td>731.0</td>\n    </tr>\n    <tr>\n      <th>3</th>\n      <td>2L</td>\n      <td>569560</td>\n      <td>572845</td>\n      <td>0000000004</td>\n      <td>3285</td>\n      <td>CNV-Q</td>\n      <td>RAL426</td>\n      <td>1</td>\n      <td>2</td>\n      <td>2L</td>\n      <td>568340</td>\n      <td>572907</td>\n      <td>4567.0</td>\n      <td>FBgn0031266</td>\n      <td>3285.0</td>\n    </tr>\n    <tr>\n      <th>4</th>\n      <td>2L</td>\n      <td>572832</td>\n      <td>581584</td>\n      <td>0000000005</td>\n      <td>8752</td>\n      <td>CNV-Q</td>\n      <td>RAL426</td>\n      <td>1</td>\n      <td>2</td>\n      <td>2L</td>\n      <td>568340</td>\n      <td>572907</td>\n      <td>4567.0</td>\n      <td>FBgn0031266</td>\n      <td>75.0</td>\n    </tr>\n    <tr>\n      <th>...</th>\n      <td>...</td>\n      <td>...</td>\n      <td>...</td>\n      <td>...</td>\n      <td>...</td>\n      <td>...</td>\n      <td>...</td>\n      <td>...</td>\n      <td>...</td>\n      <td>...</td>\n      <td>...</td>\n      <td>...</td>\n      <td>...</td>\n      <td>...</td>\n      <td>...</td>\n    </tr>\n    <tr>\n      <th>11675</th>\n      <td>X</td>\n      <td>21763347</td>\n      <td>21766063</td>\n      <td>0000007272</td>\n      <td>2716</td>\n      <td>CNV-Q</td>\n      <td>B1;RAL177</td>\n      <td>2</td>\n      <td>2</td>\n      <td>X</td>\n      <td>21631891</td>\n      <td>21790731</td>\n      <td>158840.0</td>\n      <td>FBgn0267704</td>\n      <td>2716.0</td>\n    </tr>\n    <tr>\n      <th>11676</th>\n      <td>X</td>\n      <td>21764415</td>\n      <td>21765375</td>\n      <td>0000007273</td>\n      <td>960</td>\n      <td>CNV-Q</td>\n      <td>B59</td>\n      <td>1</td>\n      <td>2</td>\n      <td>X</td>\n      <td>21631891</td>\n      <td>21790731</td>\n      <td>158840.0</td>\n      <td>FBgn0267704</td>\n      <td>960.0</td>\n    </tr>\n    <tr>\n      <th>11677</th>\n      <td>X</td>\n      <td>21765225</td>\n      <td>21765562</td>\n      <td>0000007274</td>\n      <td>337</td>\n      <td>CNV-Q</td>\n      <td>B59</td>\n      <td>1</td>\n      <td>2</td>\n      <td>X</td>\n      <td>21631891</td>\n      <td>21790731</td>\n      <td>158840.0</td>\n      <td>FBgn0267704</td>\n      <td>337.0</td>\n    </tr>\n    <tr>\n      <th>11678</th>\n      <td>X</td>\n      <td>21768973</td>\n      <td>21769629</td>\n      <td>0000007275</td>\n      <td>656</td>\n      <td>CNV-Q</td>\n      <td>B6</td>\n      <td>1</td>\n      <td>1</td>\n      <td>X</td>\n      <td>21631891</td>\n      <td>21790731</td>\n      <td>158840.0</td>\n      <td>FBgn0267704</td>\n      <td>656.0</td>\n    </tr>\n    <tr>\n      <th>11712</th>\n      <td>X</td>\n      <td>22697550</td>\n      <td>22697705</td>\n      <td>0000007309</td>\n      <td>155</td>\n      <td>CNV-Q</td>\n      <td>I23</td>\n      <td>1</td>\n      <td>0</td>\n      <td>X</td>\n      <td>22657324</td>\n      <td>22797682</td>\n      <td>140358.0</td>\n      <td>FBgn0266348</td>\n      <td>155.0</td>\n    </tr>\n  </tbody>\n</table>\n<p>10216 rows × 15 columns</p>\n</div>"
     },
     "metadata": {},
     "execution_count": 68
    }
   ],
   "source": [
    "\n",
    "df_clean_chroms = df.drop(df[~df['G_CHROM'].isin(['X', '3L','3R', '2L','2R'])].index)\n",
    "df_clean_chroms = df_clean_chroms.sort_values(['G_CHROM','G_START'])\n",
    "df_clean_chroms.drop(columns=['mRNA_count','Num_samples','genic_region','FULL_GENE','+90%_GENE','90-50%_GENE','50-10%_GENE','>10%_GENE','Intergenic','mRNA_START',\t'mRNA_END'])\n"
   ]
  },
  {
   "cell_type": "code",
   "execution_count": 69,
   "metadata": {},
   "outputs": [
    {
     "output_type": "execute_result",
     "data": {
      "text/plain": [
       "-158840"
      ]
     },
     "metadata": {},
     "execution_count": 69
    }
   ],
   "source": []
  },
  {
   "cell_type": "code",
   "execution_count": 67,
   "metadata": {},
   "outputs": [
    {
     "output_type": "stream",
     "name": "stdout",
     "text": [
      "10970442\n",
      "9161845\n",
      "10055248\n",
      "10050435\n",
      "16184125\n"
     ]
    }
   ],
   "source": [
    "CNV_gene_dict_chrom= {'X':df_clean_chroms.loc[df_clean_chroms['G_CHROM'] == 'X'], '2L': df_clean_chroms.loc[df_clean_chroms['G_CHROM'] == '2L'], '2R':df_clean_chroms.loc[df_clean_chroms['G_CHROM'] == '2R'], '3L':df_clean_chroms.loc[df_clean_chroms['G_CHROM'] == '3L'], '3R':df_clean_chroms.loc[df_clean_chroms['G_CHROM'] == '3R']}\n",
    "\n",
    "CNV_gene_dict_totals={}\n",
    "CNV_gene_TOTAL = 0\n",
    "\n",
    "for key in CNV_gene_dict_chrom:\n",
    "    minimum= 0\n",
    "    maximum= 0\n",
    "    total= 0\n",
    "    for index,row in CNV_gene_dict_chrom[key].iterrows():\n",
    "        minimum, maximum, total = calc_non_overlap(row['G_START'],row['G_END'], minimum, maximum, total )\n",
    "    CNV_gene_dict_totals[key] = total\n",
    "    print(total)\n",
    "    CNV_gene_TOTAL = CNV_gene_TOTAL + total"
   ]
  },
  {
   "cell_type": "code",
   "execution_count": 45,
   "metadata": {},
   "outputs": [
    {
     "output_type": "execute_result",
     "data": {
      "text/plain": [
       "51379497"
      ]
     },
     "metadata": {},
     "execution_count": 45
    }
   ],
   "source": [
    "CNV_gene_TOTAL"
   ]
  },
  {
   "cell_type": "code",
   "execution_count": null,
   "metadata": {},
   "outputs": [],
   "source": []
  },
  {
   "cell_type": "code",
   "execution_count": null,
   "metadata": {},
   "outputs": [],
   "source": []
  },
  {
   "cell_type": "code",
   "execution_count": null,
   "metadata": {},
   "outputs": [],
   "source": []
  },
  {
   "cell_type": "code",
   "execution_count": null,
   "metadata": {},
   "outputs": [],
   "source": []
  },
  {
   "cell_type": "code",
   "execution_count": null,
   "metadata": {},
   "outputs": [],
   "source": []
  },
  {
   "cell_type": "code",
   "execution_count": null,
   "metadata": {},
   "outputs": [],
   "source": []
  },
  {
   "cell_type": "code",
   "execution_count": null,
   "metadata": {},
   "outputs": [],
   "source": []
  },
  {
   "cell_type": "code",
   "execution_count": null,
   "metadata": {},
   "outputs": [],
   "source": []
  },
  {
   "cell_type": "code",
   "execution_count": 19,
   "metadata": {},
   "outputs": [],
   "source": [
    "def minimum_maximum(minimum, maximum, total):\n",
    "    if maximum-minimum == 0:\n",
    "        total = total + 1\n",
    "    else: \n",
    "        total = total + (maximum-minimum+2)\n",
    "    return total \n",
    "\n",
    "minimum= 0\n",
    "maximum= 0\n",
    "total= 0\n",
    "\n",
    "\n",
    "def calc_non_overlap(df):\n",
    "    global minimum,maximum,total\n",
    "    start = df['START']\n",
    "    end = df['END']\n",
    "\n",
    "    if (start > minimum) & (end > maximum):\n",
    "        minimum = start\n",
    "        maximum = end\n",
    "        total= minimum_maximum(minimum,maximum,total)\n",
    "\n",
    "    elif df['START'] <  maximum:\n",
    "        if df['END'] > maximum:\n",
    "            minimum = maximum+1\n",
    "            maximum = df['END']\n",
    "            total= minimum_maximum(minimum,maximum,total)\n",
    "\n",
    "    return minimum, maximum, total"
   ]
  },
  {
   "cell_type": "code",
   "execution_count": 20,
   "metadata": {},
   "outputs": [],
   "source": [
    "df_x = df.loc[df['CHROM'] == 'X']\n",
    "df_2L = df.loc[df['CHROM'] == '2L']\n",
    "df_2R = df.loc[df['CHROM'] == '2R']\n",
    "df_3L = df.loc[df['CHROM'] == '3L']\n",
    "df_3R = df.loc[df['CHROM'] == '3R']"
   ]
  },
  {
   "cell_type": "code",
   "execution_count": 21,
   "metadata": {},
   "outputs": [
    {
     "output_type": "execute_result",
     "data": {
      "text/plain": [
       "CNV_ID\n",
       "0000002709    (25258534, 25260268, 4228192)\n",
       "0000002710    (25258534, 25260268, 4228192)\n",
       "0000002711    (25258534, 25260268, 4228192)\n",
       "0000002712    (25258534, 25260268, 4228192)\n",
       "0000002713    (25258534, 25260268, 4228192)\n",
       "                          ...              \n",
       "0000003977    (25987976, 25988392, 4247718)\n",
       "0000003978    (26044764, 26045558, 4248514)\n",
       "0000003979    (26764695, 26766061, 4249882)\n",
       "0000003980    (27161397, 27161526, 4250013)\n",
       "0000003981    (27379810, 27379920, 4250125)\n",
       "Length: 1273, dtype: object"
      ]
     },
     "metadata": {},
     "execution_count": 21
    }
   ],
   "source": [
    "df_x = df_x.apply(calc_non_overlap, axis=1)\n",
    "df_2L = df_2L.apply(calc_non_overlap, axis=1)\n",
    "df_2R = df_2R.apply(calc_non_overlap, axis=1)\n",
    "df_3L = df_3L.apply(calc_non_overlap, axis=1)\n",
    "df_3R = df_3R.apply(calc_non_overlap, axis=1)\n",
    "df_3L "
   ]
  },
  {
   "cell_type": "code",
   "execution_count": 67,
   "metadata": {},
   "outputs": [],
   "source": [
    "df3L = df_3L[-1][-1]\n",
    "df3R = df_3R[-1][-1]\n",
    "df2L = df_2L[-1][-1]\n",
    "df2R = df_2R[-1][-1]\n",
    "dfX = df_x[-1][-1]"
   ]
  },
  {
   "cell_type": "code",
   "execution_count": 72,
   "metadata": {},
   "outputs": [
    {
     "output_type": "execute_result",
     "data": {
      "text/plain": [
       "(4250125, 5256765, 3969913, 4228192, 3969913)"
      ]
     },
     "metadata": {},
     "execution_count": 72
    }
   ],
   "source": [
    "df3L , df3R , df2L , df2R , dfX"
   ]
  },
  {
   "cell_type": "code",
   "execution_count": 73,
   "metadata": {},
   "outputs": [
    {
     "output_type": "execute_result",
     "data": {
      "text/plain": [
       "21674908"
      ]
     },
     "metadata": {},
     "execution_count": 73
    }
   ],
   "source": [
    "df3L + df3R + df2L + df2R + dfX"
   ]
  },
  {
   "cell_type": "code",
   "execution_count": null,
   "metadata": {},
   "outputs": [],
   "source": [
    "21,674,908"
   ]
  },
  {
   "cell_type": "code",
   "execution_count": null,
   "metadata": {},
   "outputs": [],
   "source": []
  },
  {
   "cell_type": "code",
   "execution_count": null,
   "metadata": {},
   "outputs": [],
   "source": []
  },
  {
   "cell_type": "code",
   "execution_count": null,
   "metadata": {},
   "outputs": [],
   "source": []
  },
  {
   "cell_type": "code",
   "execution_count": null,
   "metadata": {},
   "outputs": [],
   "source": []
  },
  {
   "cell_type": "code",
   "execution_count": null,
   "metadata": {},
   "outputs": [],
   "source": []
  },
  {
   "cell_type": "code",
   "execution_count": null,
   "metadata": {},
   "outputs": [],
   "source": [
    "\n",
    "df_x = df_euchromatin.loc[df_euchromatin['chrom'] == 'X']\n",
    "df_2L = df_euchromatin.loc[df_euchromatin['chrom'] == '2L']\n",
    "df_2R = df_euchromatin.loc[df_euchromatin['chrom'] == '2R']\n",
    "df_3L = df_euchromatin.loc[df_euchromatin['chrom'] == '3L']\n",
    "df_3R = df_euchromatin.loc[df_euchromatin['chrom'] == '3R']\n",
    "\n",
    "\n",
    "\n",
    "df_x = df_x.apply(calc_non_overlap, axis=1)\n",
    "df_2L = df_2L.apply(calc_non_overlap, axis=1)\n",
    "df_2R = df_2R.apply(calc_non_overlap, axis=1)\n",
    "df_3L = df_3L.apply(calc_non_overlap, axis=1)\n",
    "df_3R = df_3R.apply(calc_non_overlap, axis=1)\n",
    "\n",
    "\n",
    "df3L = df_3L[-1][-1]\n",
    "df3R = df_3R[-1][-1]\n",
    "df2L = df_2L[-1][-1]\n",
    "df2R = df_2R[-1][-1]\n",
    "dfX = df_x[-1][-1]"
   ]
  }
 ]
}