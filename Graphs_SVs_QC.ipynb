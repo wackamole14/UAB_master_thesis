{
 "metadata": {
  "language_info": {
   "codemirror_mode": {
    "name": "ipython",
    "version": 3
   },
   "file_extension": ".py",
   "mimetype": "text/x-python",
   "name": "python",
   "nbconvert_exporter": "python",
   "pygments_lexer": "ipython3",
   "version": "3.7.10"
  },
  "orig_nbformat": 2,
  "kernelspec": {
   "name": "python3710jvsc74a57bd0dca0ade3e726a953b501b15e8e990130d2b7799f14cfd9f4271676035ebe5511",
   "display_name": "Python 3.7.10 64-bit ('base': conda)"
  }
 },
 "nbformat": 4,
 "nbformat_minor": 2,
 "cells": [
  {
   "cell_type": "code",
   "execution_count": 3,
   "metadata": {},
   "outputs": [],
   "source": [
    "import pandas as pd \n",
    "import plotly.io as pio\n",
    "import plotly.graph_objects as go\n",
    "import plotly.express as px\n",
    "import numpy as np\n",
    "import plotly.figure_factory as ff\n",
    "from itertools import cycle\n",
    "import matplotlib.pyplot as plt\n",
    "from itertools import cycle"
   ]
  },
  {
   "cell_type": "code",
   "execution_count": 16,
   "metadata": {},
   "outputs": [
    {
     "output_type": "execute_result",
     "data": {
      "text/plain": [
       "    Sample  INSERTION  DELETION  INDEL  TEINS  TEDEL  CNV_Q  CNV_R  CNV  INV  \\\n",
       "0      I23        367       337    704    569    557     75     95  170   31   \n",
       "1     T29A        674       468   1142    343    556    130    122  252   37   \n",
       "2      B59        357       446    803    727    583    129    104  233   22   \n",
       "3      N25        333       339    672    653    591     99    106  205   21   \n",
       "4     ZH26        422       535    957    506    596    287     91  378   28   \n",
       "5       A1        321       286    607    640    558     86     95  181   16   \n",
       "6       A2        410       341    751    591    632     72    107  179   25   \n",
       "7       A3        383       346    729    582    630     80     99  179   27   \n",
       "8       A4        389       353    742    572    616     88    105  193   24   \n",
       "9       A5        359       372    731    583    639     74    102  176   22   \n",
       "10      A6        411       360    771    765    626     88     97  185   23   \n",
       "11      A7        408       565    973    639    649    154     97  251   20   \n",
       "12     AB8        339       327    666    607    586     88     98  186   20   \n",
       "13      B1        380       334    714    598    631     84    106  190   24   \n",
       "14      B2        386       296    682    693    614     74    102  176   22   \n",
       "15      B3        352       394    746    630    634     94     97  191   25   \n",
       "16      B4        357       333    690    667    625     65    106  171   17   \n",
       "17      B6        342       350    692    613    616     67     98  165   22   \n",
       "18     ORE        333       358    691    567    615     74    104  178   24   \n",
       "19  AKA017        395       375    770    609    637     88    115  203   32   \n",
       "20  AKA018        399       399    798    593    632    149    104  253   31   \n",
       "21  COR014        385       385    770    592    649    142    104  246   25   \n",
       "22  COR018        415       281    696    599    628    264     95  359   19   \n",
       "23  COR023        435       286    721    549    640    263     95  358   26   \n",
       "24  COR025        407       295    702    577    634    293    103  396   29   \n",
       "25  GIM012        417       276    693    592    635    210    100  310   24   \n",
       "26  GIM024        368       355    723    595    637     98    107  205   23   \n",
       "27  JUT008        362       358    720    620    628    117     93  210   30   \n",
       "28  JUT011        382       332    714    603    636    161     99  260   26   \n",
       "29  KIE094        381       376    757    592    642    190    102  292   23   \n",
       "30  LUN004        399       364    763    583    635    165    100  265   28   \n",
       "31  LUN007        442       359    801    630    634    234    101  335   32   \n",
       "32  MUN008        401       306    707    641    632    245     94  339   30   \n",
       "33  MUN009        401       371    772    605    619    204     99  303   25   \n",
       "34  MUN013        365       363    728    653    635    228    111  339   39   \n",
       "35  MUN015        416       344    760    611    633    221     97  318   31   \n",
       "36  MUN016        365       375    740    591    622    107     98  205   29   \n",
       "37  MUN020        414       335    749    599    641    210    108  318   27   \n",
       "38  RAL059        433       360    793    637    627    199     97  296   22   \n",
       "39  RAL091        439       416    855    618    634    283     97  380   24   \n",
       "40  RAL176        476       405    881    665    624    303    104  407   33   \n",
       "41  RAL177        377       365    742    611    643    110    118  228   28   \n",
       "42  RAL375        360       344    704    581    659     92     95  187   23   \n",
       "43  RAL426        416       316    732    651    652    287    102  389   21   \n",
       "44  RAL737        422       379    801    624    630    195     97  292   26   \n",
       "45  RAL855        412       341    753    589    624    256    101  357   20   \n",
       "46  SLA001        375       337    712    475    622    277    107  384   22   \n",
       "47  STO022        363       377    740    604    631    197    103  300   32   \n",
       "48  TEN015        398       338    736    553    611    279    104  383   24   \n",
       "49  TOM007        402       347    749    620    642    141    105  246   23   \n",
       "50  TOM008        404       290    694    604    628    202    109  311   23   \n",
       "\n",
       "         Source  \n",
       "0          Long  \n",
       "1          Long  \n",
       "2          Long  \n",
       "3          Long  \n",
       "4          Long  \n",
       "5   Chakraborty  \n",
       "6   Chakraborty  \n",
       "7   Chakraborty  \n",
       "8   Chakraborty  \n",
       "9   Chakraborty  \n",
       "10  Chakraborty  \n",
       "11  Chakraborty  \n",
       "12  Chakraborty  \n",
       "13  Chakraborty  \n",
       "14  Chakraborty  \n",
       "15  Chakraborty  \n",
       "16  Chakraborty  \n",
       "17  Chakraborty  \n",
       "18  Chakraborty  \n",
       "19         Rech  \n",
       "20         Rech  \n",
       "21         Rech  \n",
       "22         Rech  \n",
       "23         Rech  \n",
       "24         Rech  \n",
       "25         Rech  \n",
       "26         Rech  \n",
       "27         Rech  \n",
       "28         Rech  \n",
       "29         Rech  \n",
       "30         Rech  \n",
       "31         Rech  \n",
       "32         Rech  \n",
       "33         Rech  \n",
       "34         Rech  \n",
       "35         Rech  \n",
       "36         Rech  \n",
       "37         Rech  \n",
       "38         Rech  \n",
       "39         Rech  \n",
       "40         Rech  \n",
       "41         Rech  \n",
       "42         Rech  \n",
       "43         Rech  \n",
       "44         Rech  \n",
       "45         Rech  \n",
       "46         Rech  \n",
       "47         Rech  \n",
       "48         Rech  \n",
       "49         Rech  \n",
       "50         Rech  "
      ],
      "text/html": "<div>\n<style scoped>\n    .dataframe tbody tr th:only-of-type {\n        vertical-align: middle;\n    }\n\n    .dataframe tbody tr th {\n        vertical-align: top;\n    }\n\n    .dataframe thead th {\n        text-align: right;\n    }\n</style>\n<table border=\"1\" class=\"dataframe\">\n  <thead>\n    <tr style=\"text-align: right;\">\n      <th></th>\n      <th>Sample</th>\n      <th>INSERTION</th>\n      <th>DELETION</th>\n      <th>INDEL</th>\n      <th>TEINS</th>\n      <th>TEDEL</th>\n      <th>CNV_Q</th>\n      <th>CNV_R</th>\n      <th>CNV</th>\n      <th>INV</th>\n      <th>Source</th>\n    </tr>\n  </thead>\n  <tbody>\n    <tr>\n      <th>0</th>\n      <td>I23</td>\n      <td>367</td>\n      <td>337</td>\n      <td>704</td>\n      <td>569</td>\n      <td>557</td>\n      <td>75</td>\n      <td>95</td>\n      <td>170</td>\n      <td>31</td>\n      <td>Long</td>\n    </tr>\n    <tr>\n      <th>1</th>\n      <td>T29A</td>\n      <td>674</td>\n      <td>468</td>\n      <td>1142</td>\n      <td>343</td>\n      <td>556</td>\n      <td>130</td>\n      <td>122</td>\n      <td>252</td>\n      <td>37</td>\n      <td>Long</td>\n    </tr>\n    <tr>\n      <th>2</th>\n      <td>B59</td>\n      <td>357</td>\n      <td>446</td>\n      <td>803</td>\n      <td>727</td>\n      <td>583</td>\n      <td>129</td>\n      <td>104</td>\n      <td>233</td>\n      <td>22</td>\n      <td>Long</td>\n    </tr>\n    <tr>\n      <th>3</th>\n      <td>N25</td>\n      <td>333</td>\n      <td>339</td>\n      <td>672</td>\n      <td>653</td>\n      <td>591</td>\n      <td>99</td>\n      <td>106</td>\n      <td>205</td>\n      <td>21</td>\n      <td>Long</td>\n    </tr>\n    <tr>\n      <th>4</th>\n      <td>ZH26</td>\n      <td>422</td>\n      <td>535</td>\n      <td>957</td>\n      <td>506</td>\n      <td>596</td>\n      <td>287</td>\n      <td>91</td>\n      <td>378</td>\n      <td>28</td>\n      <td>Long</td>\n    </tr>\n    <tr>\n      <th>5</th>\n      <td>A1</td>\n      <td>321</td>\n      <td>286</td>\n      <td>607</td>\n      <td>640</td>\n      <td>558</td>\n      <td>86</td>\n      <td>95</td>\n      <td>181</td>\n      <td>16</td>\n      <td>Chakraborty</td>\n    </tr>\n    <tr>\n      <th>6</th>\n      <td>A2</td>\n      <td>410</td>\n      <td>341</td>\n      <td>751</td>\n      <td>591</td>\n      <td>632</td>\n      <td>72</td>\n      <td>107</td>\n      <td>179</td>\n      <td>25</td>\n      <td>Chakraborty</td>\n    </tr>\n    <tr>\n      <th>7</th>\n      <td>A3</td>\n      <td>383</td>\n      <td>346</td>\n      <td>729</td>\n      <td>582</td>\n      <td>630</td>\n      <td>80</td>\n      <td>99</td>\n      <td>179</td>\n      <td>27</td>\n      <td>Chakraborty</td>\n    </tr>\n    <tr>\n      <th>8</th>\n      <td>A4</td>\n      <td>389</td>\n      <td>353</td>\n      <td>742</td>\n      <td>572</td>\n      <td>616</td>\n      <td>88</td>\n      <td>105</td>\n      <td>193</td>\n      <td>24</td>\n      <td>Chakraborty</td>\n    </tr>\n    <tr>\n      <th>9</th>\n      <td>A5</td>\n      <td>359</td>\n      <td>372</td>\n      <td>731</td>\n      <td>583</td>\n      <td>639</td>\n      <td>74</td>\n      <td>102</td>\n      <td>176</td>\n      <td>22</td>\n      <td>Chakraborty</td>\n    </tr>\n    <tr>\n      <th>10</th>\n      <td>A6</td>\n      <td>411</td>\n      <td>360</td>\n      <td>771</td>\n      <td>765</td>\n      <td>626</td>\n      <td>88</td>\n      <td>97</td>\n      <td>185</td>\n      <td>23</td>\n      <td>Chakraborty</td>\n    </tr>\n    <tr>\n      <th>11</th>\n      <td>A7</td>\n      <td>408</td>\n      <td>565</td>\n      <td>973</td>\n      <td>639</td>\n      <td>649</td>\n      <td>154</td>\n      <td>97</td>\n      <td>251</td>\n      <td>20</td>\n      <td>Chakraborty</td>\n    </tr>\n    <tr>\n      <th>12</th>\n      <td>AB8</td>\n      <td>339</td>\n      <td>327</td>\n      <td>666</td>\n      <td>607</td>\n      <td>586</td>\n      <td>88</td>\n      <td>98</td>\n      <td>186</td>\n      <td>20</td>\n      <td>Chakraborty</td>\n    </tr>\n    <tr>\n      <th>13</th>\n      <td>B1</td>\n      <td>380</td>\n      <td>334</td>\n      <td>714</td>\n      <td>598</td>\n      <td>631</td>\n      <td>84</td>\n      <td>106</td>\n      <td>190</td>\n      <td>24</td>\n      <td>Chakraborty</td>\n    </tr>\n    <tr>\n      <th>14</th>\n      <td>B2</td>\n      <td>386</td>\n      <td>296</td>\n      <td>682</td>\n      <td>693</td>\n      <td>614</td>\n      <td>74</td>\n      <td>102</td>\n      <td>176</td>\n      <td>22</td>\n      <td>Chakraborty</td>\n    </tr>\n    <tr>\n      <th>15</th>\n      <td>B3</td>\n      <td>352</td>\n      <td>394</td>\n      <td>746</td>\n      <td>630</td>\n      <td>634</td>\n      <td>94</td>\n      <td>97</td>\n      <td>191</td>\n      <td>25</td>\n      <td>Chakraborty</td>\n    </tr>\n    <tr>\n      <th>16</th>\n      <td>B4</td>\n      <td>357</td>\n      <td>333</td>\n      <td>690</td>\n      <td>667</td>\n      <td>625</td>\n      <td>65</td>\n      <td>106</td>\n      <td>171</td>\n      <td>17</td>\n      <td>Chakraborty</td>\n    </tr>\n    <tr>\n      <th>17</th>\n      <td>B6</td>\n      <td>342</td>\n      <td>350</td>\n      <td>692</td>\n      <td>613</td>\n      <td>616</td>\n      <td>67</td>\n      <td>98</td>\n      <td>165</td>\n      <td>22</td>\n      <td>Chakraborty</td>\n    </tr>\n    <tr>\n      <th>18</th>\n      <td>ORE</td>\n      <td>333</td>\n      <td>358</td>\n      <td>691</td>\n      <td>567</td>\n      <td>615</td>\n      <td>74</td>\n      <td>104</td>\n      <td>178</td>\n      <td>24</td>\n      <td>Chakraborty</td>\n    </tr>\n    <tr>\n      <th>19</th>\n      <td>AKA017</td>\n      <td>395</td>\n      <td>375</td>\n      <td>770</td>\n      <td>609</td>\n      <td>637</td>\n      <td>88</td>\n      <td>115</td>\n      <td>203</td>\n      <td>32</td>\n      <td>Rech</td>\n    </tr>\n    <tr>\n      <th>20</th>\n      <td>AKA018</td>\n      <td>399</td>\n      <td>399</td>\n      <td>798</td>\n      <td>593</td>\n      <td>632</td>\n      <td>149</td>\n      <td>104</td>\n      <td>253</td>\n      <td>31</td>\n      <td>Rech</td>\n    </tr>\n    <tr>\n      <th>21</th>\n      <td>COR014</td>\n      <td>385</td>\n      <td>385</td>\n      <td>770</td>\n      <td>592</td>\n      <td>649</td>\n      <td>142</td>\n      <td>104</td>\n      <td>246</td>\n      <td>25</td>\n      <td>Rech</td>\n    </tr>\n    <tr>\n      <th>22</th>\n      <td>COR018</td>\n      <td>415</td>\n      <td>281</td>\n      <td>696</td>\n      <td>599</td>\n      <td>628</td>\n      <td>264</td>\n      <td>95</td>\n      <td>359</td>\n      <td>19</td>\n      <td>Rech</td>\n    </tr>\n    <tr>\n      <th>23</th>\n      <td>COR023</td>\n      <td>435</td>\n      <td>286</td>\n      <td>721</td>\n      <td>549</td>\n      <td>640</td>\n      <td>263</td>\n      <td>95</td>\n      <td>358</td>\n      <td>26</td>\n      <td>Rech</td>\n    </tr>\n    <tr>\n      <th>24</th>\n      <td>COR025</td>\n      <td>407</td>\n      <td>295</td>\n      <td>702</td>\n      <td>577</td>\n      <td>634</td>\n      <td>293</td>\n      <td>103</td>\n      <td>396</td>\n      <td>29</td>\n      <td>Rech</td>\n    </tr>\n    <tr>\n      <th>25</th>\n      <td>GIM012</td>\n      <td>417</td>\n      <td>276</td>\n      <td>693</td>\n      <td>592</td>\n      <td>635</td>\n      <td>210</td>\n      <td>100</td>\n      <td>310</td>\n      <td>24</td>\n      <td>Rech</td>\n    </tr>\n    <tr>\n      <th>26</th>\n      <td>GIM024</td>\n      <td>368</td>\n      <td>355</td>\n      <td>723</td>\n      <td>595</td>\n      <td>637</td>\n      <td>98</td>\n      <td>107</td>\n      <td>205</td>\n      <td>23</td>\n      <td>Rech</td>\n    </tr>\n    <tr>\n      <th>27</th>\n      <td>JUT008</td>\n      <td>362</td>\n      <td>358</td>\n      <td>720</td>\n      <td>620</td>\n      <td>628</td>\n      <td>117</td>\n      <td>93</td>\n      <td>210</td>\n      <td>30</td>\n      <td>Rech</td>\n    </tr>\n    <tr>\n      <th>28</th>\n      <td>JUT011</td>\n      <td>382</td>\n      <td>332</td>\n      <td>714</td>\n      <td>603</td>\n      <td>636</td>\n      <td>161</td>\n      <td>99</td>\n      <td>260</td>\n      <td>26</td>\n      <td>Rech</td>\n    </tr>\n    <tr>\n      <th>29</th>\n      <td>KIE094</td>\n      <td>381</td>\n      <td>376</td>\n      <td>757</td>\n      <td>592</td>\n      <td>642</td>\n      <td>190</td>\n      <td>102</td>\n      <td>292</td>\n      <td>23</td>\n      <td>Rech</td>\n    </tr>\n    <tr>\n      <th>30</th>\n      <td>LUN004</td>\n      <td>399</td>\n      <td>364</td>\n      <td>763</td>\n      <td>583</td>\n      <td>635</td>\n      <td>165</td>\n      <td>100</td>\n      <td>265</td>\n      <td>28</td>\n      <td>Rech</td>\n    </tr>\n    <tr>\n      <th>31</th>\n      <td>LUN007</td>\n      <td>442</td>\n      <td>359</td>\n      <td>801</td>\n      <td>630</td>\n      <td>634</td>\n      <td>234</td>\n      <td>101</td>\n      <td>335</td>\n      <td>32</td>\n      <td>Rech</td>\n    </tr>\n    <tr>\n      <th>32</th>\n      <td>MUN008</td>\n      <td>401</td>\n      <td>306</td>\n      <td>707</td>\n      <td>641</td>\n      <td>632</td>\n      <td>245</td>\n      <td>94</td>\n      <td>339</td>\n      <td>30</td>\n      <td>Rech</td>\n    </tr>\n    <tr>\n      <th>33</th>\n      <td>MUN009</td>\n      <td>401</td>\n      <td>371</td>\n      <td>772</td>\n      <td>605</td>\n      <td>619</td>\n      <td>204</td>\n      <td>99</td>\n      <td>303</td>\n      <td>25</td>\n      <td>Rech</td>\n    </tr>\n    <tr>\n      <th>34</th>\n      <td>MUN013</td>\n      <td>365</td>\n      <td>363</td>\n      <td>728</td>\n      <td>653</td>\n      <td>635</td>\n      <td>228</td>\n      <td>111</td>\n      <td>339</td>\n      <td>39</td>\n      <td>Rech</td>\n    </tr>\n    <tr>\n      <th>35</th>\n      <td>MUN015</td>\n      <td>416</td>\n      <td>344</td>\n      <td>760</td>\n      <td>611</td>\n      <td>633</td>\n      <td>221</td>\n      <td>97</td>\n      <td>318</td>\n      <td>31</td>\n      <td>Rech</td>\n    </tr>\n    <tr>\n      <th>36</th>\n      <td>MUN016</td>\n      <td>365</td>\n      <td>375</td>\n      <td>740</td>\n      <td>591</td>\n      <td>622</td>\n      <td>107</td>\n      <td>98</td>\n      <td>205</td>\n      <td>29</td>\n      <td>Rech</td>\n    </tr>\n    <tr>\n      <th>37</th>\n      <td>MUN020</td>\n      <td>414</td>\n      <td>335</td>\n      <td>749</td>\n      <td>599</td>\n      <td>641</td>\n      <td>210</td>\n      <td>108</td>\n      <td>318</td>\n      <td>27</td>\n      <td>Rech</td>\n    </tr>\n    <tr>\n      <th>38</th>\n      <td>RAL059</td>\n      <td>433</td>\n      <td>360</td>\n      <td>793</td>\n      <td>637</td>\n      <td>627</td>\n      <td>199</td>\n      <td>97</td>\n      <td>296</td>\n      <td>22</td>\n      <td>Rech</td>\n    </tr>\n    <tr>\n      <th>39</th>\n      <td>RAL091</td>\n      <td>439</td>\n      <td>416</td>\n      <td>855</td>\n      <td>618</td>\n      <td>634</td>\n      <td>283</td>\n      <td>97</td>\n      <td>380</td>\n      <td>24</td>\n      <td>Rech</td>\n    </tr>\n    <tr>\n      <th>40</th>\n      <td>RAL176</td>\n      <td>476</td>\n      <td>405</td>\n      <td>881</td>\n      <td>665</td>\n      <td>624</td>\n      <td>303</td>\n      <td>104</td>\n      <td>407</td>\n      <td>33</td>\n      <td>Rech</td>\n    </tr>\n    <tr>\n      <th>41</th>\n      <td>RAL177</td>\n      <td>377</td>\n      <td>365</td>\n      <td>742</td>\n      <td>611</td>\n      <td>643</td>\n      <td>110</td>\n      <td>118</td>\n      <td>228</td>\n      <td>28</td>\n      <td>Rech</td>\n    </tr>\n    <tr>\n      <th>42</th>\n      <td>RAL375</td>\n      <td>360</td>\n      <td>344</td>\n      <td>704</td>\n      <td>581</td>\n      <td>659</td>\n      <td>92</td>\n      <td>95</td>\n      <td>187</td>\n      <td>23</td>\n      <td>Rech</td>\n    </tr>\n    <tr>\n      <th>43</th>\n      <td>RAL426</td>\n      <td>416</td>\n      <td>316</td>\n      <td>732</td>\n      <td>651</td>\n      <td>652</td>\n      <td>287</td>\n      <td>102</td>\n      <td>389</td>\n      <td>21</td>\n      <td>Rech</td>\n    </tr>\n    <tr>\n      <th>44</th>\n      <td>RAL737</td>\n      <td>422</td>\n      <td>379</td>\n      <td>801</td>\n      <td>624</td>\n      <td>630</td>\n      <td>195</td>\n      <td>97</td>\n      <td>292</td>\n      <td>26</td>\n      <td>Rech</td>\n    </tr>\n    <tr>\n      <th>45</th>\n      <td>RAL855</td>\n      <td>412</td>\n      <td>341</td>\n      <td>753</td>\n      <td>589</td>\n      <td>624</td>\n      <td>256</td>\n      <td>101</td>\n      <td>357</td>\n      <td>20</td>\n      <td>Rech</td>\n    </tr>\n    <tr>\n      <th>46</th>\n      <td>SLA001</td>\n      <td>375</td>\n      <td>337</td>\n      <td>712</td>\n      <td>475</td>\n      <td>622</td>\n      <td>277</td>\n      <td>107</td>\n      <td>384</td>\n      <td>22</td>\n      <td>Rech</td>\n    </tr>\n    <tr>\n      <th>47</th>\n      <td>STO022</td>\n      <td>363</td>\n      <td>377</td>\n      <td>740</td>\n      <td>604</td>\n      <td>631</td>\n      <td>197</td>\n      <td>103</td>\n      <td>300</td>\n      <td>32</td>\n      <td>Rech</td>\n    </tr>\n    <tr>\n      <th>48</th>\n      <td>TEN015</td>\n      <td>398</td>\n      <td>338</td>\n      <td>736</td>\n      <td>553</td>\n      <td>611</td>\n      <td>279</td>\n      <td>104</td>\n      <td>383</td>\n      <td>24</td>\n      <td>Rech</td>\n    </tr>\n    <tr>\n      <th>49</th>\n      <td>TOM007</td>\n      <td>402</td>\n      <td>347</td>\n      <td>749</td>\n      <td>620</td>\n      <td>642</td>\n      <td>141</td>\n      <td>105</td>\n      <td>246</td>\n      <td>23</td>\n      <td>Rech</td>\n    </tr>\n    <tr>\n      <th>50</th>\n      <td>TOM008</td>\n      <td>404</td>\n      <td>290</td>\n      <td>694</td>\n      <td>604</td>\n      <td>628</td>\n      <td>202</td>\n      <td>109</td>\n      <td>311</td>\n      <td>23</td>\n      <td>Rech</td>\n    </tr>\n  </tbody>\n</table>\n</div>"
     },
     "metadata": {},
     "execution_count": 16
    }
   ],
   "source": [
    "df1 = pd.read_csv(f'filtered_SVMU_summary.csv', sep=',')\n",
    "df1.head(60)"
   ]
  },
  {
   "cell_type": "code",
   "execution_count": 5,
   "metadata": {},
   "outputs": [
    {
     "output_type": "display_data",
     "data": {
      "application/vnd.plotly.v1+json": {
       "config": {
        "plotlyServerURL": "https://plot.ly"
       },
       "data": [
        {
         "box": {
          "visible": true
         },
         "hoverinfo": "text",
         "marker": {
          "color": "#a391a1"
         },
         "meanline": {
          "visible": true
         },
         "name": "INDEL",
         "points": "all",
         "text": [
          "I23",
          "T29A",
          "B59",
          "N25",
          "ZH26",
          "A1",
          "A2",
          "A3",
          "A4",
          "A5",
          "A6",
          "A7",
          "AB8",
          "B1",
          "B2",
          "B3",
          "B4",
          "B6",
          "ORE",
          "AKA017",
          "AKA018",
          "COR014",
          "COR018",
          "COR023",
          "COR025",
          "GIM012",
          "GIM024",
          "JUT008",
          "JUT011",
          "KIE094",
          "LUN004",
          "LUN007",
          "MUN008",
          "MUN009",
          "MUN013",
          "MUN015",
          "MUN016",
          "MUN020",
          "RAL059",
          "RAL091",
          "RAL176",
          "RAL177",
          "RAL375",
          "RAL426",
          "RAL737",
          "RAL855",
          "SLA001",
          "STO022",
          "TEN015",
          "TOM007",
          "TOM008"
         ],
         "type": "violin",
         "y": [
          704,
          1142,
          803,
          672,
          957,
          607,
          751,
          729,
          742,
          731,
          771,
          973,
          666,
          714,
          682,
          746,
          690,
          692,
          691,
          770,
          798,
          770,
          696,
          721,
          702,
          693,
          723,
          720,
          714,
          757,
          763,
          801,
          707,
          772,
          728,
          760,
          740,
          749,
          793,
          855,
          881,
          742,
          704,
          732,
          801,
          753,
          712,
          740,
          736,
          749,
          694
         ]
        },
        {
         "box": {
          "visible": true
         },
         "hoverinfo": "text",
         "marker": {
          "color": "#e8ad9c"
         },
         "meanline": {
          "visible": true
         },
         "name": "TEs",
         "points": "all",
         "text": [
          "I23",
          "T29A",
          "B59",
          "N25",
          "ZH26",
          "A1",
          "A2",
          "A3",
          "A4",
          "A5",
          "A6",
          "A7",
          "AB8",
          "B1",
          "B2",
          "B3",
          "B4",
          "B6",
          "ORE",
          "AKA017",
          "AKA018",
          "COR014",
          "COR018",
          "COR023",
          "COR025",
          "GIM012",
          "GIM024",
          "JUT008",
          "JUT011",
          "KIE094",
          "LUN004",
          "LUN007",
          "MUN008",
          "MUN009",
          "MUN013",
          "MUN015",
          "MUN016",
          "MUN020",
          "RAL059",
          "RAL091",
          "RAL176",
          "RAL177",
          "RAL375",
          "RAL426",
          "RAL737",
          "RAL855",
          "SLA001",
          "STO022",
          "TEN015",
          "TOM007",
          "TOM008"
         ],
         "type": "violin",
         "y": [
          1126,
          899,
          1310,
          1244,
          1102,
          1198,
          1223,
          1212,
          1188,
          1222,
          1391,
          1288,
          1193,
          1229,
          1307,
          1264,
          1292,
          1229,
          1182,
          1246,
          1225,
          1241,
          1227,
          1189,
          1211,
          1227,
          1232,
          1248,
          1239,
          1234,
          1218,
          1264,
          1273,
          1224,
          1288,
          1244,
          1213,
          1240,
          1264,
          1252,
          1289,
          1254,
          1240,
          1303,
          1254,
          1213,
          1097,
          1235,
          1164,
          1262,
          1232
         ]
        },
        {
         "box": {
          "visible": true
         },
         "hoverinfo": "text",
         "marker": {
          "color": "#8ac7dd"
         },
         "meanline": {
          "visible": true
         },
         "name": "CNVs",
         "points": "all",
         "text": [
          "I23",
          "T29A",
          "B59",
          "N25",
          "ZH26",
          "A1",
          "A2",
          "A3",
          "A4",
          "A5",
          "A6",
          "A7",
          "AB8",
          "B1",
          "B2",
          "B3",
          "B4",
          "B6",
          "ORE",
          "AKA017",
          "AKA018",
          "COR014",
          "COR018",
          "COR023",
          "COR025",
          "GIM012",
          "GIM024",
          "JUT008",
          "JUT011",
          "KIE094",
          "LUN004",
          "LUN007",
          "MUN008",
          "MUN009",
          "MUN013",
          "MUN015",
          "MUN016",
          "MUN020",
          "RAL059",
          "RAL091",
          "RAL176",
          "RAL177",
          "RAL375",
          "RAL426",
          "RAL737",
          "RAL855",
          "SLA001",
          "STO022",
          "TEN015",
          "TOM007",
          "TOM008"
         ],
         "type": "violin",
         "y": [
          170,
          252,
          233,
          205,
          378,
          181,
          179,
          179,
          193,
          176,
          185,
          251,
          186,
          190,
          176,
          191,
          171,
          165,
          178,
          203,
          253,
          246,
          359,
          358,
          396,
          310,
          205,
          210,
          260,
          292,
          265,
          335,
          339,
          303,
          339,
          318,
          205,
          318,
          296,
          380,
          407,
          228,
          187,
          389,
          292,
          357,
          384,
          300,
          383,
          246,
          311
         ]
        },
        {
         "box": {
          "visible": true
         },
         "hoverinfo": "text",
         "marker": {
          "color": "#c1dedc"
         },
         "meanline": {
          "visible": true
         },
         "name": "Inversions",
         "points": "all",
         "text": [
          "I23",
          "T29A",
          "B59",
          "N25",
          "ZH26",
          "A1",
          "A2",
          "A3",
          "A4",
          "A5",
          "A6",
          "A7",
          "AB8",
          "B1",
          "B2",
          "B3",
          "B4",
          "B6",
          "ORE",
          "AKA017",
          "AKA018",
          "COR014",
          "COR018",
          "COR023",
          "COR025",
          "GIM012",
          "GIM024",
          "JUT008",
          "JUT011",
          "KIE094",
          "LUN004",
          "LUN007",
          "MUN008",
          "MUN009",
          "MUN013",
          "MUN015",
          "MUN016",
          "MUN020",
          "RAL059",
          "RAL091",
          "RAL176",
          "RAL177",
          "RAL375",
          "RAL426",
          "RAL737",
          "RAL855",
          "SLA001",
          "STO022",
          "TEN015",
          "TOM007",
          "TOM008"
         ],
         "type": "violin",
         "y": [
          31,
          37,
          22,
          21,
          28,
          16,
          25,
          27,
          24,
          22,
          23,
          20,
          20,
          24,
          22,
          25,
          17,
          22,
          24,
          32,
          31,
          25,
          19,
          26,
          29,
          24,
          23,
          30,
          26,
          23,
          28,
          32,
          30,
          25,
          39,
          31,
          29,
          27,
          22,
          24,
          33,
          28,
          23,
          21,
          26,
          20,
          22,
          32,
          24,
          23,
          23
         ]
        }
       ],
       "layout": {
        "plot_bgcolor": "rgba(0,0,0,0)",
        "template": {
         "data": {
          "bar": [
           {
            "error_x": {
             "color": "#2a3f5f"
            },
            "error_y": {
             "color": "#2a3f5f"
            },
            "marker": {
             "line": {
              "color": "#E5ECF6",
              "width": 0.5
             }
            },
            "type": "bar"
           }
          ],
          "barpolar": [
           {
            "marker": {
             "line": {
              "color": "#E5ECF6",
              "width": 0.5
             }
            },
            "type": "barpolar"
           }
          ],
          "carpet": [
           {
            "aaxis": {
             "endlinecolor": "#2a3f5f",
             "gridcolor": "white",
             "linecolor": "white",
             "minorgridcolor": "white",
             "startlinecolor": "#2a3f5f"
            },
            "baxis": {
             "endlinecolor": "#2a3f5f",
             "gridcolor": "white",
             "linecolor": "white",
             "minorgridcolor": "white",
             "startlinecolor": "#2a3f5f"
            },
            "type": "carpet"
           }
          ],
          "choropleth": [
           {
            "colorbar": {
             "outlinewidth": 0,
             "ticks": ""
            },
            "type": "choropleth"
           }
          ],
          "contour": [
           {
            "colorbar": {
             "outlinewidth": 0,
             "ticks": ""
            },
            "colorscale": [
             [
              0,
              "#0d0887"
             ],
             [
              0.1111111111111111,
              "#46039f"
             ],
             [
              0.2222222222222222,
              "#7201a8"
             ],
             [
              0.3333333333333333,
              "#9c179e"
             ],
             [
              0.4444444444444444,
              "#bd3786"
             ],
             [
              0.5555555555555556,
              "#d8576b"
             ],
             [
              0.6666666666666666,
              "#ed7953"
             ],
             [
              0.7777777777777778,
              "#fb9f3a"
             ],
             [
              0.8888888888888888,
              "#fdca26"
             ],
             [
              1,
              "#f0f921"
             ]
            ],
            "type": "contour"
           }
          ],
          "contourcarpet": [
           {
            "colorbar": {
             "outlinewidth": 0,
             "ticks": ""
            },
            "type": "contourcarpet"
           }
          ],
          "heatmap": [
           {
            "colorbar": {
             "outlinewidth": 0,
             "ticks": ""
            },
            "colorscale": [
             [
              0,
              "#0d0887"
             ],
             [
              0.1111111111111111,
              "#46039f"
             ],
             [
              0.2222222222222222,
              "#7201a8"
             ],
             [
              0.3333333333333333,
              "#9c179e"
             ],
             [
              0.4444444444444444,
              "#bd3786"
             ],
             [
              0.5555555555555556,
              "#d8576b"
             ],
             [
              0.6666666666666666,
              "#ed7953"
             ],
             [
              0.7777777777777778,
              "#fb9f3a"
             ],
             [
              0.8888888888888888,
              "#fdca26"
             ],
             [
              1,
              "#f0f921"
             ]
            ],
            "type": "heatmap"
           }
          ],
          "heatmapgl": [
           {
            "colorbar": {
             "outlinewidth": 0,
             "ticks": ""
            },
            "colorscale": [
             [
              0,
              "#0d0887"
             ],
             [
              0.1111111111111111,
              "#46039f"
             ],
             [
              0.2222222222222222,
              "#7201a8"
             ],
             [
              0.3333333333333333,
              "#9c179e"
             ],
             [
              0.4444444444444444,
              "#bd3786"
             ],
             [
              0.5555555555555556,
              "#d8576b"
             ],
             [
              0.6666666666666666,
              "#ed7953"
             ],
             [
              0.7777777777777778,
              "#fb9f3a"
             ],
             [
              0.8888888888888888,
              "#fdca26"
             ],
             [
              1,
              "#f0f921"
             ]
            ],
            "type": "heatmapgl"
           }
          ],
          "histogram": [
           {
            "marker": {
             "colorbar": {
              "outlinewidth": 0,
              "ticks": ""
             }
            },
            "type": "histogram"
           }
          ],
          "histogram2d": [
           {
            "colorbar": {
             "outlinewidth": 0,
             "ticks": ""
            },
            "colorscale": [
             [
              0,
              "#0d0887"
             ],
             [
              0.1111111111111111,
              "#46039f"
             ],
             [
              0.2222222222222222,
              "#7201a8"
             ],
             [
              0.3333333333333333,
              "#9c179e"
             ],
             [
              0.4444444444444444,
              "#bd3786"
             ],
             [
              0.5555555555555556,
              "#d8576b"
             ],
             [
              0.6666666666666666,
              "#ed7953"
             ],
             [
              0.7777777777777778,
              "#fb9f3a"
             ],
             [
              0.8888888888888888,
              "#fdca26"
             ],
             [
              1,
              "#f0f921"
             ]
            ],
            "type": "histogram2d"
           }
          ],
          "histogram2dcontour": [
           {
            "colorbar": {
             "outlinewidth": 0,
             "ticks": ""
            },
            "colorscale": [
             [
              0,
              "#0d0887"
             ],
             [
              0.1111111111111111,
              "#46039f"
             ],
             [
              0.2222222222222222,
              "#7201a8"
             ],
             [
              0.3333333333333333,
              "#9c179e"
             ],
             [
              0.4444444444444444,
              "#bd3786"
             ],
             [
              0.5555555555555556,
              "#d8576b"
             ],
             [
              0.6666666666666666,
              "#ed7953"
             ],
             [
              0.7777777777777778,
              "#fb9f3a"
             ],
             [
              0.8888888888888888,
              "#fdca26"
             ],
             [
              1,
              "#f0f921"
             ]
            ],
            "type": "histogram2dcontour"
           }
          ],
          "mesh3d": [
           {
            "colorbar": {
             "outlinewidth": 0,
             "ticks": ""
            },
            "type": "mesh3d"
           }
          ],
          "parcoords": [
           {
            "line": {
             "colorbar": {
              "outlinewidth": 0,
              "ticks": ""
             }
            },
            "type": "parcoords"
           }
          ],
          "pie": [
           {
            "automargin": true,
            "type": "pie"
           }
          ],
          "scatter": [
           {
            "marker": {
             "colorbar": {
              "outlinewidth": 0,
              "ticks": ""
             }
            },
            "type": "scatter"
           }
          ],
          "scatter3d": [
           {
            "line": {
             "colorbar": {
              "outlinewidth": 0,
              "ticks": ""
             }
            },
            "marker": {
             "colorbar": {
              "outlinewidth": 0,
              "ticks": ""
             }
            },
            "type": "scatter3d"
           }
          ],
          "scattercarpet": [
           {
            "marker": {
             "colorbar": {
              "outlinewidth": 0,
              "ticks": ""
             }
            },
            "type": "scattercarpet"
           }
          ],
          "scattergeo": [
           {
            "marker": {
             "colorbar": {
              "outlinewidth": 0,
              "ticks": ""
             }
            },
            "type": "scattergeo"
           }
          ],
          "scattergl": [
           {
            "marker": {
             "colorbar": {
              "outlinewidth": 0,
              "ticks": ""
             }
            },
            "type": "scattergl"
           }
          ],
          "scattermapbox": [
           {
            "marker": {
             "colorbar": {
              "outlinewidth": 0,
              "ticks": ""
             }
            },
            "type": "scattermapbox"
           }
          ],
          "scatterpolar": [
           {
            "marker": {
             "colorbar": {
              "outlinewidth": 0,
              "ticks": ""
             }
            },
            "type": "scatterpolar"
           }
          ],
          "scatterpolargl": [
           {
            "marker": {
             "colorbar": {
              "outlinewidth": 0,
              "ticks": ""
             }
            },
            "type": "scatterpolargl"
           }
          ],
          "scatterternary": [
           {
            "marker": {
             "colorbar": {
              "outlinewidth": 0,
              "ticks": ""
             }
            },
            "type": "scatterternary"
           }
          ],
          "surface": [
           {
            "colorbar": {
             "outlinewidth": 0,
             "ticks": ""
            },
            "colorscale": [
             [
              0,
              "#0d0887"
             ],
             [
              0.1111111111111111,
              "#46039f"
             ],
             [
              0.2222222222222222,
              "#7201a8"
             ],
             [
              0.3333333333333333,
              "#9c179e"
             ],
             [
              0.4444444444444444,
              "#bd3786"
             ],
             [
              0.5555555555555556,
              "#d8576b"
             ],
             [
              0.6666666666666666,
              "#ed7953"
             ],
             [
              0.7777777777777778,
              "#fb9f3a"
             ],
             [
              0.8888888888888888,
              "#fdca26"
             ],
             [
              1,
              "#f0f921"
             ]
            ],
            "type": "surface"
           }
          ],
          "table": [
           {
            "cells": {
             "fill": {
              "color": "#EBF0F8"
             },
             "line": {
              "color": "white"
             }
            },
            "header": {
             "fill": {
              "color": "#C8D4E3"
             },
             "line": {
              "color": "white"
             }
            },
            "type": "table"
           }
          ]
         },
         "layout": {
          "annotationdefaults": {
           "arrowcolor": "#2a3f5f",
           "arrowhead": 0,
           "arrowwidth": 1
          },
          "autotypenumbers": "strict",
          "coloraxis": {
           "colorbar": {
            "outlinewidth": 0,
            "ticks": ""
           }
          },
          "colorscale": {
           "diverging": [
            [
             0,
             "#8e0152"
            ],
            [
             0.1,
             "#c51b7d"
            ],
            [
             0.2,
             "#de77ae"
            ],
            [
             0.3,
             "#f1b6da"
            ],
            [
             0.4,
             "#fde0ef"
            ],
            [
             0.5,
             "#f7f7f7"
            ],
            [
             0.6,
             "#e6f5d0"
            ],
            [
             0.7,
             "#b8e186"
            ],
            [
             0.8,
             "#7fbc41"
            ],
            [
             0.9,
             "#4d9221"
            ],
            [
             1,
             "#276419"
            ]
           ],
           "sequential": [
            [
             0,
             "#0d0887"
            ],
            [
             0.1111111111111111,
             "#46039f"
            ],
            [
             0.2222222222222222,
             "#7201a8"
            ],
            [
             0.3333333333333333,
             "#9c179e"
            ],
            [
             0.4444444444444444,
             "#bd3786"
            ],
            [
             0.5555555555555556,
             "#d8576b"
            ],
            [
             0.6666666666666666,
             "#ed7953"
            ],
            [
             0.7777777777777778,
             "#fb9f3a"
            ],
            [
             0.8888888888888888,
             "#fdca26"
            ],
            [
             1,
             "#f0f921"
            ]
           ],
           "sequentialminus": [
            [
             0,
             "#0d0887"
            ],
            [
             0.1111111111111111,
             "#46039f"
            ],
            [
             0.2222222222222222,
             "#7201a8"
            ],
            [
             0.3333333333333333,
             "#9c179e"
            ],
            [
             0.4444444444444444,
             "#bd3786"
            ],
            [
             0.5555555555555556,
             "#d8576b"
            ],
            [
             0.6666666666666666,
             "#ed7953"
            ],
            [
             0.7777777777777778,
             "#fb9f3a"
            ],
            [
             0.8888888888888888,
             "#fdca26"
            ],
            [
             1,
             "#f0f921"
            ]
           ]
          },
          "colorway": [
           "#636efa",
           "#EF553B",
           "#00cc96",
           "#ab63fa",
           "#FFA15A",
           "#19d3f3",
           "#FF6692",
           "#B6E880",
           "#FF97FF",
           "#FECB52"
          ],
          "font": {
           "color": "#2a3f5f"
          },
          "geo": {
           "bgcolor": "white",
           "lakecolor": "white",
           "landcolor": "#E5ECF6",
           "showlakes": true,
           "showland": true,
           "subunitcolor": "white"
          },
          "hoverlabel": {
           "align": "left"
          },
          "hovermode": "closest",
          "mapbox": {
           "style": "light"
          },
          "paper_bgcolor": "white",
          "plot_bgcolor": "#E5ECF6",
          "polar": {
           "angularaxis": {
            "gridcolor": "white",
            "linecolor": "white",
            "ticks": ""
           },
           "bgcolor": "#E5ECF6",
           "radialaxis": {
            "gridcolor": "white",
            "linecolor": "white",
            "ticks": ""
           }
          },
          "scene": {
           "xaxis": {
            "backgroundcolor": "#E5ECF6",
            "gridcolor": "white",
            "gridwidth": 2,
            "linecolor": "white",
            "showbackground": true,
            "ticks": "",
            "zerolinecolor": "white"
           },
           "yaxis": {
            "backgroundcolor": "#E5ECF6",
            "gridcolor": "white",
            "gridwidth": 2,
            "linecolor": "white",
            "showbackground": true,
            "ticks": "",
            "zerolinecolor": "white"
           },
           "zaxis": {
            "backgroundcolor": "#E5ECF6",
            "gridcolor": "white",
            "gridwidth": 2,
            "linecolor": "white",
            "showbackground": true,
            "ticks": "",
            "zerolinecolor": "white"
           }
          },
          "shapedefaults": {
           "line": {
            "color": "#2a3f5f"
           }
          },
          "ternary": {
           "aaxis": {
            "gridcolor": "white",
            "linecolor": "white",
            "ticks": ""
           },
           "baxis": {
            "gridcolor": "white",
            "linecolor": "white",
            "ticks": ""
           },
           "bgcolor": "#E5ECF6",
           "caxis": {
            "gridcolor": "white",
            "linecolor": "white",
            "ticks": ""
           }
          },
          "title": {
           "x": 0.05
          },
          "xaxis": {
           "automargin": true,
           "gridcolor": "white",
           "linecolor": "white",
           "ticks": "",
           "title": {
            "standoff": 15
           },
           "zerolinecolor": "white",
           "zerolinewidth": 2
          },
          "yaxis": {
           "automargin": true,
           "gridcolor": "white",
           "linecolor": "white",
           "ticks": "",
           "title": {
            "standoff": 15
           },
           "zerolinecolor": "white",
           "zerolinewidth": 2
          }
         }
        },
        "title": {
         "text": "Structural variant distribution per strain"
        },
        "xaxis": {
         "tickmode": "linear",
         "title": {
          "text": "Structural variant type"
         }
        },
        "yaxis": {
         "title": {
          "text": "Number of structural variants per sample"
         }
        }
       }
      }
     },
     "metadata": {}
    }
   ],
   "source": [
    "df1['CNVs']= df1['CNV_R'] + df1['CNV_Q']\n",
    "df1['TE_ins/del']= df1['TEINS'] + df1['TEDEL']\n",
    "\n",
    "SV_name = {'INDEL':'INDEL','TE_ins/del':'TEs','INV':'Inversions','CNV':'CNVs'}\n",
    "SV_list = ['INDEL','TE_ins/del','CNV','INV']\n",
    "\n",
    "palette = cycle(['#a391a1', '#e8ad9c', '#8ac7dd','#c1dedc'])\n",
    "\n",
    "fig = go.Figure()\n",
    "\n",
    "for SV in SV_list:\n",
    "    fig.add_trace(go.Violin(y= df1[SV],name= SV_name[SV],box_visible=True,\n",
    "                            meanline_visible=True,points=\"all\",text= df1['Sample'],\n",
    "                            hoverinfo='text',marker_color=next(palette)))\n",
    "\n",
    "fig.update_layout(plot_bgcolor='rgba(0,0,0,0)', \n",
    "        title=\"Structural variant distribution per strain\",\n",
    "        xaxis=dict( title='Structural variant type', tickmode='linear'),\n",
    "        yaxis=dict(title='Number of structural variants per sample'))\n",
    "\n",
    "fig.show()"
   ]
  },
  {
   "cell_type": "code",
   "execution_count": 9,
   "metadata": {},
   "outputs": [
    {
     "output_type": "display_data",
     "data": {
      "application/vnd.plotly.v1+json": {
       "config": {
        "plotlyServerURL": "https://plot.ly"
       },
       "data": [
        {
         "alignmentgroup": "True",
         "box": {
          "visible": true
         },
         "customdata": [
          [
           "I23"
          ],
          [
           "T29A"
          ],
          [
           "B59"
          ],
          [
           "N25"
          ],
          [
           "ZH26"
          ]
         ],
         "hovertemplate": "<b>%{hovertext}</b><br><br>Source=%{x}<br>DELETION=%{y}<br>Sample=%{customdata[0]}<extra></extra>",
         "hovertext": [
          "I23",
          "T29A",
          "B59",
          "N25",
          "ZH26"
         ],
         "legendgroup": "Long",
         "marker": {
          "color": "#c1dedc"
         },
         "name": "Long",
         "offsetgroup": "Long",
         "orientation": "v",
         "points": "all",
         "scalegroup": "True",
         "showlegend": true,
         "type": "violin",
         "x": [
          "Long",
          "Long",
          "Long",
          "Long",
          "Long"
         ],
         "x0": " ",
         "xaxis": "x",
         "y": [
          337,
          468,
          446,
          339,
          535
         ],
         "y0": " ",
         "yaxis": "y"
        },
        {
         "alignmentgroup": "True",
         "box": {
          "visible": true
         },
         "customdata": [
          [
           "A1"
          ],
          [
           "A2"
          ],
          [
           "A3"
          ],
          [
           "A4"
          ],
          [
           "A5"
          ],
          [
           "A6"
          ],
          [
           "A7"
          ],
          [
           "AB8"
          ],
          [
           "B1"
          ],
          [
           "B2"
          ],
          [
           "B3"
          ],
          [
           "B4"
          ],
          [
           "B6"
          ],
          [
           "ORE"
          ]
         ],
         "hovertemplate": "<b>%{hovertext}</b><br><br>Source=%{x}<br>DELETION=%{y}<br>Sample=%{customdata[0]}<extra></extra>",
         "hovertext": [
          "A1",
          "A2",
          "A3",
          "A4",
          "A5",
          "A6",
          "A7",
          "AB8",
          "B1",
          "B2",
          "B3",
          "B4",
          "B6",
          "ORE"
         ],
         "legendgroup": "Chakraborty",
         "marker": {
          "color": "#8ac7dd"
         },
         "name": "Chakraborty",
         "offsetgroup": "Chakraborty",
         "orientation": "v",
         "points": "all",
         "scalegroup": "True",
         "showlegend": true,
         "type": "violin",
         "x": [
          "Chakraborty",
          "Chakraborty",
          "Chakraborty",
          "Chakraborty",
          "Chakraborty",
          "Chakraborty",
          "Chakraborty",
          "Chakraborty",
          "Chakraborty",
          "Chakraborty",
          "Chakraborty",
          "Chakraborty",
          "Chakraborty",
          "Chakraborty"
         ],
         "x0": " ",
         "xaxis": "x",
         "y": [
          286,
          341,
          346,
          353,
          372,
          360,
          565,
          327,
          334,
          296,
          394,
          333,
          350,
          358
         ],
         "y0": " ",
         "yaxis": "y"
        },
        {
         "alignmentgroup": "True",
         "box": {
          "visible": true
         },
         "customdata": [
          [
           "AKA017"
          ],
          [
           "AKA018"
          ],
          [
           "COR014"
          ],
          [
           "COR018"
          ],
          [
           "COR023"
          ],
          [
           "COR025"
          ],
          [
           "GIM012"
          ],
          [
           "GIM024"
          ],
          [
           "JUT008"
          ],
          [
           "JUT011"
          ],
          [
           "KIE094"
          ],
          [
           "LUN004"
          ],
          [
           "LUN007"
          ],
          [
           "MUN008"
          ],
          [
           "MUN009"
          ],
          [
           "MUN013"
          ],
          [
           "MUN015"
          ],
          [
           "MUN016"
          ],
          [
           "MUN020"
          ],
          [
           "RAL059"
          ],
          [
           "RAL091"
          ],
          [
           "RAL176"
          ],
          [
           "RAL177"
          ],
          [
           "RAL375"
          ],
          [
           "RAL426"
          ],
          [
           "RAL737"
          ],
          [
           "RAL855"
          ],
          [
           "SLA001"
          ],
          [
           "STO022"
          ],
          [
           "TEN015"
          ],
          [
           "TOM007"
          ],
          [
           "TOM008"
          ]
         ],
         "hovertemplate": "<b>%{hovertext}</b><br><br>Source=%{x}<br>DELETION=%{y}<br>Sample=%{customdata[0]}<extra></extra>",
         "hovertext": [
          "AKA017",
          "AKA018",
          "COR014",
          "COR018",
          "COR023",
          "COR025",
          "GIM012",
          "GIM024",
          "JUT008",
          "JUT011",
          "KIE094",
          "LUN004",
          "LUN007",
          "MUN008",
          "MUN009",
          "MUN013",
          "MUN015",
          "MUN016",
          "MUN020",
          "RAL059",
          "RAL091",
          "RAL176",
          "RAL177",
          "RAL375",
          "RAL426",
          "RAL737",
          "RAL855",
          "SLA001",
          "STO022",
          "TEN015",
          "TOM007",
          "TOM008"
         ],
         "legendgroup": "Rech",
         "marker": {
          "color": "#e8ad9c"
         },
         "name": "Rech",
         "offsetgroup": "Rech",
         "orientation": "v",
         "points": "all",
         "scalegroup": "True",
         "showlegend": true,
         "type": "violin",
         "x": [
          "Rech",
          "Rech",
          "Rech",
          "Rech",
          "Rech",
          "Rech",
          "Rech",
          "Rech",
          "Rech",
          "Rech",
          "Rech",
          "Rech",
          "Rech",
          "Rech",
          "Rech",
          "Rech",
          "Rech",
          "Rech",
          "Rech",
          "Rech",
          "Rech",
          "Rech",
          "Rech",
          "Rech",
          "Rech",
          "Rech",
          "Rech",
          "Rech",
          "Rech",
          "Rech",
          "Rech",
          "Rech"
         ],
         "x0": " ",
         "xaxis": "x",
         "y": [
          375,
          399,
          385,
          281,
          286,
          295,
          276,
          355,
          358,
          332,
          376,
          364,
          359,
          306,
          371,
          363,
          344,
          375,
          335,
          360,
          416,
          405,
          365,
          344,
          316,
          379,
          341,
          337,
          377,
          338,
          347,
          290
         ],
         "y0": " ",
         "yaxis": "y"
        }
       ],
       "layout": {
        "font": {
         "color": "#212529",
         "size": 13
        },
        "legend": {
         "title": {
          "text": "Legend Title"
         },
         "tracegroupgap": 0
        },
        "margin": {
         "t": 60
        },
        "paper_bgcolor": "rgba(255,255,255,255)",
        "plot_bgcolor": "rgba(0,0,0,0)",
        "showlegend": false,
        "template": {
         "data": {
          "bar": [
           {
            "error_x": {
             "color": "#2a3f5f"
            },
            "error_y": {
             "color": "#2a3f5f"
            },
            "marker": {
             "line": {
              "color": "#E5ECF6",
              "width": 0.5
             }
            },
            "type": "bar"
           }
          ],
          "barpolar": [
           {
            "marker": {
             "line": {
              "color": "#E5ECF6",
              "width": 0.5
             }
            },
            "type": "barpolar"
           }
          ],
          "carpet": [
           {
            "aaxis": {
             "endlinecolor": "#2a3f5f",
             "gridcolor": "white",
             "linecolor": "white",
             "minorgridcolor": "white",
             "startlinecolor": "#2a3f5f"
            },
            "baxis": {
             "endlinecolor": "#2a3f5f",
             "gridcolor": "white",
             "linecolor": "white",
             "minorgridcolor": "white",
             "startlinecolor": "#2a3f5f"
            },
            "type": "carpet"
           }
          ],
          "choropleth": [
           {
            "colorbar": {
             "outlinewidth": 0,
             "ticks": ""
            },
            "type": "choropleth"
           }
          ],
          "contour": [
           {
            "colorbar": {
             "outlinewidth": 0,
             "ticks": ""
            },
            "colorscale": [
             [
              0,
              "#0d0887"
             ],
             [
              0.1111111111111111,
              "#46039f"
             ],
             [
              0.2222222222222222,
              "#7201a8"
             ],
             [
              0.3333333333333333,
              "#9c179e"
             ],
             [
              0.4444444444444444,
              "#bd3786"
             ],
             [
              0.5555555555555556,
              "#d8576b"
             ],
             [
              0.6666666666666666,
              "#ed7953"
             ],
             [
              0.7777777777777778,
              "#fb9f3a"
             ],
             [
              0.8888888888888888,
              "#fdca26"
             ],
             [
              1,
              "#f0f921"
             ]
            ],
            "type": "contour"
           }
          ],
          "contourcarpet": [
           {
            "colorbar": {
             "outlinewidth": 0,
             "ticks": ""
            },
            "type": "contourcarpet"
           }
          ],
          "heatmap": [
           {
            "colorbar": {
             "outlinewidth": 0,
             "ticks": ""
            },
            "colorscale": [
             [
              0,
              "#0d0887"
             ],
             [
              0.1111111111111111,
              "#46039f"
             ],
             [
              0.2222222222222222,
              "#7201a8"
             ],
             [
              0.3333333333333333,
              "#9c179e"
             ],
             [
              0.4444444444444444,
              "#bd3786"
             ],
             [
              0.5555555555555556,
              "#d8576b"
             ],
             [
              0.6666666666666666,
              "#ed7953"
             ],
             [
              0.7777777777777778,
              "#fb9f3a"
             ],
             [
              0.8888888888888888,
              "#fdca26"
             ],
             [
              1,
              "#f0f921"
             ]
            ],
            "type": "heatmap"
           }
          ],
          "heatmapgl": [
           {
            "colorbar": {
             "outlinewidth": 0,
             "ticks": ""
            },
            "colorscale": [
             [
              0,
              "#0d0887"
             ],
             [
              0.1111111111111111,
              "#46039f"
             ],
             [
              0.2222222222222222,
              "#7201a8"
             ],
             [
              0.3333333333333333,
              "#9c179e"
             ],
             [
              0.4444444444444444,
              "#bd3786"
             ],
             [
              0.5555555555555556,
              "#d8576b"
             ],
             [
              0.6666666666666666,
              "#ed7953"
             ],
             [
              0.7777777777777778,
              "#fb9f3a"
             ],
             [
              0.8888888888888888,
              "#fdca26"
             ],
             [
              1,
              "#f0f921"
             ]
            ],
            "type": "heatmapgl"
           }
          ],
          "histogram": [
           {
            "marker": {
             "colorbar": {
              "outlinewidth": 0,
              "ticks": ""
             }
            },
            "type": "histogram"
           }
          ],
          "histogram2d": [
           {
            "colorbar": {
             "outlinewidth": 0,
             "ticks": ""
            },
            "colorscale": [
             [
              0,
              "#0d0887"
             ],
             [
              0.1111111111111111,
              "#46039f"
             ],
             [
              0.2222222222222222,
              "#7201a8"
             ],
             [
              0.3333333333333333,
              "#9c179e"
             ],
             [
              0.4444444444444444,
              "#bd3786"
             ],
             [
              0.5555555555555556,
              "#d8576b"
             ],
             [
              0.6666666666666666,
              "#ed7953"
             ],
             [
              0.7777777777777778,
              "#fb9f3a"
             ],
             [
              0.8888888888888888,
              "#fdca26"
             ],
             [
              1,
              "#f0f921"
             ]
            ],
            "type": "histogram2d"
           }
          ],
          "histogram2dcontour": [
           {
            "colorbar": {
             "outlinewidth": 0,
             "ticks": ""
            },
            "colorscale": [
             [
              0,
              "#0d0887"
             ],
             [
              0.1111111111111111,
              "#46039f"
             ],
             [
              0.2222222222222222,
              "#7201a8"
             ],
             [
              0.3333333333333333,
              "#9c179e"
             ],
             [
              0.4444444444444444,
              "#bd3786"
             ],
             [
              0.5555555555555556,
              "#d8576b"
             ],
             [
              0.6666666666666666,
              "#ed7953"
             ],
             [
              0.7777777777777778,
              "#fb9f3a"
             ],
             [
              0.8888888888888888,
              "#fdca26"
             ],
             [
              1,
              "#f0f921"
             ]
            ],
            "type": "histogram2dcontour"
           }
          ],
          "mesh3d": [
           {
            "colorbar": {
             "outlinewidth": 0,
             "ticks": ""
            },
            "type": "mesh3d"
           }
          ],
          "parcoords": [
           {
            "line": {
             "colorbar": {
              "outlinewidth": 0,
              "ticks": ""
             }
            },
            "type": "parcoords"
           }
          ],
          "pie": [
           {
            "automargin": true,
            "type": "pie"
           }
          ],
          "scatter": [
           {
            "marker": {
             "colorbar": {
              "outlinewidth": 0,
              "ticks": ""
             }
            },
            "type": "scatter"
           }
          ],
          "scatter3d": [
           {
            "line": {
             "colorbar": {
              "outlinewidth": 0,
              "ticks": ""
             }
            },
            "marker": {
             "colorbar": {
              "outlinewidth": 0,
              "ticks": ""
             }
            },
            "type": "scatter3d"
           }
          ],
          "scattercarpet": [
           {
            "marker": {
             "colorbar": {
              "outlinewidth": 0,
              "ticks": ""
             }
            },
            "type": "scattercarpet"
           }
          ],
          "scattergeo": [
           {
            "marker": {
             "colorbar": {
              "outlinewidth": 0,
              "ticks": ""
             }
            },
            "type": "scattergeo"
           }
          ],
          "scattergl": [
           {
            "marker": {
             "colorbar": {
              "outlinewidth": 0,
              "ticks": ""
             }
            },
            "type": "scattergl"
           }
          ],
          "scattermapbox": [
           {
            "marker": {
             "colorbar": {
              "outlinewidth": 0,
              "ticks": ""
             }
            },
            "type": "scattermapbox"
           }
          ],
          "scatterpolar": [
           {
            "marker": {
             "colorbar": {
              "outlinewidth": 0,
              "ticks": ""
             }
            },
            "type": "scatterpolar"
           }
          ],
          "scatterpolargl": [
           {
            "marker": {
             "colorbar": {
              "outlinewidth": 0,
              "ticks": ""
             }
            },
            "type": "scatterpolargl"
           }
          ],
          "scatterternary": [
           {
            "marker": {
             "colorbar": {
              "outlinewidth": 0,
              "ticks": ""
             }
            },
            "type": "scatterternary"
           }
          ],
          "surface": [
           {
            "colorbar": {
             "outlinewidth": 0,
             "ticks": ""
            },
            "colorscale": [
             [
              0,
              "#0d0887"
             ],
             [
              0.1111111111111111,
              "#46039f"
             ],
             [
              0.2222222222222222,
              "#7201a8"
             ],
             [
              0.3333333333333333,
              "#9c179e"
             ],
             [
              0.4444444444444444,
              "#bd3786"
             ],
             [
              0.5555555555555556,
              "#d8576b"
             ],
             [
              0.6666666666666666,
              "#ed7953"
             ],
             [
              0.7777777777777778,
              "#fb9f3a"
             ],
             [
              0.8888888888888888,
              "#fdca26"
             ],
             [
              1,
              "#f0f921"
             ]
            ],
            "type": "surface"
           }
          ],
          "table": [
           {
            "cells": {
             "fill": {
              "color": "#EBF0F8"
             },
             "line": {
              "color": "white"
             }
            },
            "header": {
             "fill": {
              "color": "#C8D4E3"
             },
             "line": {
              "color": "white"
             }
            },
            "type": "table"
           }
          ]
         },
         "layout": {
          "annotationdefaults": {
           "arrowcolor": "#2a3f5f",
           "arrowhead": 0,
           "arrowwidth": 1
          },
          "autotypenumbers": "strict",
          "coloraxis": {
           "colorbar": {
            "outlinewidth": 0,
            "ticks": ""
           }
          },
          "colorscale": {
           "diverging": [
            [
             0,
             "#8e0152"
            ],
            [
             0.1,
             "#c51b7d"
            ],
            [
             0.2,
             "#de77ae"
            ],
            [
             0.3,
             "#f1b6da"
            ],
            [
             0.4,
             "#fde0ef"
            ],
            [
             0.5,
             "#f7f7f7"
            ],
            [
             0.6,
             "#e6f5d0"
            ],
            [
             0.7,
             "#b8e186"
            ],
            [
             0.8,
             "#7fbc41"
            ],
            [
             0.9,
             "#4d9221"
            ],
            [
             1,
             "#276419"
            ]
           ],
           "sequential": [
            [
             0,
             "#0d0887"
            ],
            [
             0.1111111111111111,
             "#46039f"
            ],
            [
             0.2222222222222222,
             "#7201a8"
            ],
            [
             0.3333333333333333,
             "#9c179e"
            ],
            [
             0.4444444444444444,
             "#bd3786"
            ],
            [
             0.5555555555555556,
             "#d8576b"
            ],
            [
             0.6666666666666666,
             "#ed7953"
            ],
            [
             0.7777777777777778,
             "#fb9f3a"
            ],
            [
             0.8888888888888888,
             "#fdca26"
            ],
            [
             1,
             "#f0f921"
            ]
           ],
           "sequentialminus": [
            [
             0,
             "#0d0887"
            ],
            [
             0.1111111111111111,
             "#46039f"
            ],
            [
             0.2222222222222222,
             "#7201a8"
            ],
            [
             0.3333333333333333,
             "#9c179e"
            ],
            [
             0.4444444444444444,
             "#bd3786"
            ],
            [
             0.5555555555555556,
             "#d8576b"
            ],
            [
             0.6666666666666666,
             "#ed7953"
            ],
            [
             0.7777777777777778,
             "#fb9f3a"
            ],
            [
             0.8888888888888888,
             "#fdca26"
            ],
            [
             1,
             "#f0f921"
            ]
           ]
          },
          "colorway": [
           "#636efa",
           "#EF553B",
           "#00cc96",
           "#ab63fa",
           "#FFA15A",
           "#19d3f3",
           "#FF6692",
           "#B6E880",
           "#FF97FF",
           "#FECB52"
          ],
          "font": {
           "color": "#2a3f5f"
          },
          "geo": {
           "bgcolor": "white",
           "lakecolor": "white",
           "landcolor": "#E5ECF6",
           "showlakes": true,
           "showland": true,
           "subunitcolor": "white"
          },
          "hoverlabel": {
           "align": "left"
          },
          "hovermode": "closest",
          "mapbox": {
           "style": "light"
          },
          "paper_bgcolor": "white",
          "plot_bgcolor": "#E5ECF6",
          "polar": {
           "angularaxis": {
            "gridcolor": "white",
            "linecolor": "white",
            "ticks": ""
           },
           "bgcolor": "#E5ECF6",
           "radialaxis": {
            "gridcolor": "white",
            "linecolor": "white",
            "ticks": ""
           }
          },
          "scene": {
           "xaxis": {
            "backgroundcolor": "#E5ECF6",
            "gridcolor": "white",
            "gridwidth": 2,
            "linecolor": "white",
            "showbackground": true,
            "ticks": "",
            "zerolinecolor": "white"
           },
           "yaxis": {
            "backgroundcolor": "#E5ECF6",
            "gridcolor": "white",
            "gridwidth": 2,
            "linecolor": "white",
            "showbackground": true,
            "ticks": "",
            "zerolinecolor": "white"
           },
           "zaxis": {
            "backgroundcolor": "#E5ECF6",
            "gridcolor": "white",
            "gridwidth": 2,
            "linecolor": "white",
            "showbackground": true,
            "ticks": "",
            "zerolinecolor": "white"
           }
          },
          "shapedefaults": {
           "line": {
            "color": "#2a3f5f"
           }
          },
          "ternary": {
           "aaxis": {
            "gridcolor": "white",
            "linecolor": "white",
            "ticks": ""
           },
           "baxis": {
            "gridcolor": "white",
            "linecolor": "white",
            "ticks": ""
           },
           "bgcolor": "#E5ECF6",
           "caxis": {
            "gridcolor": "white",
            "linecolor": "white",
            "ticks": ""
           }
          },
          "title": {
           "x": 0.05
          },
          "xaxis": {
           "automargin": true,
           "gridcolor": "white",
           "linecolor": "white",
           "ticks": "",
           "title": {
            "standoff": 15
           },
           "zerolinecolor": "white",
           "zerolinewidth": 2
          },
          "yaxis": {
           "automargin": true,
           "gridcolor": "white",
           "linecolor": "white",
           "ticks": "",
           "title": {
            "standoff": 15
           },
           "zerolinecolor": "white",
           "zerolinewidth": 2
          }
         }
        },
        "title": {
         "text": "Deletions within euchromatin boundaries"
        },
        "violinmode": "overlay",
        "xaxis": {
         "anchor": "y",
         "categoryarray": [
          "Long",
          "Chakraborty",
          "Rech"
         ],
         "categoryorder": "array",
         "domain": [
          0,
          1
         ],
         "title": {
          "text": "Strain source"
         }
        },
        "yaxis": {
         "anchor": "x",
         "domain": [
          0,
          1
         ],
         "title": {
          "text": "Number of structural variants"
         }
        }
       }
      }
     },
     "metadata": {}
    }
   ],
   "source": [
    "fig = px.violin(df1, x='Source', y='DELETION',\n",
    "                 hover_name=\"Sample\", hover_data=[\"Sample\"], points='all',  box=True, color=\"Source\",\n",
    "                 color_discrete_map={'Chakraborty':'#8ac7dd','Long':'#c1dedc','Rech':'#e8ad9c'})\n",
    "\n",
    "fig.update_layout(\n",
    "    paper_bgcolor='rgba(255,255,255,255)',\n",
    "    plot_bgcolor='rgba(0,0,0,0)',\n",
    "    showlegend=False,\n",
    "    title=\"Deletions within euchromatin boundaries\",\n",
    "    xaxis_title=\"Strain source\",\n",
    "    yaxis_title=\"Number of structural variants\",\n",
    "    legend_title=\"Legend Title\",\n",
    "    font=dict(size=13,color=\"#212529\")) \n",
    "\n",
    "fig.show()"
   ]
  },
  {
   "cell_type": "code",
   "execution_count": 11,
   "metadata": {},
   "outputs": [
    {
     "output_type": "display_data",
     "data": {
      "application/vnd.plotly.v1+json": {
       "config": {
        "plotlyServerURL": "https://plot.ly"
       },
       "data": [
        {
         "alignmentgroup": "True",
         "box": {
          "visible": true
         },
         "customdata": [
          [
           "I23"
          ],
          [
           "T29A"
          ],
          [
           "B59"
          ],
          [
           "N25"
          ],
          [
           "ZH26"
          ]
         ],
         "hovertemplate": "<b>%{hovertext}</b><br><br>Source=%{x}<br>INSERTION=%{y}<br>Sample=%{customdata[0]}<extra></extra>",
         "hovertext": [
          "I23",
          "T29A",
          "B59",
          "N25",
          "ZH26"
         ],
         "legendgroup": "Long",
         "marker": {
          "color": "#c1dedc"
         },
         "name": "Long",
         "offsetgroup": "Long",
         "orientation": "v",
         "points": "all",
         "scalegroup": "True",
         "showlegend": true,
         "type": "violin",
         "x": [
          "Long",
          "Long",
          "Long",
          "Long",
          "Long"
         ],
         "x0": " ",
         "xaxis": "x",
         "y": [
          367,
          674,
          357,
          333,
          422
         ],
         "y0": " ",
         "yaxis": "y"
        },
        {
         "alignmentgroup": "True",
         "box": {
          "visible": true
         },
         "customdata": [
          [
           "A1"
          ],
          [
           "A2"
          ],
          [
           "A3"
          ],
          [
           "A4"
          ],
          [
           "A5"
          ],
          [
           "A6"
          ],
          [
           "A7"
          ],
          [
           "AB8"
          ],
          [
           "B1"
          ],
          [
           "B2"
          ],
          [
           "B3"
          ],
          [
           "B4"
          ],
          [
           "B6"
          ],
          [
           "ORE"
          ]
         ],
         "hovertemplate": "<b>%{hovertext}</b><br><br>Source=%{x}<br>INSERTION=%{y}<br>Sample=%{customdata[0]}<extra></extra>",
         "hovertext": [
          "A1",
          "A2",
          "A3",
          "A4",
          "A5",
          "A6",
          "A7",
          "AB8",
          "B1",
          "B2",
          "B3",
          "B4",
          "B6",
          "ORE"
         ],
         "legendgroup": "Chakraborty",
         "marker": {
          "color": "#8ac7dd"
         },
         "name": "Chakraborty",
         "offsetgroup": "Chakraborty",
         "orientation": "v",
         "points": "all",
         "scalegroup": "True",
         "showlegend": true,
         "type": "violin",
         "x": [
          "Chakraborty",
          "Chakraborty",
          "Chakraborty",
          "Chakraborty",
          "Chakraborty",
          "Chakraborty",
          "Chakraborty",
          "Chakraborty",
          "Chakraborty",
          "Chakraborty",
          "Chakraborty",
          "Chakraborty",
          "Chakraborty",
          "Chakraborty"
         ],
         "x0": " ",
         "xaxis": "x",
         "y": [
          321,
          410,
          383,
          389,
          359,
          411,
          408,
          339,
          380,
          386,
          352,
          357,
          342,
          333
         ],
         "y0": " ",
         "yaxis": "y"
        },
        {
         "alignmentgroup": "True",
         "box": {
          "visible": true
         },
         "customdata": [
          [
           "AKA017"
          ],
          [
           "AKA018"
          ],
          [
           "COR014"
          ],
          [
           "COR018"
          ],
          [
           "COR023"
          ],
          [
           "COR025"
          ],
          [
           "GIM012"
          ],
          [
           "GIM024"
          ],
          [
           "JUT008"
          ],
          [
           "JUT011"
          ],
          [
           "KIE094"
          ],
          [
           "LUN004"
          ],
          [
           "LUN007"
          ],
          [
           "MUN008"
          ],
          [
           "MUN009"
          ],
          [
           "MUN013"
          ],
          [
           "MUN015"
          ],
          [
           "MUN016"
          ],
          [
           "MUN020"
          ],
          [
           "RAL059"
          ],
          [
           "RAL091"
          ],
          [
           "RAL176"
          ],
          [
           "RAL177"
          ],
          [
           "RAL375"
          ],
          [
           "RAL426"
          ],
          [
           "RAL737"
          ],
          [
           "RAL855"
          ],
          [
           "SLA001"
          ],
          [
           "STO022"
          ],
          [
           "TEN015"
          ],
          [
           "TOM007"
          ],
          [
           "TOM008"
          ]
         ],
         "hovertemplate": "<b>%{hovertext}</b><br><br>Source=%{x}<br>INSERTION=%{y}<br>Sample=%{customdata[0]}<extra></extra>",
         "hovertext": [
          "AKA017",
          "AKA018",
          "COR014",
          "COR018",
          "COR023",
          "COR025",
          "GIM012",
          "GIM024",
          "JUT008",
          "JUT011",
          "KIE094",
          "LUN004",
          "LUN007",
          "MUN008",
          "MUN009",
          "MUN013",
          "MUN015",
          "MUN016",
          "MUN020",
          "RAL059",
          "RAL091",
          "RAL176",
          "RAL177",
          "RAL375",
          "RAL426",
          "RAL737",
          "RAL855",
          "SLA001",
          "STO022",
          "TEN015",
          "TOM007",
          "TOM008"
         ],
         "legendgroup": "Rech",
         "marker": {
          "color": "#e8ad9c"
         },
         "name": "Rech",
         "offsetgroup": "Rech",
         "orientation": "v",
         "points": "all",
         "scalegroup": "True",
         "showlegend": true,
         "type": "violin",
         "x": [
          "Rech",
          "Rech",
          "Rech",
          "Rech",
          "Rech",
          "Rech",
          "Rech",
          "Rech",
          "Rech",
          "Rech",
          "Rech",
          "Rech",
          "Rech",
          "Rech",
          "Rech",
          "Rech",
          "Rech",
          "Rech",
          "Rech",
          "Rech",
          "Rech",
          "Rech",
          "Rech",
          "Rech",
          "Rech",
          "Rech",
          "Rech",
          "Rech",
          "Rech",
          "Rech",
          "Rech",
          "Rech"
         ],
         "x0": " ",
         "xaxis": "x",
         "y": [
          395,
          399,
          385,
          415,
          435,
          407,
          417,
          368,
          362,
          382,
          381,
          399,
          442,
          401,
          401,
          365,
          416,
          365,
          414,
          433,
          439,
          476,
          377,
          360,
          416,
          422,
          412,
          375,
          363,
          398,
          402,
          404
         ],
         "y0": " ",
         "yaxis": "y"
        }
       ],
       "layout": {
        "font": {
         "color": "#212529",
         "size": 13
        },
        "legend": {
         "title": {
          "text": "Legend Title"
         },
         "tracegroupgap": 0
        },
        "margin": {
         "t": 60
        },
        "paper_bgcolor": "rgba(255,255,255,255)",
        "plot_bgcolor": "rgba(0,0,0,0)",
        "showlegend": false,
        "template": {
         "data": {
          "bar": [
           {
            "error_x": {
             "color": "#2a3f5f"
            },
            "error_y": {
             "color": "#2a3f5f"
            },
            "marker": {
             "line": {
              "color": "#E5ECF6",
              "width": 0.5
             }
            },
            "type": "bar"
           }
          ],
          "barpolar": [
           {
            "marker": {
             "line": {
              "color": "#E5ECF6",
              "width": 0.5
             }
            },
            "type": "barpolar"
           }
          ],
          "carpet": [
           {
            "aaxis": {
             "endlinecolor": "#2a3f5f",
             "gridcolor": "white",
             "linecolor": "white",
             "minorgridcolor": "white",
             "startlinecolor": "#2a3f5f"
            },
            "baxis": {
             "endlinecolor": "#2a3f5f",
             "gridcolor": "white",
             "linecolor": "white",
             "minorgridcolor": "white",
             "startlinecolor": "#2a3f5f"
            },
            "type": "carpet"
           }
          ],
          "choropleth": [
           {
            "colorbar": {
             "outlinewidth": 0,
             "ticks": ""
            },
            "type": "choropleth"
           }
          ],
          "contour": [
           {
            "colorbar": {
             "outlinewidth": 0,
             "ticks": ""
            },
            "colorscale": [
             [
              0,
              "#0d0887"
             ],
             [
              0.1111111111111111,
              "#46039f"
             ],
             [
              0.2222222222222222,
              "#7201a8"
             ],
             [
              0.3333333333333333,
              "#9c179e"
             ],
             [
              0.4444444444444444,
              "#bd3786"
             ],
             [
              0.5555555555555556,
              "#d8576b"
             ],
             [
              0.6666666666666666,
              "#ed7953"
             ],
             [
              0.7777777777777778,
              "#fb9f3a"
             ],
             [
              0.8888888888888888,
              "#fdca26"
             ],
             [
              1,
              "#f0f921"
             ]
            ],
            "type": "contour"
           }
          ],
          "contourcarpet": [
           {
            "colorbar": {
             "outlinewidth": 0,
             "ticks": ""
            },
            "type": "contourcarpet"
           }
          ],
          "heatmap": [
           {
            "colorbar": {
             "outlinewidth": 0,
             "ticks": ""
            },
            "colorscale": [
             [
              0,
              "#0d0887"
             ],
             [
              0.1111111111111111,
              "#46039f"
             ],
             [
              0.2222222222222222,
              "#7201a8"
             ],
             [
              0.3333333333333333,
              "#9c179e"
             ],
             [
              0.4444444444444444,
              "#bd3786"
             ],
             [
              0.5555555555555556,
              "#d8576b"
             ],
             [
              0.6666666666666666,
              "#ed7953"
             ],
             [
              0.7777777777777778,
              "#fb9f3a"
             ],
             [
              0.8888888888888888,
              "#fdca26"
             ],
             [
              1,
              "#f0f921"
             ]
            ],
            "type": "heatmap"
           }
          ],
          "heatmapgl": [
           {
            "colorbar": {
             "outlinewidth": 0,
             "ticks": ""
            },
            "colorscale": [
             [
              0,
              "#0d0887"
             ],
             [
              0.1111111111111111,
              "#46039f"
             ],
             [
              0.2222222222222222,
              "#7201a8"
             ],
             [
              0.3333333333333333,
              "#9c179e"
             ],
             [
              0.4444444444444444,
              "#bd3786"
             ],
             [
              0.5555555555555556,
              "#d8576b"
             ],
             [
              0.6666666666666666,
              "#ed7953"
             ],
             [
              0.7777777777777778,
              "#fb9f3a"
             ],
             [
              0.8888888888888888,
              "#fdca26"
             ],
             [
              1,
              "#f0f921"
             ]
            ],
            "type": "heatmapgl"
           }
          ],
          "histogram": [
           {
            "marker": {
             "colorbar": {
              "outlinewidth": 0,
              "ticks": ""
             }
            },
            "type": "histogram"
           }
          ],
          "histogram2d": [
           {
            "colorbar": {
             "outlinewidth": 0,
             "ticks": ""
            },
            "colorscale": [
             [
              0,
              "#0d0887"
             ],
             [
              0.1111111111111111,
              "#46039f"
             ],
             [
              0.2222222222222222,
              "#7201a8"
             ],
             [
              0.3333333333333333,
              "#9c179e"
             ],
             [
              0.4444444444444444,
              "#bd3786"
             ],
             [
              0.5555555555555556,
              "#d8576b"
             ],
             [
              0.6666666666666666,
              "#ed7953"
             ],
             [
              0.7777777777777778,
              "#fb9f3a"
             ],
             [
              0.8888888888888888,
              "#fdca26"
             ],
             [
              1,
              "#f0f921"
             ]
            ],
            "type": "histogram2d"
           }
          ],
          "histogram2dcontour": [
           {
            "colorbar": {
             "outlinewidth": 0,
             "ticks": ""
            },
            "colorscale": [
             [
              0,
              "#0d0887"
             ],
             [
              0.1111111111111111,
              "#46039f"
             ],
             [
              0.2222222222222222,
              "#7201a8"
             ],
             [
              0.3333333333333333,
              "#9c179e"
             ],
             [
              0.4444444444444444,
              "#bd3786"
             ],
             [
              0.5555555555555556,
              "#d8576b"
             ],
             [
              0.6666666666666666,
              "#ed7953"
             ],
             [
              0.7777777777777778,
              "#fb9f3a"
             ],
             [
              0.8888888888888888,
              "#fdca26"
             ],
             [
              1,
              "#f0f921"
             ]
            ],
            "type": "histogram2dcontour"
           }
          ],
          "mesh3d": [
           {
            "colorbar": {
             "outlinewidth": 0,
             "ticks": ""
            },
            "type": "mesh3d"
           }
          ],
          "parcoords": [
           {
            "line": {
             "colorbar": {
              "outlinewidth": 0,
              "ticks": ""
             }
            },
            "type": "parcoords"
           }
          ],
          "pie": [
           {
            "automargin": true,
            "type": "pie"
           }
          ],
          "scatter": [
           {
            "marker": {
             "colorbar": {
              "outlinewidth": 0,
              "ticks": ""
             }
            },
            "type": "scatter"
           }
          ],
          "scatter3d": [
           {
            "line": {
             "colorbar": {
              "outlinewidth": 0,
              "ticks": ""
             }
            },
            "marker": {
             "colorbar": {
              "outlinewidth": 0,
              "ticks": ""
             }
            },
            "type": "scatter3d"
           }
          ],
          "scattercarpet": [
           {
            "marker": {
             "colorbar": {
              "outlinewidth": 0,
              "ticks": ""
             }
            },
            "type": "scattercarpet"
           }
          ],
          "scattergeo": [
           {
            "marker": {
             "colorbar": {
              "outlinewidth": 0,
              "ticks": ""
             }
            },
            "type": "scattergeo"
           }
          ],
          "scattergl": [
           {
            "marker": {
             "colorbar": {
              "outlinewidth": 0,
              "ticks": ""
             }
            },
            "type": "scattergl"
           }
          ],
          "scattermapbox": [
           {
            "marker": {
             "colorbar": {
              "outlinewidth": 0,
              "ticks": ""
             }
            },
            "type": "scattermapbox"
           }
          ],
          "scatterpolar": [
           {
            "marker": {
             "colorbar": {
              "outlinewidth": 0,
              "ticks": ""
             }
            },
            "type": "scatterpolar"
           }
          ],
          "scatterpolargl": [
           {
            "marker": {
             "colorbar": {
              "outlinewidth": 0,
              "ticks": ""
             }
            },
            "type": "scatterpolargl"
           }
          ],
          "scatterternary": [
           {
            "marker": {
             "colorbar": {
              "outlinewidth": 0,
              "ticks": ""
             }
            },
            "type": "scatterternary"
           }
          ],
          "surface": [
           {
            "colorbar": {
             "outlinewidth": 0,
             "ticks": ""
            },
            "colorscale": [
             [
              0,
              "#0d0887"
             ],
             [
              0.1111111111111111,
              "#46039f"
             ],
             [
              0.2222222222222222,
              "#7201a8"
             ],
             [
              0.3333333333333333,
              "#9c179e"
             ],
             [
              0.4444444444444444,
              "#bd3786"
             ],
             [
              0.5555555555555556,
              "#d8576b"
             ],
             [
              0.6666666666666666,
              "#ed7953"
             ],
             [
              0.7777777777777778,
              "#fb9f3a"
             ],
             [
              0.8888888888888888,
              "#fdca26"
             ],
             [
              1,
              "#f0f921"
             ]
            ],
            "type": "surface"
           }
          ],
          "table": [
           {
            "cells": {
             "fill": {
              "color": "#EBF0F8"
             },
             "line": {
              "color": "white"
             }
            },
            "header": {
             "fill": {
              "color": "#C8D4E3"
             },
             "line": {
              "color": "white"
             }
            },
            "type": "table"
           }
          ]
         },
         "layout": {
          "annotationdefaults": {
           "arrowcolor": "#2a3f5f",
           "arrowhead": 0,
           "arrowwidth": 1
          },
          "autotypenumbers": "strict",
          "coloraxis": {
           "colorbar": {
            "outlinewidth": 0,
            "ticks": ""
           }
          },
          "colorscale": {
           "diverging": [
            [
             0,
             "#8e0152"
            ],
            [
             0.1,
             "#c51b7d"
            ],
            [
             0.2,
             "#de77ae"
            ],
            [
             0.3,
             "#f1b6da"
            ],
            [
             0.4,
             "#fde0ef"
            ],
            [
             0.5,
             "#f7f7f7"
            ],
            [
             0.6,
             "#e6f5d0"
            ],
            [
             0.7,
             "#b8e186"
            ],
            [
             0.8,
             "#7fbc41"
            ],
            [
             0.9,
             "#4d9221"
            ],
            [
             1,
             "#276419"
            ]
           ],
           "sequential": [
            [
             0,
             "#0d0887"
            ],
            [
             0.1111111111111111,
             "#46039f"
            ],
            [
             0.2222222222222222,
             "#7201a8"
            ],
            [
             0.3333333333333333,
             "#9c179e"
            ],
            [
             0.4444444444444444,
             "#bd3786"
            ],
            [
             0.5555555555555556,
             "#d8576b"
            ],
            [
             0.6666666666666666,
             "#ed7953"
            ],
            [
             0.7777777777777778,
             "#fb9f3a"
            ],
            [
             0.8888888888888888,
             "#fdca26"
            ],
            [
             1,
             "#f0f921"
            ]
           ],
           "sequentialminus": [
            [
             0,
             "#0d0887"
            ],
            [
             0.1111111111111111,
             "#46039f"
            ],
            [
             0.2222222222222222,
             "#7201a8"
            ],
            [
             0.3333333333333333,
             "#9c179e"
            ],
            [
             0.4444444444444444,
             "#bd3786"
            ],
            [
             0.5555555555555556,
             "#d8576b"
            ],
            [
             0.6666666666666666,
             "#ed7953"
            ],
            [
             0.7777777777777778,
             "#fb9f3a"
            ],
            [
             0.8888888888888888,
             "#fdca26"
            ],
            [
             1,
             "#f0f921"
            ]
           ]
          },
          "colorway": [
           "#636efa",
           "#EF553B",
           "#00cc96",
           "#ab63fa",
           "#FFA15A",
           "#19d3f3",
           "#FF6692",
           "#B6E880",
           "#FF97FF",
           "#FECB52"
          ],
          "font": {
           "color": "#2a3f5f"
          },
          "geo": {
           "bgcolor": "white",
           "lakecolor": "white",
           "landcolor": "#E5ECF6",
           "showlakes": true,
           "showland": true,
           "subunitcolor": "white"
          },
          "hoverlabel": {
           "align": "left"
          },
          "hovermode": "closest",
          "mapbox": {
           "style": "light"
          },
          "paper_bgcolor": "white",
          "plot_bgcolor": "#E5ECF6",
          "polar": {
           "angularaxis": {
            "gridcolor": "white",
            "linecolor": "white",
            "ticks": ""
           },
           "bgcolor": "#E5ECF6",
           "radialaxis": {
            "gridcolor": "white",
            "linecolor": "white",
            "ticks": ""
           }
          },
          "scene": {
           "xaxis": {
            "backgroundcolor": "#E5ECF6",
            "gridcolor": "white",
            "gridwidth": 2,
            "linecolor": "white",
            "showbackground": true,
            "ticks": "",
            "zerolinecolor": "white"
           },
           "yaxis": {
            "backgroundcolor": "#E5ECF6",
            "gridcolor": "white",
            "gridwidth": 2,
            "linecolor": "white",
            "showbackground": true,
            "ticks": "",
            "zerolinecolor": "white"
           },
           "zaxis": {
            "backgroundcolor": "#E5ECF6",
            "gridcolor": "white",
            "gridwidth": 2,
            "linecolor": "white",
            "showbackground": true,
            "ticks": "",
            "zerolinecolor": "white"
           }
          },
          "shapedefaults": {
           "line": {
            "color": "#2a3f5f"
           }
          },
          "ternary": {
           "aaxis": {
            "gridcolor": "white",
            "linecolor": "white",
            "ticks": ""
           },
           "baxis": {
            "gridcolor": "white",
            "linecolor": "white",
            "ticks": ""
           },
           "bgcolor": "#E5ECF6",
           "caxis": {
            "gridcolor": "white",
            "linecolor": "white",
            "ticks": ""
           }
          },
          "title": {
           "x": 0.05
          },
          "xaxis": {
           "automargin": true,
           "gridcolor": "white",
           "linecolor": "white",
           "ticks": "",
           "title": {
            "standoff": 15
           },
           "zerolinecolor": "white",
           "zerolinewidth": 2
          },
          "yaxis": {
           "automargin": true,
           "gridcolor": "white",
           "linecolor": "white",
           "ticks": "",
           "title": {
            "standoff": 15
           },
           "zerolinecolor": "white",
           "zerolinewidth": 2
          }
         }
        },
        "title": {
         "text": "Insertions within euchromatin boundaries"
        },
        "violinmode": "overlay",
        "xaxis": {
         "anchor": "y",
         "categoryarray": [
          "Long",
          "Chakraborty",
          "Rech"
         ],
         "categoryorder": "array",
         "domain": [
          0,
          1
         ],
         "title": {
          "text": "Strain source"
         }
        },
        "yaxis": {
         "anchor": "x",
         "domain": [
          0,
          1
         ],
         "title": {
          "text": "Number of structural variants"
         }
        }
       }
      }
     },
     "metadata": {}
    }
   ],
   "source": [
    "fig = px.violin(df1, x='Source', y='INSERTION',\n",
    "                 hover_name=\"Sample\", hover_data=[\"Sample\"], points='all',  box=True, color=\"Source\", \n",
    "                 color_discrete_map={'Chakraborty':'#8ac7dd','Long':'#c1dedc','Rech':'#e8ad9c'})\n",
    "\n",
    "fig.update_layout(\n",
    "    paper_bgcolor='rgba(255,255,255,255)',\n",
    "    plot_bgcolor='rgba(0,0,0,0)',\n",
    "    showlegend=False,\n",
    "    title=\"Insertions within euchromatin boundaries\",\n",
    "    xaxis_title=\"Strain source\",\n",
    "    yaxis_title=\"Number of structural variants\",\n",
    "    legend_title=\"Legend Title\",\n",
    "    font=dict(size=13,color=\"#212529\")) \n",
    "\n",
    "fig.show()"
   ]
  },
  {
   "cell_type": "code",
   "execution_count": 13,
   "metadata": {},
   "outputs": [
    {
     "output_type": "display_data",
     "data": {
      "application/vnd.plotly.v1+json": {
       "config": {
        "plotlyServerURL": "https://plot.ly"
       },
       "data": [
        {
         "alignmentgroup": "True",
         "box": {
          "visible": true
         },
         "customdata": [
          [
           "I23"
          ],
          [
           "T29A"
          ],
          [
           "B59"
          ],
          [
           "N25"
          ],
          [
           "ZH26"
          ]
         ],
         "hovertemplate": "<b>%{hovertext}</b><br><br>Source=%{x}<br>INV=%{y}<br>Sample=%{customdata[0]}<extra></extra>",
         "hovertext": [
          "I23",
          "T29A",
          "B59",
          "N25",
          "ZH26"
         ],
         "legendgroup": "Long",
         "marker": {
          "color": "#c1dedc"
         },
         "name": "Long",
         "offsetgroup": "Long",
         "orientation": "v",
         "points": "all",
         "scalegroup": "True",
         "showlegend": true,
         "type": "violin",
         "x": [
          "Long",
          "Long",
          "Long",
          "Long",
          "Long"
         ],
         "x0": " ",
         "xaxis": "x",
         "y": [
          31,
          37,
          22,
          21,
          28
         ],
         "y0": " ",
         "yaxis": "y"
        },
        {
         "alignmentgroup": "True",
         "box": {
          "visible": true
         },
         "customdata": [
          [
           "A1"
          ],
          [
           "A2"
          ],
          [
           "A3"
          ],
          [
           "A4"
          ],
          [
           "A5"
          ],
          [
           "A6"
          ],
          [
           "A7"
          ],
          [
           "AB8"
          ],
          [
           "B1"
          ],
          [
           "B2"
          ],
          [
           "B3"
          ],
          [
           "B4"
          ],
          [
           "B6"
          ],
          [
           "ORE"
          ]
         ],
         "hovertemplate": "<b>%{hovertext}</b><br><br>Source=%{x}<br>INV=%{y}<br>Sample=%{customdata[0]}<extra></extra>",
         "hovertext": [
          "A1",
          "A2",
          "A3",
          "A4",
          "A5",
          "A6",
          "A7",
          "AB8",
          "B1",
          "B2",
          "B3",
          "B4",
          "B6",
          "ORE"
         ],
         "legendgroup": "Chakraborty",
         "marker": {
          "color": "#8ac7dd"
         },
         "name": "Chakraborty",
         "offsetgroup": "Chakraborty",
         "orientation": "v",
         "points": "all",
         "scalegroup": "True",
         "showlegend": true,
         "type": "violin",
         "x": [
          "Chakraborty",
          "Chakraborty",
          "Chakraborty",
          "Chakraborty",
          "Chakraborty",
          "Chakraborty",
          "Chakraborty",
          "Chakraborty",
          "Chakraborty",
          "Chakraborty",
          "Chakraborty",
          "Chakraborty",
          "Chakraborty",
          "Chakraborty"
         ],
         "x0": " ",
         "xaxis": "x",
         "y": [
          16,
          25,
          27,
          24,
          22,
          23,
          20,
          20,
          24,
          22,
          25,
          17,
          22,
          24
         ],
         "y0": " ",
         "yaxis": "y"
        },
        {
         "alignmentgroup": "True",
         "box": {
          "visible": true
         },
         "customdata": [
          [
           "AKA017"
          ],
          [
           "AKA018"
          ],
          [
           "COR014"
          ],
          [
           "COR018"
          ],
          [
           "COR023"
          ],
          [
           "COR025"
          ],
          [
           "GIM012"
          ],
          [
           "GIM024"
          ],
          [
           "JUT008"
          ],
          [
           "JUT011"
          ],
          [
           "KIE094"
          ],
          [
           "LUN004"
          ],
          [
           "LUN007"
          ],
          [
           "MUN008"
          ],
          [
           "MUN009"
          ],
          [
           "MUN013"
          ],
          [
           "MUN015"
          ],
          [
           "MUN016"
          ],
          [
           "MUN020"
          ],
          [
           "RAL059"
          ],
          [
           "RAL091"
          ],
          [
           "RAL176"
          ],
          [
           "RAL177"
          ],
          [
           "RAL375"
          ],
          [
           "RAL426"
          ],
          [
           "RAL737"
          ],
          [
           "RAL855"
          ],
          [
           "SLA001"
          ],
          [
           "STO022"
          ],
          [
           "TEN015"
          ],
          [
           "TOM007"
          ],
          [
           "TOM008"
          ]
         ],
         "hovertemplate": "<b>%{hovertext}</b><br><br>Source=%{x}<br>INV=%{y}<br>Sample=%{customdata[0]}<extra></extra>",
         "hovertext": [
          "AKA017",
          "AKA018",
          "COR014",
          "COR018",
          "COR023",
          "COR025",
          "GIM012",
          "GIM024",
          "JUT008",
          "JUT011",
          "KIE094",
          "LUN004",
          "LUN007",
          "MUN008",
          "MUN009",
          "MUN013",
          "MUN015",
          "MUN016",
          "MUN020",
          "RAL059",
          "RAL091",
          "RAL176",
          "RAL177",
          "RAL375",
          "RAL426",
          "RAL737",
          "RAL855",
          "SLA001",
          "STO022",
          "TEN015",
          "TOM007",
          "TOM008"
         ],
         "legendgroup": "Rech",
         "marker": {
          "color": "#e8ad9c"
         },
         "name": "Rech",
         "offsetgroup": "Rech",
         "orientation": "v",
         "points": "all",
         "scalegroup": "True",
         "showlegend": true,
         "type": "violin",
         "x": [
          "Rech",
          "Rech",
          "Rech",
          "Rech",
          "Rech",
          "Rech",
          "Rech",
          "Rech",
          "Rech",
          "Rech",
          "Rech",
          "Rech",
          "Rech",
          "Rech",
          "Rech",
          "Rech",
          "Rech",
          "Rech",
          "Rech",
          "Rech",
          "Rech",
          "Rech",
          "Rech",
          "Rech",
          "Rech",
          "Rech",
          "Rech",
          "Rech",
          "Rech",
          "Rech",
          "Rech",
          "Rech"
         ],
         "x0": " ",
         "xaxis": "x",
         "y": [
          32,
          31,
          25,
          19,
          26,
          29,
          24,
          23,
          30,
          26,
          23,
          28,
          32,
          30,
          25,
          39,
          31,
          29,
          27,
          22,
          24,
          33,
          28,
          23,
          21,
          26,
          20,
          22,
          32,
          24,
          23,
          23
         ],
         "y0": " ",
         "yaxis": "y"
        }
       ],
       "layout": {
        "font": {
         "color": "#212529",
         "size": 13
        },
        "legend": {
         "title": {
          "text": "Legend Title"
         },
         "tracegroupgap": 0
        },
        "margin": {
         "t": 60
        },
        "paper_bgcolor": "rgba(255,255,255,255)",
        "plot_bgcolor": "rgba(0,0,0,0)",
        "showlegend": false,
        "template": {
         "data": {
          "bar": [
           {
            "error_x": {
             "color": "#2a3f5f"
            },
            "error_y": {
             "color": "#2a3f5f"
            },
            "marker": {
             "line": {
              "color": "#E5ECF6",
              "width": 0.5
             }
            },
            "type": "bar"
           }
          ],
          "barpolar": [
           {
            "marker": {
             "line": {
              "color": "#E5ECF6",
              "width": 0.5
             }
            },
            "type": "barpolar"
           }
          ],
          "carpet": [
           {
            "aaxis": {
             "endlinecolor": "#2a3f5f",
             "gridcolor": "white",
             "linecolor": "white",
             "minorgridcolor": "white",
             "startlinecolor": "#2a3f5f"
            },
            "baxis": {
             "endlinecolor": "#2a3f5f",
             "gridcolor": "white",
             "linecolor": "white",
             "minorgridcolor": "white",
             "startlinecolor": "#2a3f5f"
            },
            "type": "carpet"
           }
          ],
          "choropleth": [
           {
            "colorbar": {
             "outlinewidth": 0,
             "ticks": ""
            },
            "type": "choropleth"
           }
          ],
          "contour": [
           {
            "colorbar": {
             "outlinewidth": 0,
             "ticks": ""
            },
            "colorscale": [
             [
              0,
              "#0d0887"
             ],
             [
              0.1111111111111111,
              "#46039f"
             ],
             [
              0.2222222222222222,
              "#7201a8"
             ],
             [
              0.3333333333333333,
              "#9c179e"
             ],
             [
              0.4444444444444444,
              "#bd3786"
             ],
             [
              0.5555555555555556,
              "#d8576b"
             ],
             [
              0.6666666666666666,
              "#ed7953"
             ],
             [
              0.7777777777777778,
              "#fb9f3a"
             ],
             [
              0.8888888888888888,
              "#fdca26"
             ],
             [
              1,
              "#f0f921"
             ]
            ],
            "type": "contour"
           }
          ],
          "contourcarpet": [
           {
            "colorbar": {
             "outlinewidth": 0,
             "ticks": ""
            },
            "type": "contourcarpet"
           }
          ],
          "heatmap": [
           {
            "colorbar": {
             "outlinewidth": 0,
             "ticks": ""
            },
            "colorscale": [
             [
              0,
              "#0d0887"
             ],
             [
              0.1111111111111111,
              "#46039f"
             ],
             [
              0.2222222222222222,
              "#7201a8"
             ],
             [
              0.3333333333333333,
              "#9c179e"
             ],
             [
              0.4444444444444444,
              "#bd3786"
             ],
             [
              0.5555555555555556,
              "#d8576b"
             ],
             [
              0.6666666666666666,
              "#ed7953"
             ],
             [
              0.7777777777777778,
              "#fb9f3a"
             ],
             [
              0.8888888888888888,
              "#fdca26"
             ],
             [
              1,
              "#f0f921"
             ]
            ],
            "type": "heatmap"
           }
          ],
          "heatmapgl": [
           {
            "colorbar": {
             "outlinewidth": 0,
             "ticks": ""
            },
            "colorscale": [
             [
              0,
              "#0d0887"
             ],
             [
              0.1111111111111111,
              "#46039f"
             ],
             [
              0.2222222222222222,
              "#7201a8"
             ],
             [
              0.3333333333333333,
              "#9c179e"
             ],
             [
              0.4444444444444444,
              "#bd3786"
             ],
             [
              0.5555555555555556,
              "#d8576b"
             ],
             [
              0.6666666666666666,
              "#ed7953"
             ],
             [
              0.7777777777777778,
              "#fb9f3a"
             ],
             [
              0.8888888888888888,
              "#fdca26"
             ],
             [
              1,
              "#f0f921"
             ]
            ],
            "type": "heatmapgl"
           }
          ],
          "histogram": [
           {
            "marker": {
             "colorbar": {
              "outlinewidth": 0,
              "ticks": ""
             }
            },
            "type": "histogram"
           }
          ],
          "histogram2d": [
           {
            "colorbar": {
             "outlinewidth": 0,
             "ticks": ""
            },
            "colorscale": [
             [
              0,
              "#0d0887"
             ],
             [
              0.1111111111111111,
              "#46039f"
             ],
             [
              0.2222222222222222,
              "#7201a8"
             ],
             [
              0.3333333333333333,
              "#9c179e"
             ],
             [
              0.4444444444444444,
              "#bd3786"
             ],
             [
              0.5555555555555556,
              "#d8576b"
             ],
             [
              0.6666666666666666,
              "#ed7953"
             ],
             [
              0.7777777777777778,
              "#fb9f3a"
             ],
             [
              0.8888888888888888,
              "#fdca26"
             ],
             [
              1,
              "#f0f921"
             ]
            ],
            "type": "histogram2d"
           }
          ],
          "histogram2dcontour": [
           {
            "colorbar": {
             "outlinewidth": 0,
             "ticks": ""
            },
            "colorscale": [
             [
              0,
              "#0d0887"
             ],
             [
              0.1111111111111111,
              "#46039f"
             ],
             [
              0.2222222222222222,
              "#7201a8"
             ],
             [
              0.3333333333333333,
              "#9c179e"
             ],
             [
              0.4444444444444444,
              "#bd3786"
             ],
             [
              0.5555555555555556,
              "#d8576b"
             ],
             [
              0.6666666666666666,
              "#ed7953"
             ],
             [
              0.7777777777777778,
              "#fb9f3a"
             ],
             [
              0.8888888888888888,
              "#fdca26"
             ],
             [
              1,
              "#f0f921"
             ]
            ],
            "type": "histogram2dcontour"
           }
          ],
          "mesh3d": [
           {
            "colorbar": {
             "outlinewidth": 0,
             "ticks": ""
            },
            "type": "mesh3d"
           }
          ],
          "parcoords": [
           {
            "line": {
             "colorbar": {
              "outlinewidth": 0,
              "ticks": ""
             }
            },
            "type": "parcoords"
           }
          ],
          "pie": [
           {
            "automargin": true,
            "type": "pie"
           }
          ],
          "scatter": [
           {
            "marker": {
             "colorbar": {
              "outlinewidth": 0,
              "ticks": ""
             }
            },
            "type": "scatter"
           }
          ],
          "scatter3d": [
           {
            "line": {
             "colorbar": {
              "outlinewidth": 0,
              "ticks": ""
             }
            },
            "marker": {
             "colorbar": {
              "outlinewidth": 0,
              "ticks": ""
             }
            },
            "type": "scatter3d"
           }
          ],
          "scattercarpet": [
           {
            "marker": {
             "colorbar": {
              "outlinewidth": 0,
              "ticks": ""
             }
            },
            "type": "scattercarpet"
           }
          ],
          "scattergeo": [
           {
            "marker": {
             "colorbar": {
              "outlinewidth": 0,
              "ticks": ""
             }
            },
            "type": "scattergeo"
           }
          ],
          "scattergl": [
           {
            "marker": {
             "colorbar": {
              "outlinewidth": 0,
              "ticks": ""
             }
            },
            "type": "scattergl"
           }
          ],
          "scattermapbox": [
           {
            "marker": {
             "colorbar": {
              "outlinewidth": 0,
              "ticks": ""
             }
            },
            "type": "scattermapbox"
           }
          ],
          "scatterpolar": [
           {
            "marker": {
             "colorbar": {
              "outlinewidth": 0,
              "ticks": ""
             }
            },
            "type": "scatterpolar"
           }
          ],
          "scatterpolargl": [
           {
            "marker": {
             "colorbar": {
              "outlinewidth": 0,
              "ticks": ""
             }
            },
            "type": "scatterpolargl"
           }
          ],
          "scatterternary": [
           {
            "marker": {
             "colorbar": {
              "outlinewidth": 0,
              "ticks": ""
             }
            },
            "type": "scatterternary"
           }
          ],
          "surface": [
           {
            "colorbar": {
             "outlinewidth": 0,
             "ticks": ""
            },
            "colorscale": [
             [
              0,
              "#0d0887"
             ],
             [
              0.1111111111111111,
              "#46039f"
             ],
             [
              0.2222222222222222,
              "#7201a8"
             ],
             [
              0.3333333333333333,
              "#9c179e"
             ],
             [
              0.4444444444444444,
              "#bd3786"
             ],
             [
              0.5555555555555556,
              "#d8576b"
             ],
             [
              0.6666666666666666,
              "#ed7953"
             ],
             [
              0.7777777777777778,
              "#fb9f3a"
             ],
             [
              0.8888888888888888,
              "#fdca26"
             ],
             [
              1,
              "#f0f921"
             ]
            ],
            "type": "surface"
           }
          ],
          "table": [
           {
            "cells": {
             "fill": {
              "color": "#EBF0F8"
             },
             "line": {
              "color": "white"
             }
            },
            "header": {
             "fill": {
              "color": "#C8D4E3"
             },
             "line": {
              "color": "white"
             }
            },
            "type": "table"
           }
          ]
         },
         "layout": {
          "annotationdefaults": {
           "arrowcolor": "#2a3f5f",
           "arrowhead": 0,
           "arrowwidth": 1
          },
          "autotypenumbers": "strict",
          "coloraxis": {
           "colorbar": {
            "outlinewidth": 0,
            "ticks": ""
           }
          },
          "colorscale": {
           "diverging": [
            [
             0,
             "#8e0152"
            ],
            [
             0.1,
             "#c51b7d"
            ],
            [
             0.2,
             "#de77ae"
            ],
            [
             0.3,
             "#f1b6da"
            ],
            [
             0.4,
             "#fde0ef"
            ],
            [
             0.5,
             "#f7f7f7"
            ],
            [
             0.6,
             "#e6f5d0"
            ],
            [
             0.7,
             "#b8e186"
            ],
            [
             0.8,
             "#7fbc41"
            ],
            [
             0.9,
             "#4d9221"
            ],
            [
             1,
             "#276419"
            ]
           ],
           "sequential": [
            [
             0,
             "#0d0887"
            ],
            [
             0.1111111111111111,
             "#46039f"
            ],
            [
             0.2222222222222222,
             "#7201a8"
            ],
            [
             0.3333333333333333,
             "#9c179e"
            ],
            [
             0.4444444444444444,
             "#bd3786"
            ],
            [
             0.5555555555555556,
             "#d8576b"
            ],
            [
             0.6666666666666666,
             "#ed7953"
            ],
            [
             0.7777777777777778,
             "#fb9f3a"
            ],
            [
             0.8888888888888888,
             "#fdca26"
            ],
            [
             1,
             "#f0f921"
            ]
           ],
           "sequentialminus": [
            [
             0,
             "#0d0887"
            ],
            [
             0.1111111111111111,
             "#46039f"
            ],
            [
             0.2222222222222222,
             "#7201a8"
            ],
            [
             0.3333333333333333,
             "#9c179e"
            ],
            [
             0.4444444444444444,
             "#bd3786"
            ],
            [
             0.5555555555555556,
             "#d8576b"
            ],
            [
             0.6666666666666666,
             "#ed7953"
            ],
            [
             0.7777777777777778,
             "#fb9f3a"
            ],
            [
             0.8888888888888888,
             "#fdca26"
            ],
            [
             1,
             "#f0f921"
            ]
           ]
          },
          "colorway": [
           "#636efa",
           "#EF553B",
           "#00cc96",
           "#ab63fa",
           "#FFA15A",
           "#19d3f3",
           "#FF6692",
           "#B6E880",
           "#FF97FF",
           "#FECB52"
          ],
          "font": {
           "color": "#2a3f5f"
          },
          "geo": {
           "bgcolor": "white",
           "lakecolor": "white",
           "landcolor": "#E5ECF6",
           "showlakes": true,
           "showland": true,
           "subunitcolor": "white"
          },
          "hoverlabel": {
           "align": "left"
          },
          "hovermode": "closest",
          "mapbox": {
           "style": "light"
          },
          "paper_bgcolor": "white",
          "plot_bgcolor": "#E5ECF6",
          "polar": {
           "angularaxis": {
            "gridcolor": "white",
            "linecolor": "white",
            "ticks": ""
           },
           "bgcolor": "#E5ECF6",
           "radialaxis": {
            "gridcolor": "white",
            "linecolor": "white",
            "ticks": ""
           }
          },
          "scene": {
           "xaxis": {
            "backgroundcolor": "#E5ECF6",
            "gridcolor": "white",
            "gridwidth": 2,
            "linecolor": "white",
            "showbackground": true,
            "ticks": "",
            "zerolinecolor": "white"
           },
           "yaxis": {
            "backgroundcolor": "#E5ECF6",
            "gridcolor": "white",
            "gridwidth": 2,
            "linecolor": "white",
            "showbackground": true,
            "ticks": "",
            "zerolinecolor": "white"
           },
           "zaxis": {
            "backgroundcolor": "#E5ECF6",
            "gridcolor": "white",
            "gridwidth": 2,
            "linecolor": "white",
            "showbackground": true,
            "ticks": "",
            "zerolinecolor": "white"
           }
          },
          "shapedefaults": {
           "line": {
            "color": "#2a3f5f"
           }
          },
          "ternary": {
           "aaxis": {
            "gridcolor": "white",
            "linecolor": "white",
            "ticks": ""
           },
           "baxis": {
            "gridcolor": "white",
            "linecolor": "white",
            "ticks": ""
           },
           "bgcolor": "#E5ECF6",
           "caxis": {
            "gridcolor": "white",
            "linecolor": "white",
            "ticks": ""
           }
          },
          "title": {
           "x": 0.05
          },
          "xaxis": {
           "automargin": true,
           "gridcolor": "white",
           "linecolor": "white",
           "ticks": "",
           "title": {
            "standoff": 15
           },
           "zerolinecolor": "white",
           "zerolinewidth": 2
          },
          "yaxis": {
           "automargin": true,
           "gridcolor": "white",
           "linecolor": "white",
           "ticks": "",
           "title": {
            "standoff": 15
           },
           "zerolinecolor": "white",
           "zerolinewidth": 2
          }
         }
        },
        "title": {
         "text": "Inversions within euchromatin boundaries"
        },
        "violinmode": "overlay",
        "xaxis": {
         "anchor": "y",
         "categoryarray": [
          "Long",
          "Chakraborty",
          "Rech"
         ],
         "categoryorder": "array",
         "domain": [
          0,
          1
         ],
         "title": {
          "text": "Strain source"
         }
        },
        "yaxis": {
         "anchor": "x",
         "domain": [
          0,
          1
         ],
         "title": {
          "text": "Number of structural variants"
         }
        }
       }
      }
     },
     "metadata": {}
    }
   ],
   "source": [
    "fig = px.violin(df1, x='Source', y='INV',\n",
    "                 hover_name=\"Sample\", hover_data=[\"Sample\"], points='all',  box=True, color=\"Source\",\n",
    "                 color_discrete_map={'Chakraborty':'#8ac7dd','Long':'#c1dedc','Rech':'#e8ad9c'})\n",
    "\n",
    "fig.update_layout(\n",
    "    paper_bgcolor='rgba(255,255,255,255)',\n",
    "    plot_bgcolor='rgba(0,0,0,0)',\n",
    "    showlegend=False,\n",
    "    title=\"Inversions within euchromatin boundaries\",\n",
    "    xaxis_title=\"Strain source\",\n",
    "    yaxis_title=\"Number of structural variants\",\n",
    "    legend_title=\"Legend Title\",\n",
    "    font=dict(size=13,color=\"#212529\")) \n",
    "\n",
    "fig.show()"
   ]
  },
  {
   "cell_type": "code",
   "execution_count": 15,
   "metadata": {},
   "outputs": [
    {
     "output_type": "display_data",
     "data": {
      "application/vnd.plotly.v1+json": {
       "config": {
        "plotlyServerURL": "https://plot.ly"
       },
       "data": [
        {
         "alignmentgroup": "True",
         "box": {
          "visible": true
         },
         "customdata": [
          [
           "I23"
          ],
          [
           "T29A"
          ],
          [
           "B59"
          ],
          [
           "N25"
          ],
          [
           "ZH26"
          ]
         ],
         "hovertemplate": "<b>%{hovertext}</b><br><br>Source=%{x}<br>total_CNV=%{y}<br>Sample=%{customdata[0]}<extra></extra>",
         "hovertext": [
          "I23",
          "T29A",
          "B59",
          "N25",
          "ZH26"
         ],
         "legendgroup": "Long",
         "marker": {
          "color": "#c1dedc"
         },
         "name": "Long",
         "offsetgroup": "Long",
         "orientation": "v",
         "points": "all",
         "scalegroup": "True",
         "showlegend": true,
         "type": "violin",
         "x": [
          "Long",
          "Long",
          "Long",
          "Long",
          "Long"
         ],
         "x0": " ",
         "xaxis": "x",
         "y": [
          170,
          252,
          233,
          205,
          378
         ],
         "y0": " ",
         "yaxis": "y"
        },
        {
         "alignmentgroup": "True",
         "box": {
          "visible": true
         },
         "customdata": [
          [
           "A1"
          ],
          [
           "A2"
          ],
          [
           "A3"
          ],
          [
           "A4"
          ],
          [
           "A5"
          ],
          [
           "A6"
          ],
          [
           "A7"
          ],
          [
           "AB8"
          ],
          [
           "B1"
          ],
          [
           "B2"
          ],
          [
           "B3"
          ],
          [
           "B4"
          ],
          [
           "B6"
          ],
          [
           "ORE"
          ]
         ],
         "hovertemplate": "<b>%{hovertext}</b><br><br>Source=%{x}<br>total_CNV=%{y}<br>Sample=%{customdata[0]}<extra></extra>",
         "hovertext": [
          "A1",
          "A2",
          "A3",
          "A4",
          "A5",
          "A6",
          "A7",
          "AB8",
          "B1",
          "B2",
          "B3",
          "B4",
          "B6",
          "ORE"
         ],
         "legendgroup": "Chakraborty",
         "marker": {
          "color": "#8ac7dd"
         },
         "name": "Chakraborty",
         "offsetgroup": "Chakraborty",
         "orientation": "v",
         "points": "all",
         "scalegroup": "True",
         "showlegend": true,
         "type": "violin",
         "x": [
          "Chakraborty",
          "Chakraborty",
          "Chakraborty",
          "Chakraborty",
          "Chakraborty",
          "Chakraborty",
          "Chakraborty",
          "Chakraborty",
          "Chakraborty",
          "Chakraborty",
          "Chakraborty",
          "Chakraborty",
          "Chakraborty",
          "Chakraborty"
         ],
         "x0": " ",
         "xaxis": "x",
         "y": [
          181,
          179,
          179,
          193,
          176,
          185,
          251,
          186,
          190,
          176,
          191,
          171,
          165,
          178
         ],
         "y0": " ",
         "yaxis": "y"
        },
        {
         "alignmentgroup": "True",
         "box": {
          "visible": true
         },
         "customdata": [
          [
           "AKA017"
          ],
          [
           "AKA018"
          ],
          [
           "COR014"
          ],
          [
           "COR018"
          ],
          [
           "COR023"
          ],
          [
           "COR025"
          ],
          [
           "GIM012"
          ],
          [
           "GIM024"
          ],
          [
           "JUT008"
          ],
          [
           "JUT011"
          ],
          [
           "KIE094"
          ],
          [
           "LUN004"
          ],
          [
           "LUN007"
          ],
          [
           "MUN008"
          ],
          [
           "MUN009"
          ],
          [
           "MUN013"
          ],
          [
           "MUN015"
          ],
          [
           "MUN016"
          ],
          [
           "MUN020"
          ],
          [
           "RAL059"
          ],
          [
           "RAL091"
          ],
          [
           "RAL176"
          ],
          [
           "RAL177"
          ],
          [
           "RAL375"
          ],
          [
           "RAL426"
          ],
          [
           "RAL737"
          ],
          [
           "RAL855"
          ],
          [
           "SLA001"
          ],
          [
           "STO022"
          ],
          [
           "TEN015"
          ],
          [
           "TOM007"
          ],
          [
           "TOM008"
          ]
         ],
         "hovertemplate": "<b>%{hovertext}</b><br><br>Source=%{x}<br>total_CNV=%{y}<br>Sample=%{customdata[0]}<extra></extra>",
         "hovertext": [
          "AKA017",
          "AKA018",
          "COR014",
          "COR018",
          "COR023",
          "COR025",
          "GIM012",
          "GIM024",
          "JUT008",
          "JUT011",
          "KIE094",
          "LUN004",
          "LUN007",
          "MUN008",
          "MUN009",
          "MUN013",
          "MUN015",
          "MUN016",
          "MUN020",
          "RAL059",
          "RAL091",
          "RAL176",
          "RAL177",
          "RAL375",
          "RAL426",
          "RAL737",
          "RAL855",
          "SLA001",
          "STO022",
          "TEN015",
          "TOM007",
          "TOM008"
         ],
         "legendgroup": "Rech",
         "marker": {
          "color": "#e8ad9c"
         },
         "name": "Rech",
         "offsetgroup": "Rech",
         "orientation": "v",
         "points": "all",
         "scalegroup": "True",
         "showlegend": true,
         "type": "violin",
         "x": [
          "Rech",
          "Rech",
          "Rech",
          "Rech",
          "Rech",
          "Rech",
          "Rech",
          "Rech",
          "Rech",
          "Rech",
          "Rech",
          "Rech",
          "Rech",
          "Rech",
          "Rech",
          "Rech",
          "Rech",
          "Rech",
          "Rech",
          "Rech",
          "Rech",
          "Rech",
          "Rech",
          "Rech",
          "Rech",
          "Rech",
          "Rech",
          "Rech",
          "Rech",
          "Rech",
          "Rech",
          "Rech"
         ],
         "x0": " ",
         "xaxis": "x",
         "y": [
          203,
          253,
          246,
          359,
          358,
          396,
          310,
          205,
          210,
          260,
          292,
          265,
          335,
          339,
          303,
          339,
          318,
          205,
          318,
          296,
          380,
          407,
          228,
          187,
          389,
          292,
          357,
          384,
          300,
          383,
          246,
          311
         ],
         "y0": " ",
         "yaxis": "y"
        }
       ],
       "layout": {
        "font": {
         "color": "#212529",
         "size": 13
        },
        "legend": {
         "title": {
          "text": "Legend Title"
         },
         "tracegroupgap": 0
        },
        "margin": {
         "t": 60
        },
        "paper_bgcolor": "rgba(255,255,255,255)",
        "plot_bgcolor": "rgba(0,0,0,0)",
        "showlegend": false,
        "template": {
         "data": {
          "bar": [
           {
            "error_x": {
             "color": "#2a3f5f"
            },
            "error_y": {
             "color": "#2a3f5f"
            },
            "marker": {
             "line": {
              "color": "#E5ECF6",
              "width": 0.5
             }
            },
            "type": "bar"
           }
          ],
          "barpolar": [
           {
            "marker": {
             "line": {
              "color": "#E5ECF6",
              "width": 0.5
             }
            },
            "type": "barpolar"
           }
          ],
          "carpet": [
           {
            "aaxis": {
             "endlinecolor": "#2a3f5f",
             "gridcolor": "white",
             "linecolor": "white",
             "minorgridcolor": "white",
             "startlinecolor": "#2a3f5f"
            },
            "baxis": {
             "endlinecolor": "#2a3f5f",
             "gridcolor": "white",
             "linecolor": "white",
             "minorgridcolor": "white",
             "startlinecolor": "#2a3f5f"
            },
            "type": "carpet"
           }
          ],
          "choropleth": [
           {
            "colorbar": {
             "outlinewidth": 0,
             "ticks": ""
            },
            "type": "choropleth"
           }
          ],
          "contour": [
           {
            "colorbar": {
             "outlinewidth": 0,
             "ticks": ""
            },
            "colorscale": [
             [
              0,
              "#0d0887"
             ],
             [
              0.1111111111111111,
              "#46039f"
             ],
             [
              0.2222222222222222,
              "#7201a8"
             ],
             [
              0.3333333333333333,
              "#9c179e"
             ],
             [
              0.4444444444444444,
              "#bd3786"
             ],
             [
              0.5555555555555556,
              "#d8576b"
             ],
             [
              0.6666666666666666,
              "#ed7953"
             ],
             [
              0.7777777777777778,
              "#fb9f3a"
             ],
             [
              0.8888888888888888,
              "#fdca26"
             ],
             [
              1,
              "#f0f921"
             ]
            ],
            "type": "contour"
           }
          ],
          "contourcarpet": [
           {
            "colorbar": {
             "outlinewidth": 0,
             "ticks": ""
            },
            "type": "contourcarpet"
           }
          ],
          "heatmap": [
           {
            "colorbar": {
             "outlinewidth": 0,
             "ticks": ""
            },
            "colorscale": [
             [
              0,
              "#0d0887"
             ],
             [
              0.1111111111111111,
              "#46039f"
             ],
             [
              0.2222222222222222,
              "#7201a8"
             ],
             [
              0.3333333333333333,
              "#9c179e"
             ],
             [
              0.4444444444444444,
              "#bd3786"
             ],
             [
              0.5555555555555556,
              "#d8576b"
             ],
             [
              0.6666666666666666,
              "#ed7953"
             ],
             [
              0.7777777777777778,
              "#fb9f3a"
             ],
             [
              0.8888888888888888,
              "#fdca26"
             ],
             [
              1,
              "#f0f921"
             ]
            ],
            "type": "heatmap"
           }
          ],
          "heatmapgl": [
           {
            "colorbar": {
             "outlinewidth": 0,
             "ticks": ""
            },
            "colorscale": [
             [
              0,
              "#0d0887"
             ],
             [
              0.1111111111111111,
              "#46039f"
             ],
             [
              0.2222222222222222,
              "#7201a8"
             ],
             [
              0.3333333333333333,
              "#9c179e"
             ],
             [
              0.4444444444444444,
              "#bd3786"
             ],
             [
              0.5555555555555556,
              "#d8576b"
             ],
             [
              0.6666666666666666,
              "#ed7953"
             ],
             [
              0.7777777777777778,
              "#fb9f3a"
             ],
             [
              0.8888888888888888,
              "#fdca26"
             ],
             [
              1,
              "#f0f921"
             ]
            ],
            "type": "heatmapgl"
           }
          ],
          "histogram": [
           {
            "marker": {
             "colorbar": {
              "outlinewidth": 0,
              "ticks": ""
             }
            },
            "type": "histogram"
           }
          ],
          "histogram2d": [
           {
            "colorbar": {
             "outlinewidth": 0,
             "ticks": ""
            },
            "colorscale": [
             [
              0,
              "#0d0887"
             ],
             [
              0.1111111111111111,
              "#46039f"
             ],
             [
              0.2222222222222222,
              "#7201a8"
             ],
             [
              0.3333333333333333,
              "#9c179e"
             ],
             [
              0.4444444444444444,
              "#bd3786"
             ],
             [
              0.5555555555555556,
              "#d8576b"
             ],
             [
              0.6666666666666666,
              "#ed7953"
             ],
             [
              0.7777777777777778,
              "#fb9f3a"
             ],
             [
              0.8888888888888888,
              "#fdca26"
             ],
             [
              1,
              "#f0f921"
             ]
            ],
            "type": "histogram2d"
           }
          ],
          "histogram2dcontour": [
           {
            "colorbar": {
             "outlinewidth": 0,
             "ticks": ""
            },
            "colorscale": [
             [
              0,
              "#0d0887"
             ],
             [
              0.1111111111111111,
              "#46039f"
             ],
             [
              0.2222222222222222,
              "#7201a8"
             ],
             [
              0.3333333333333333,
              "#9c179e"
             ],
             [
              0.4444444444444444,
              "#bd3786"
             ],
             [
              0.5555555555555556,
              "#d8576b"
             ],
             [
              0.6666666666666666,
              "#ed7953"
             ],
             [
              0.7777777777777778,
              "#fb9f3a"
             ],
             [
              0.8888888888888888,
              "#fdca26"
             ],
             [
              1,
              "#f0f921"
             ]
            ],
            "type": "histogram2dcontour"
           }
          ],
          "mesh3d": [
           {
            "colorbar": {
             "outlinewidth": 0,
             "ticks": ""
            },
            "type": "mesh3d"
           }
          ],
          "parcoords": [
           {
            "line": {
             "colorbar": {
              "outlinewidth": 0,
              "ticks": ""
             }
            },
            "type": "parcoords"
           }
          ],
          "pie": [
           {
            "automargin": true,
            "type": "pie"
           }
          ],
          "scatter": [
           {
            "marker": {
             "colorbar": {
              "outlinewidth": 0,
              "ticks": ""
             }
            },
            "type": "scatter"
           }
          ],
          "scatter3d": [
           {
            "line": {
             "colorbar": {
              "outlinewidth": 0,
              "ticks": ""
             }
            },
            "marker": {
             "colorbar": {
              "outlinewidth": 0,
              "ticks": ""
             }
            },
            "type": "scatter3d"
           }
          ],
          "scattercarpet": [
           {
            "marker": {
             "colorbar": {
              "outlinewidth": 0,
              "ticks": ""
             }
            },
            "type": "scattercarpet"
           }
          ],
          "scattergeo": [
           {
            "marker": {
             "colorbar": {
              "outlinewidth": 0,
              "ticks": ""
             }
            },
            "type": "scattergeo"
           }
          ],
          "scattergl": [
           {
            "marker": {
             "colorbar": {
              "outlinewidth": 0,
              "ticks": ""
             }
            },
            "type": "scattergl"
           }
          ],
          "scattermapbox": [
           {
            "marker": {
             "colorbar": {
              "outlinewidth": 0,
              "ticks": ""
             }
            },
            "type": "scattermapbox"
           }
          ],
          "scatterpolar": [
           {
            "marker": {
             "colorbar": {
              "outlinewidth": 0,
              "ticks": ""
             }
            },
            "type": "scatterpolar"
           }
          ],
          "scatterpolargl": [
           {
            "marker": {
             "colorbar": {
              "outlinewidth": 0,
              "ticks": ""
             }
            },
            "type": "scatterpolargl"
           }
          ],
          "scatterternary": [
           {
            "marker": {
             "colorbar": {
              "outlinewidth": 0,
              "ticks": ""
             }
            },
            "type": "scatterternary"
           }
          ],
          "surface": [
           {
            "colorbar": {
             "outlinewidth": 0,
             "ticks": ""
            },
            "colorscale": [
             [
              0,
              "#0d0887"
             ],
             [
              0.1111111111111111,
              "#46039f"
             ],
             [
              0.2222222222222222,
              "#7201a8"
             ],
             [
              0.3333333333333333,
              "#9c179e"
             ],
             [
              0.4444444444444444,
              "#bd3786"
             ],
             [
              0.5555555555555556,
              "#d8576b"
             ],
             [
              0.6666666666666666,
              "#ed7953"
             ],
             [
              0.7777777777777778,
              "#fb9f3a"
             ],
             [
              0.8888888888888888,
              "#fdca26"
             ],
             [
              1,
              "#f0f921"
             ]
            ],
            "type": "surface"
           }
          ],
          "table": [
           {
            "cells": {
             "fill": {
              "color": "#EBF0F8"
             },
             "line": {
              "color": "white"
             }
            },
            "header": {
             "fill": {
              "color": "#C8D4E3"
             },
             "line": {
              "color": "white"
             }
            },
            "type": "table"
           }
          ]
         },
         "layout": {
          "annotationdefaults": {
           "arrowcolor": "#2a3f5f",
           "arrowhead": 0,
           "arrowwidth": 1
          },
          "autotypenumbers": "strict",
          "coloraxis": {
           "colorbar": {
            "outlinewidth": 0,
            "ticks": ""
           }
          },
          "colorscale": {
           "diverging": [
            [
             0,
             "#8e0152"
            ],
            [
             0.1,
             "#c51b7d"
            ],
            [
             0.2,
             "#de77ae"
            ],
            [
             0.3,
             "#f1b6da"
            ],
            [
             0.4,
             "#fde0ef"
            ],
            [
             0.5,
             "#f7f7f7"
            ],
            [
             0.6,
             "#e6f5d0"
            ],
            [
             0.7,
             "#b8e186"
            ],
            [
             0.8,
             "#7fbc41"
            ],
            [
             0.9,
             "#4d9221"
            ],
            [
             1,
             "#276419"
            ]
           ],
           "sequential": [
            [
             0,
             "#0d0887"
            ],
            [
             0.1111111111111111,
             "#46039f"
            ],
            [
             0.2222222222222222,
             "#7201a8"
            ],
            [
             0.3333333333333333,
             "#9c179e"
            ],
            [
             0.4444444444444444,
             "#bd3786"
            ],
            [
             0.5555555555555556,
             "#d8576b"
            ],
            [
             0.6666666666666666,
             "#ed7953"
            ],
            [
             0.7777777777777778,
             "#fb9f3a"
            ],
            [
             0.8888888888888888,
             "#fdca26"
            ],
            [
             1,
             "#f0f921"
            ]
           ],
           "sequentialminus": [
            [
             0,
             "#0d0887"
            ],
            [
             0.1111111111111111,
             "#46039f"
            ],
            [
             0.2222222222222222,
             "#7201a8"
            ],
            [
             0.3333333333333333,
             "#9c179e"
            ],
            [
             0.4444444444444444,
             "#bd3786"
            ],
            [
             0.5555555555555556,
             "#d8576b"
            ],
            [
             0.6666666666666666,
             "#ed7953"
            ],
            [
             0.7777777777777778,
             "#fb9f3a"
            ],
            [
             0.8888888888888888,
             "#fdca26"
            ],
            [
             1,
             "#f0f921"
            ]
           ]
          },
          "colorway": [
           "#636efa",
           "#EF553B",
           "#00cc96",
           "#ab63fa",
           "#FFA15A",
           "#19d3f3",
           "#FF6692",
           "#B6E880",
           "#FF97FF",
           "#FECB52"
          ],
          "font": {
           "color": "#2a3f5f"
          },
          "geo": {
           "bgcolor": "white",
           "lakecolor": "white",
           "landcolor": "#E5ECF6",
           "showlakes": true,
           "showland": true,
           "subunitcolor": "white"
          },
          "hoverlabel": {
           "align": "left"
          },
          "hovermode": "closest",
          "mapbox": {
           "style": "light"
          },
          "paper_bgcolor": "white",
          "plot_bgcolor": "#E5ECF6",
          "polar": {
           "angularaxis": {
            "gridcolor": "white",
            "linecolor": "white",
            "ticks": ""
           },
           "bgcolor": "#E5ECF6",
           "radialaxis": {
            "gridcolor": "white",
            "linecolor": "white",
            "ticks": ""
           }
          },
          "scene": {
           "xaxis": {
            "backgroundcolor": "#E5ECF6",
            "gridcolor": "white",
            "gridwidth": 2,
            "linecolor": "white",
            "showbackground": true,
            "ticks": "",
            "zerolinecolor": "white"
           },
           "yaxis": {
            "backgroundcolor": "#E5ECF6",
            "gridcolor": "white",
            "gridwidth": 2,
            "linecolor": "white",
            "showbackground": true,
            "ticks": "",
            "zerolinecolor": "white"
           },
           "zaxis": {
            "backgroundcolor": "#E5ECF6",
            "gridcolor": "white",
            "gridwidth": 2,
            "linecolor": "white",
            "showbackground": true,
            "ticks": "",
            "zerolinecolor": "white"
           }
          },
          "shapedefaults": {
           "line": {
            "color": "#2a3f5f"
           }
          },
          "ternary": {
           "aaxis": {
            "gridcolor": "white",
            "linecolor": "white",
            "ticks": ""
           },
           "baxis": {
            "gridcolor": "white",
            "linecolor": "white",
            "ticks": ""
           },
           "bgcolor": "#E5ECF6",
           "caxis": {
            "gridcolor": "white",
            "linecolor": "white",
            "ticks": ""
           }
          },
          "title": {
           "x": 0.05
          },
          "xaxis": {
           "automargin": true,
           "gridcolor": "white",
           "linecolor": "white",
           "ticks": "",
           "title": {
            "standoff": 15
           },
           "zerolinecolor": "white",
           "zerolinewidth": 2
          },
          "yaxis": {
           "automargin": true,
           "gridcolor": "white",
           "linecolor": "white",
           "ticks": "",
           "title": {
            "standoff": 15
           },
           "zerolinecolor": "white",
           "zerolinewidth": 2
          }
         }
        },
        "title": {
         "text": "Copy number variants within euchromatin boundaries"
        },
        "violinmode": "overlay",
        "xaxis": {
         "anchor": "y",
         "categoryarray": [
          "Long",
          "Chakraborty",
          "Rech"
         ],
         "categoryorder": "array",
         "domain": [
          0,
          1
         ],
         "title": {
          "text": "Strain source"
         }
        },
        "yaxis": {
         "anchor": "x",
         "domain": [
          0,
          1
         ],
         "title": {
          "text": "Number of structural variants"
         }
        }
       }
      }
     },
     "metadata": {}
    }
   ],
   "source": [
    "df1['total_CNV']= df1['CNV_R']+df1['CNV_Q']\n",
    "fig = px.violin(df1, x='Source', y='total_CNV',\n",
    "                 hover_name=\"Sample\", hover_data=[\"Sample\"], points='all',  box=True, color=\"Source\", \n",
    "                 color_discrete_map={'Chakraborty':'#8ac7dd','Long':'#c1dedc','Rech':'#e8ad9c'})\n",
    "\n",
    "fig.update_layout(\n",
    "    paper_bgcolor='rgba(255,255,255,255)',\n",
    "    plot_bgcolor='rgba(0,0,0,0)',\n",
    "    showlegend=False,\n",
    "    title=\"Copy number variants within euchromatin boundaries\",\n",
    "    xaxis_title=\"Strain source\",\n",
    "    yaxis_title=\"Number of structural variants\",\n",
    "    legend_title=\"Legend Title\",\n",
    "    font=dict(size=13,color=\"#212529\")) \n",
    "\n",
    "fig.show()"
   ]
  },
  {
   "cell_type": "code",
   "execution_count": null,
   "metadata": {},
   "outputs": [],
   "source": []
  }
 ]
}